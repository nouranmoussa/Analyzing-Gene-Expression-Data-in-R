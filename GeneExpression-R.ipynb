{
  "nbformat": 4,
  "nbformat_minor": 0,
  "metadata": {
    "colab": {
      "provenance": []
    },
    "kernelspec": {
      "name": "ir",
      "display_name": "R"
    },
    "language_info": {
      "name": "R"
    }
  },
  "cells": [
    {
      "cell_type": "markdown",
      "source": [
        "# 1. Load the Data"
      ],
      "metadata": {
        "id": "rajX4q3g0VAs"
      }
    },
    {
      "cell_type": "code",
      "source": [
        "data <- read.csv(\"/content/expression_data.csv\", row.names = 1)"
      ],
      "metadata": {
        "id": "pdeg7sqyzst-"
      },
      "execution_count": 2,
      "outputs": []
    },
    {
      "cell_type": "markdown",
      "source": [
        "# 2. Data Exploration"
      ],
      "metadata": {
        "id": "GNf5wcgX0X1O"
      }
    },
    {
      "cell_type": "code",
      "source": [
        "# Display the dataset\n",
        "head(data)"
      ],
      "metadata": {
        "colab": {
          "base_uri": "https://localhost:8080/",
          "height": 286
        },
        "id": "-NLxDPIdz2r4",
        "outputId": "58ccce6c-23e6-4cfa-f318-2da078af09e0"
      },
      "execution_count": 35,
      "outputs": [
        {
          "output_type": "display_data",
          "data": {
            "text/html": [
              "<table class=\"dataframe\">\n",
              "<caption>A data.frame: 6 × 9</caption>\n",
              "<thead>\n",
              "\t<tr><th></th><th scope=col>SRR1039508</th><th scope=col>SRR1039509</th><th scope=col>SRR1039512</th><th scope=col>SRR1039513</th><th scope=col>SRR1039516</th><th scope=col>SRR1039517</th><th scope=col>SRR1039520</th><th scope=col>SRR1039521</th><th scope=col>Average</th></tr>\n",
              "\t<tr><th></th><th scope=col>&lt;int&gt;</th><th scope=col>&lt;int&gt;</th><th scope=col>&lt;int&gt;</th><th scope=col>&lt;int&gt;</th><th scope=col>&lt;int&gt;</th><th scope=col>&lt;int&gt;</th><th scope=col>&lt;int&gt;</th><th scope=col>&lt;int&gt;</th><th scope=col>&lt;dbl&gt;</th></tr>\n",
              "</thead>\n",
              "<tbody>\n",
              "\t<tr><th scope=row>ENSG00000000003</th><td>679</td><td>448</td><td>873</td><td>408</td><td>1138</td><td>1047</td><td>770</td><td>572</td><td>741.875</td></tr>\n",
              "\t<tr><th scope=row>ENSG00000000005</th><td>  0</td><td>  0</td><td>  0</td><td>  0</td><td>   0</td><td>   0</td><td>  0</td><td>  0</td><td>  0.000</td></tr>\n",
              "\t<tr><th scope=row>ENSG00000000419</th><td>467</td><td>515</td><td>621</td><td>365</td><td> 587</td><td> 799</td><td>417</td><td>508</td><td>534.875</td></tr>\n",
              "\t<tr><th scope=row>ENSG00000000457</th><td>260</td><td>211</td><td>263</td><td>164</td><td> 245</td><td> 331</td><td>233</td><td>229</td><td>242.000</td></tr>\n",
              "\t<tr><th scope=row>ENSG00000000460</th><td> 60</td><td> 55</td><td> 40</td><td> 35</td><td>  78</td><td>  63</td><td> 76</td><td> 60</td><td> 58.375</td></tr>\n",
              "\t<tr><th scope=row>ENSG00000000938</th><td>  0</td><td>  0</td><td>  2</td><td>  0</td><td>   1</td><td>   0</td><td>  0</td><td>  0</td><td>  0.375</td></tr>\n",
              "</tbody>\n",
              "</table>\n"
            ],
            "text/markdown": "\nA data.frame: 6 × 9\n\n| <!--/--> | SRR1039508 &lt;int&gt; | SRR1039509 &lt;int&gt; | SRR1039512 &lt;int&gt; | SRR1039513 &lt;int&gt; | SRR1039516 &lt;int&gt; | SRR1039517 &lt;int&gt; | SRR1039520 &lt;int&gt; | SRR1039521 &lt;int&gt; | Average &lt;dbl&gt; |\n|---|---|---|---|---|---|---|---|---|---|\n| ENSG00000000003 | 679 | 448 | 873 | 408 | 1138 | 1047 | 770 | 572 | 741.875 |\n| ENSG00000000005 |   0 |   0 |   0 |   0 |    0 |    0 |   0 |   0 |   0.000 |\n| ENSG00000000419 | 467 | 515 | 621 | 365 |  587 |  799 | 417 | 508 | 534.875 |\n| ENSG00000000457 | 260 | 211 | 263 | 164 |  245 |  331 | 233 | 229 | 242.000 |\n| ENSG00000000460 |  60 |  55 |  40 |  35 |   78 |   63 |  76 |  60 |  58.375 |\n| ENSG00000000938 |   0 |   0 |   2 |   0 |    1 |    0 |   0 |   0 |   0.375 |\n\n",
            "text/latex": "A data.frame: 6 × 9\n\\begin{tabular}{r|lllllllll}\n  & SRR1039508 & SRR1039509 & SRR1039512 & SRR1039513 & SRR1039516 & SRR1039517 & SRR1039520 & SRR1039521 & Average\\\\\n  & <int> & <int> & <int> & <int> & <int> & <int> & <int> & <int> & <dbl>\\\\\n\\hline\n\tENSG00000000003 & 679 & 448 & 873 & 408 & 1138 & 1047 & 770 & 572 & 741.875\\\\\n\tENSG00000000005 &   0 &   0 &   0 &   0 &    0 &    0 &   0 &   0 &   0.000\\\\\n\tENSG00000000419 & 467 & 515 & 621 & 365 &  587 &  799 & 417 & 508 & 534.875\\\\\n\tENSG00000000457 & 260 & 211 & 263 & 164 &  245 &  331 & 233 & 229 & 242.000\\\\\n\tENSG00000000460 &  60 &  55 &  40 &  35 &   78 &   63 &  76 &  60 &  58.375\\\\\n\tENSG00000000938 &   0 &   0 &   2 &   0 &    1 &    0 &   0 &   0 &   0.375\\\\\n\\end{tabular}\n",
            "text/plain": [
              "                SRR1039508 SRR1039509 SRR1039512 SRR1039513 SRR1039516\n",
              "ENSG00000000003 679        448        873        408        1138      \n",
              "ENSG00000000005   0          0          0          0           0      \n",
              "ENSG00000000419 467        515        621        365         587      \n",
              "ENSG00000000457 260        211        263        164         245      \n",
              "ENSG00000000460  60         55         40         35          78      \n",
              "ENSG00000000938   0          0          2          0           1      \n",
              "                SRR1039517 SRR1039520 SRR1039521 Average\n",
              "ENSG00000000003 1047       770        572        741.875\n",
              "ENSG00000000005    0         0          0          0.000\n",
              "ENSG00000000419  799       417        508        534.875\n",
              "ENSG00000000457  331       233        229        242.000\n",
              "ENSG00000000460   63        76         60         58.375\n",
              "ENSG00000000938    0         0          0          0.375"
            ]
          },
          "metadata": {}
        }
      ]
    },
    {
      "cell_type": "code",
      "source": [
        "# Count the number of observations (rows)\n",
        "num_observations <- nrow(data)\n",
        "print(num_observations)"
      ],
      "metadata": {
        "colab": {
          "base_uri": "https://localhost:8080/"
        },
        "id": "1KPoK4v7z8Vc",
        "outputId": "b7a77ed4-b901-4f1a-ac6a-4b2b5935b8a4"
      },
      "execution_count": 4,
      "outputs": [
        {
          "output_type": "stream",
          "name": "stdout",
          "text": [
            "[1] 64102\n"
          ]
        }
      ]
    },
    {
      "cell_type": "markdown",
      "source": [
        "# 3. Data Filtering"
      ],
      "metadata": {
        "id": "xdQ39a1z0bR1"
      }
    },
    {
      "cell_type": "code",
      "source": [
        "library(dplyr)\n",
        "# Filter the dataset to include only rows where SRR1039508 is equal to 0\n",
        "filtered_data_1 <- filter(data, SRR1039508 == 0)\n",
        "filtered_data_1"
      ],
      "metadata": {
        "colab": {
          "base_uri": "https://localhost:8080/",
          "height": 1000
        },
        "id": "4BebVEGD0GUi",
        "outputId": "622e256b-f042-46d1-bb2e-8e2067945157"
      },
      "execution_count": 7,
      "outputs": [
        {
          "output_type": "display_data",
          "data": {
            "text/html": [
              "<table class=\"dataframe\">\n",
              "<caption>A data.frame: 39469 × 8</caption>\n",
              "<thead>\n",
              "\t<tr><th></th><th scope=col>SRR1039508</th><th scope=col>SRR1039509</th><th scope=col>SRR1039512</th><th scope=col>SRR1039513</th><th scope=col>SRR1039516</th><th scope=col>SRR1039517</th><th scope=col>SRR1039520</th><th scope=col>SRR1039521</th></tr>\n",
              "\t<tr><th></th><th scope=col>&lt;int&gt;</th><th scope=col>&lt;int&gt;</th><th scope=col>&lt;int&gt;</th><th scope=col>&lt;int&gt;</th><th scope=col>&lt;int&gt;</th><th scope=col>&lt;int&gt;</th><th scope=col>&lt;int&gt;</th><th scope=col>&lt;int&gt;</th></tr>\n",
              "</thead>\n",
              "<tbody>\n",
              "\t<tr><th scope=row>ENSG00000000005</th><td>0</td><td>0</td><td>0</td><td>0</td><td>0</td><td>0</td><td>0</td><td>0</td></tr>\n",
              "\t<tr><th scope=row>ENSG00000000938</th><td>0</td><td>0</td><td>2</td><td>0</td><td>1</td><td>0</td><td>0</td><td>0</td></tr>\n",
              "\t<tr><th scope=row>ENSG00000002726</th><td>0</td><td>0</td><td>1</td><td>0</td><td>0</td><td>0</td><td>0</td><td>0</td></tr>\n",
              "\t<tr><th scope=row>ENSG00000003147</th><td>0</td><td>0</td><td>0</td><td>1</td><td>1</td><td>2</td><td>2</td><td>0</td></tr>\n",
              "\t<tr><th scope=row>ENSG00000004809</th><td>0</td><td>0</td><td>0</td><td>0</td><td>0</td><td>0</td><td>0</td><td>0</td></tr>\n",
              "\t<tr><th scope=row>ENSG00000004848</th><td>0</td><td>0</td><td>0</td><td>0</td><td>0</td><td>0</td><td>0</td><td>0</td></tr>\n",
              "\t<tr><th scope=row>ENSG00000004939</th><td>0</td><td>0</td><td>0</td><td>0</td><td>0</td><td>0</td><td>0</td><td>0</td></tr>\n",
              "\t<tr><th scope=row>ENSG00000004948</th><td>0</td><td>0</td><td>0</td><td>0</td><td>0</td><td>0</td><td>0</td><td>0</td></tr>\n",
              "\t<tr><th scope=row>ENSG00000005001</th><td>0</td><td>0</td><td>0</td><td>0</td><td>0</td><td>0</td><td>0</td><td>0</td></tr>\n",
              "\t<tr><th scope=row>ENSG00000005421</th><td>0</td><td>0</td><td>0</td><td>0</td><td>1</td><td>0</td><td>0</td><td>0</td></tr>\n",
              "\t<tr><th scope=row>ENSG00000005981</th><td>0</td><td>0</td><td>0</td><td>0</td><td>0</td><td>0</td><td>0</td><td>0</td></tr>\n",
              "\t<tr><th scope=row>ENSG00000006047</th><td>0</td><td>1</td><td>1</td><td>0</td><td>1</td><td>0</td><td>3</td><td>0</td></tr>\n",
              "\t<tr><th scope=row>ENSG00000006059</th><td>0</td><td>0</td><td>0</td><td>0</td><td>0</td><td>0</td><td>0</td><td>0</td></tr>\n",
              "\t<tr><th scope=row>ENSG00000006071</th><td>0</td><td>0</td><td>0</td><td>0</td><td>0</td><td>0</td><td>0</td><td>0</td></tr>\n",
              "\t<tr><th scope=row>ENSG00000006074</th><td>0</td><td>0</td><td>0</td><td>0</td><td>0</td><td>0</td><td>0</td><td>1</td></tr>\n",
              "\t<tr><th scope=row>ENSG00000006075</th><td>0</td><td>0</td><td>0</td><td>0</td><td>0</td><td>0</td><td>0</td><td>0</td></tr>\n",
              "\t<tr><th scope=row>ENSG00000006116</th><td>0</td><td>0</td><td>0</td><td>0</td><td>0</td><td>0</td><td>0</td><td>0</td></tr>\n",
              "\t<tr><th scope=row>ENSG00000006128</th><td>0</td><td>4</td><td>1</td><td>0</td><td>0</td><td>0</td><td>0</td><td>0</td></tr>\n",
              "\t<tr><th scope=row>ENSG00000006377</th><td>0</td><td>0</td><td>0</td><td>0</td><td>0</td><td>0</td><td>0</td><td>0</td></tr>\n",
              "\t<tr><th scope=row>ENSG00000006555</th><td>0</td><td>0</td><td>0</td><td>0</td><td>0</td><td>0</td><td>0</td><td>0</td></tr>\n",
              "\t<tr><th scope=row>ENSG00000006611</th><td>0</td><td>0</td><td>0</td><td>0</td><td>0</td><td>0</td><td>0</td><td>0</td></tr>\n",
              "\t<tr><th scope=row>ENSG00000006659</th><td>0</td><td>0</td><td>0</td><td>0</td><td>0</td><td>0</td><td>0</td><td>0</td></tr>\n",
              "\t<tr><th scope=row>ENSG00000007129</th><td>0</td><td>0</td><td>0</td><td>0</td><td>0</td><td>0</td><td>0</td><td>0</td></tr>\n",
              "\t<tr><th scope=row>ENSG00000007171</th><td>0</td><td>2</td><td>0</td><td>0</td><td>2</td><td>2</td><td>5</td><td>1</td></tr>\n",
              "\t<tr><th scope=row>ENSG00000007174</th><td>0</td><td>1</td><td>1</td><td>0</td><td>2</td><td>1</td><td>1</td><td>0</td></tr>\n",
              "\t<tr><th scope=row>ENSG00000007216</th><td>0</td><td>0</td><td>0</td><td>0</td><td>0</td><td>0</td><td>0</td><td>0</td></tr>\n",
              "\t<tr><th scope=row>ENSG00000007264</th><td>0</td><td>0</td><td>0</td><td>0</td><td>0</td><td>1</td><td>0</td><td>0</td></tr>\n",
              "\t<tr><th scope=row>ENSG00000007306</th><td>0</td><td>0</td><td>0</td><td>0</td><td>0</td><td>0</td><td>0</td><td>0</td></tr>\n",
              "\t<tr><th scope=row>ENSG00000007314</th><td>0</td><td>1</td><td>2</td><td>1</td><td>1</td><td>0</td><td>1</td><td>0</td></tr>\n",
              "\t<tr><th scope=row>ENSG00000007350</th><td>0</td><td>0</td><td>0</td><td>0</td><td>0</td><td>0</td><td>0</td><td>0</td></tr>\n",
              "\t<tr><th scope=row>⋮</th><td>⋮</td><td>⋮</td><td>⋮</td><td>⋮</td><td>⋮</td><td>⋮</td><td>⋮</td><td>⋮</td></tr>\n",
              "\t<tr><th scope=row>LRG_70</th><td>0</td><td>0</td><td>0</td><td>0</td><td>0</td><td>0</td><td>0</td><td>0</td></tr>\n",
              "\t<tr><th scope=row>LRG_71</th><td>0</td><td>0</td><td>0</td><td>0</td><td>0</td><td>0</td><td>0</td><td>0</td></tr>\n",
              "\t<tr><th scope=row>LRG_715</th><td>0</td><td>0</td><td>0</td><td>0</td><td>0</td><td>0</td><td>0</td><td>0</td></tr>\n",
              "\t<tr><th scope=row>LRG_717</th><td>0</td><td>0</td><td>0</td><td>0</td><td>0</td><td>0</td><td>0</td><td>0</td></tr>\n",
              "\t<tr><th scope=row>LRG_72</th><td>0</td><td>0</td><td>0</td><td>0</td><td>0</td><td>0</td><td>0</td><td>0</td></tr>\n",
              "\t<tr><th scope=row>LRG_73</th><td>0</td><td>0</td><td>0</td><td>0</td><td>0</td><td>0</td><td>0</td><td>0</td></tr>\n",
              "\t<tr><th scope=row>LRG_74</th><td>0</td><td>0</td><td>0</td><td>0</td><td>0</td><td>0</td><td>0</td><td>0</td></tr>\n",
              "\t<tr><th scope=row>LRG_75</th><td>0</td><td>0</td><td>0</td><td>0</td><td>0</td><td>0</td><td>0</td><td>0</td></tr>\n",
              "\t<tr><th scope=row>LRG_76</th><td>0</td><td>0</td><td>0</td><td>0</td><td>0</td><td>0</td><td>0</td><td>0</td></tr>\n",
              "\t<tr><th scope=row>LRG_77</th><td>0</td><td>0</td><td>0</td><td>0</td><td>0</td><td>0</td><td>0</td><td>0</td></tr>\n",
              "\t<tr><th scope=row>LRG_78</th><td>0</td><td>0</td><td>0</td><td>0</td><td>0</td><td>0</td><td>0</td><td>0</td></tr>\n",
              "\t<tr><th scope=row>LRG_79</th><td>0</td><td>0</td><td>0</td><td>0</td><td>0</td><td>0</td><td>0</td><td>0</td></tr>\n",
              "\t<tr><th scope=row>LRG_8</th><td>0</td><td>0</td><td>0</td><td>0</td><td>0</td><td>0</td><td>0</td><td>0</td></tr>\n",
              "\t<tr><th scope=row>LRG_80</th><td>0</td><td>0</td><td>0</td><td>0</td><td>0</td><td>0</td><td>0</td><td>0</td></tr>\n",
              "\t<tr><th scope=row>LRG_81</th><td>0</td><td>0</td><td>0</td><td>0</td><td>0</td><td>0</td><td>0</td><td>0</td></tr>\n",
              "\t<tr><th scope=row>LRG_83</th><td>0</td><td>0</td><td>0</td><td>0</td><td>0</td><td>0</td><td>0</td><td>0</td></tr>\n",
              "\t<tr><th scope=row>LRG_84</th><td>0</td><td>0</td><td>0</td><td>0</td><td>0</td><td>0</td><td>0</td><td>0</td></tr>\n",
              "\t<tr><th scope=row>LRG_85</th><td>0</td><td>0</td><td>0</td><td>0</td><td>0</td><td>0</td><td>0</td><td>0</td></tr>\n",
              "\t<tr><th scope=row>LRG_86</th><td>0</td><td>0</td><td>0</td><td>0</td><td>0</td><td>0</td><td>0</td><td>0</td></tr>\n",
              "\t<tr><th scope=row>LRG_88</th><td>0</td><td>0</td><td>0</td><td>0</td><td>0</td><td>0</td><td>0</td><td>0</td></tr>\n",
              "\t<tr><th scope=row>LRG_89</th><td>0</td><td>0</td><td>0</td><td>0</td><td>0</td><td>0</td><td>0</td><td>0</td></tr>\n",
              "\t<tr><th scope=row>LRG_90</th><td>0</td><td>0</td><td>0</td><td>0</td><td>0</td><td>0</td><td>0</td><td>0</td></tr>\n",
              "\t<tr><th scope=row>LRG_91</th><td>0</td><td>0</td><td>0</td><td>0</td><td>0</td><td>0</td><td>0</td><td>0</td></tr>\n",
              "\t<tr><th scope=row>LRG_92</th><td>0</td><td>0</td><td>0</td><td>0</td><td>0</td><td>0</td><td>0</td><td>0</td></tr>\n",
              "\t<tr><th scope=row>LRG_93</th><td>0</td><td>0</td><td>0</td><td>0</td><td>0</td><td>0</td><td>0</td><td>0</td></tr>\n",
              "\t<tr><th scope=row>LRG_94</th><td>0</td><td>0</td><td>0</td><td>0</td><td>0</td><td>0</td><td>0</td><td>0</td></tr>\n",
              "\t<tr><th scope=row>LRG_96</th><td>0</td><td>0</td><td>0</td><td>0</td><td>0</td><td>0</td><td>0</td><td>0</td></tr>\n",
              "\t<tr><th scope=row>LRG_97</th><td>0</td><td>0</td><td>0</td><td>0</td><td>0</td><td>0</td><td>0</td><td>0</td></tr>\n",
              "\t<tr><th scope=row>LRG_98</th><td>0</td><td>0</td><td>0</td><td>0</td><td>0</td><td>0</td><td>0</td><td>0</td></tr>\n",
              "\t<tr><th scope=row>LRG_99</th><td>0</td><td>0</td><td>0</td><td>0</td><td>0</td><td>0</td><td>0</td><td>0</td></tr>\n",
              "</tbody>\n",
              "</table>\n"
            ],
            "text/markdown": "\nA data.frame: 39469 × 8\n\n| <!--/--> | SRR1039508 &lt;int&gt; | SRR1039509 &lt;int&gt; | SRR1039512 &lt;int&gt; | SRR1039513 &lt;int&gt; | SRR1039516 &lt;int&gt; | SRR1039517 &lt;int&gt; | SRR1039520 &lt;int&gt; | SRR1039521 &lt;int&gt; |\n|---|---|---|---|---|---|---|---|---|\n| ENSG00000000005 | 0 | 0 | 0 | 0 | 0 | 0 | 0 | 0 |\n| ENSG00000000938 | 0 | 0 | 2 | 0 | 1 | 0 | 0 | 0 |\n| ENSG00000002726 | 0 | 0 | 1 | 0 | 0 | 0 | 0 | 0 |\n| ENSG00000003147 | 0 | 0 | 0 | 1 | 1 | 2 | 2 | 0 |\n| ENSG00000004809 | 0 | 0 | 0 | 0 | 0 | 0 | 0 | 0 |\n| ENSG00000004848 | 0 | 0 | 0 | 0 | 0 | 0 | 0 | 0 |\n| ENSG00000004939 | 0 | 0 | 0 | 0 | 0 | 0 | 0 | 0 |\n| ENSG00000004948 | 0 | 0 | 0 | 0 | 0 | 0 | 0 | 0 |\n| ENSG00000005001 | 0 | 0 | 0 | 0 | 0 | 0 | 0 | 0 |\n| ENSG00000005421 | 0 | 0 | 0 | 0 | 1 | 0 | 0 | 0 |\n| ENSG00000005981 | 0 | 0 | 0 | 0 | 0 | 0 | 0 | 0 |\n| ENSG00000006047 | 0 | 1 | 1 | 0 | 1 | 0 | 3 | 0 |\n| ENSG00000006059 | 0 | 0 | 0 | 0 | 0 | 0 | 0 | 0 |\n| ENSG00000006071 | 0 | 0 | 0 | 0 | 0 | 0 | 0 | 0 |\n| ENSG00000006074 | 0 | 0 | 0 | 0 | 0 | 0 | 0 | 1 |\n| ENSG00000006075 | 0 | 0 | 0 | 0 | 0 | 0 | 0 | 0 |\n| ENSG00000006116 | 0 | 0 | 0 | 0 | 0 | 0 | 0 | 0 |\n| ENSG00000006128 | 0 | 4 | 1 | 0 | 0 | 0 | 0 | 0 |\n| ENSG00000006377 | 0 | 0 | 0 | 0 | 0 | 0 | 0 | 0 |\n| ENSG00000006555 | 0 | 0 | 0 | 0 | 0 | 0 | 0 | 0 |\n| ENSG00000006611 | 0 | 0 | 0 | 0 | 0 | 0 | 0 | 0 |\n| ENSG00000006659 | 0 | 0 | 0 | 0 | 0 | 0 | 0 | 0 |\n| ENSG00000007129 | 0 | 0 | 0 | 0 | 0 | 0 | 0 | 0 |\n| ENSG00000007171 | 0 | 2 | 0 | 0 | 2 | 2 | 5 | 1 |\n| ENSG00000007174 | 0 | 1 | 1 | 0 | 2 | 1 | 1 | 0 |\n| ENSG00000007216 | 0 | 0 | 0 | 0 | 0 | 0 | 0 | 0 |\n| ENSG00000007264 | 0 | 0 | 0 | 0 | 0 | 1 | 0 | 0 |\n| ENSG00000007306 | 0 | 0 | 0 | 0 | 0 | 0 | 0 | 0 |\n| ENSG00000007314 | 0 | 1 | 2 | 1 | 1 | 0 | 1 | 0 |\n| ENSG00000007350 | 0 | 0 | 0 | 0 | 0 | 0 | 0 | 0 |\n| ⋮ | ⋮ | ⋮ | ⋮ | ⋮ | ⋮ | ⋮ | ⋮ | ⋮ |\n| LRG_70 | 0 | 0 | 0 | 0 | 0 | 0 | 0 | 0 |\n| LRG_71 | 0 | 0 | 0 | 0 | 0 | 0 | 0 | 0 |\n| LRG_715 | 0 | 0 | 0 | 0 | 0 | 0 | 0 | 0 |\n| LRG_717 | 0 | 0 | 0 | 0 | 0 | 0 | 0 | 0 |\n| LRG_72 | 0 | 0 | 0 | 0 | 0 | 0 | 0 | 0 |\n| LRG_73 | 0 | 0 | 0 | 0 | 0 | 0 | 0 | 0 |\n| LRG_74 | 0 | 0 | 0 | 0 | 0 | 0 | 0 | 0 |\n| LRG_75 | 0 | 0 | 0 | 0 | 0 | 0 | 0 | 0 |\n| LRG_76 | 0 | 0 | 0 | 0 | 0 | 0 | 0 | 0 |\n| LRG_77 | 0 | 0 | 0 | 0 | 0 | 0 | 0 | 0 |\n| LRG_78 | 0 | 0 | 0 | 0 | 0 | 0 | 0 | 0 |\n| LRG_79 | 0 | 0 | 0 | 0 | 0 | 0 | 0 | 0 |\n| LRG_8 | 0 | 0 | 0 | 0 | 0 | 0 | 0 | 0 |\n| LRG_80 | 0 | 0 | 0 | 0 | 0 | 0 | 0 | 0 |\n| LRG_81 | 0 | 0 | 0 | 0 | 0 | 0 | 0 | 0 |\n| LRG_83 | 0 | 0 | 0 | 0 | 0 | 0 | 0 | 0 |\n| LRG_84 | 0 | 0 | 0 | 0 | 0 | 0 | 0 | 0 |\n| LRG_85 | 0 | 0 | 0 | 0 | 0 | 0 | 0 | 0 |\n| LRG_86 | 0 | 0 | 0 | 0 | 0 | 0 | 0 | 0 |\n| LRG_88 | 0 | 0 | 0 | 0 | 0 | 0 | 0 | 0 |\n| LRG_89 | 0 | 0 | 0 | 0 | 0 | 0 | 0 | 0 |\n| LRG_90 | 0 | 0 | 0 | 0 | 0 | 0 | 0 | 0 |\n| LRG_91 | 0 | 0 | 0 | 0 | 0 | 0 | 0 | 0 |\n| LRG_92 | 0 | 0 | 0 | 0 | 0 | 0 | 0 | 0 |\n| LRG_93 | 0 | 0 | 0 | 0 | 0 | 0 | 0 | 0 |\n| LRG_94 | 0 | 0 | 0 | 0 | 0 | 0 | 0 | 0 |\n| LRG_96 | 0 | 0 | 0 | 0 | 0 | 0 | 0 | 0 |\n| LRG_97 | 0 | 0 | 0 | 0 | 0 | 0 | 0 | 0 |\n| LRG_98 | 0 | 0 | 0 | 0 | 0 | 0 | 0 | 0 |\n| LRG_99 | 0 | 0 | 0 | 0 | 0 | 0 | 0 | 0 |\n\n",
            "text/latex": "A data.frame: 39469 × 8\n\\begin{tabular}{r|llllllll}\n  & SRR1039508 & SRR1039509 & SRR1039512 & SRR1039513 & SRR1039516 & SRR1039517 & SRR1039520 & SRR1039521\\\\\n  & <int> & <int> & <int> & <int> & <int> & <int> & <int> & <int>\\\\\n\\hline\n\tENSG00000000005 & 0 & 0 & 0 & 0 & 0 & 0 & 0 & 0\\\\\n\tENSG00000000938 & 0 & 0 & 2 & 0 & 1 & 0 & 0 & 0\\\\\n\tENSG00000002726 & 0 & 0 & 1 & 0 & 0 & 0 & 0 & 0\\\\\n\tENSG00000003147 & 0 & 0 & 0 & 1 & 1 & 2 & 2 & 0\\\\\n\tENSG00000004809 & 0 & 0 & 0 & 0 & 0 & 0 & 0 & 0\\\\\n\tENSG00000004848 & 0 & 0 & 0 & 0 & 0 & 0 & 0 & 0\\\\\n\tENSG00000004939 & 0 & 0 & 0 & 0 & 0 & 0 & 0 & 0\\\\\n\tENSG00000004948 & 0 & 0 & 0 & 0 & 0 & 0 & 0 & 0\\\\\n\tENSG00000005001 & 0 & 0 & 0 & 0 & 0 & 0 & 0 & 0\\\\\n\tENSG00000005421 & 0 & 0 & 0 & 0 & 1 & 0 & 0 & 0\\\\\n\tENSG00000005981 & 0 & 0 & 0 & 0 & 0 & 0 & 0 & 0\\\\\n\tENSG00000006047 & 0 & 1 & 1 & 0 & 1 & 0 & 3 & 0\\\\\n\tENSG00000006059 & 0 & 0 & 0 & 0 & 0 & 0 & 0 & 0\\\\\n\tENSG00000006071 & 0 & 0 & 0 & 0 & 0 & 0 & 0 & 0\\\\\n\tENSG00000006074 & 0 & 0 & 0 & 0 & 0 & 0 & 0 & 1\\\\\n\tENSG00000006075 & 0 & 0 & 0 & 0 & 0 & 0 & 0 & 0\\\\\n\tENSG00000006116 & 0 & 0 & 0 & 0 & 0 & 0 & 0 & 0\\\\\n\tENSG00000006128 & 0 & 4 & 1 & 0 & 0 & 0 & 0 & 0\\\\\n\tENSG00000006377 & 0 & 0 & 0 & 0 & 0 & 0 & 0 & 0\\\\\n\tENSG00000006555 & 0 & 0 & 0 & 0 & 0 & 0 & 0 & 0\\\\\n\tENSG00000006611 & 0 & 0 & 0 & 0 & 0 & 0 & 0 & 0\\\\\n\tENSG00000006659 & 0 & 0 & 0 & 0 & 0 & 0 & 0 & 0\\\\\n\tENSG00000007129 & 0 & 0 & 0 & 0 & 0 & 0 & 0 & 0\\\\\n\tENSG00000007171 & 0 & 2 & 0 & 0 & 2 & 2 & 5 & 1\\\\\n\tENSG00000007174 & 0 & 1 & 1 & 0 & 2 & 1 & 1 & 0\\\\\n\tENSG00000007216 & 0 & 0 & 0 & 0 & 0 & 0 & 0 & 0\\\\\n\tENSG00000007264 & 0 & 0 & 0 & 0 & 0 & 1 & 0 & 0\\\\\n\tENSG00000007306 & 0 & 0 & 0 & 0 & 0 & 0 & 0 & 0\\\\\n\tENSG00000007314 & 0 & 1 & 2 & 1 & 1 & 0 & 1 & 0\\\\\n\tENSG00000007350 & 0 & 0 & 0 & 0 & 0 & 0 & 0 & 0\\\\\n\t⋮ & ⋮ & ⋮ & ⋮ & ⋮ & ⋮ & ⋮ & ⋮ & ⋮\\\\\n\tLRG\\_70 & 0 & 0 & 0 & 0 & 0 & 0 & 0 & 0\\\\\n\tLRG\\_71 & 0 & 0 & 0 & 0 & 0 & 0 & 0 & 0\\\\\n\tLRG\\_715 & 0 & 0 & 0 & 0 & 0 & 0 & 0 & 0\\\\\n\tLRG\\_717 & 0 & 0 & 0 & 0 & 0 & 0 & 0 & 0\\\\\n\tLRG\\_72 & 0 & 0 & 0 & 0 & 0 & 0 & 0 & 0\\\\\n\tLRG\\_73 & 0 & 0 & 0 & 0 & 0 & 0 & 0 & 0\\\\\n\tLRG\\_74 & 0 & 0 & 0 & 0 & 0 & 0 & 0 & 0\\\\\n\tLRG\\_75 & 0 & 0 & 0 & 0 & 0 & 0 & 0 & 0\\\\\n\tLRG\\_76 & 0 & 0 & 0 & 0 & 0 & 0 & 0 & 0\\\\\n\tLRG\\_77 & 0 & 0 & 0 & 0 & 0 & 0 & 0 & 0\\\\\n\tLRG\\_78 & 0 & 0 & 0 & 0 & 0 & 0 & 0 & 0\\\\\n\tLRG\\_79 & 0 & 0 & 0 & 0 & 0 & 0 & 0 & 0\\\\\n\tLRG\\_8 & 0 & 0 & 0 & 0 & 0 & 0 & 0 & 0\\\\\n\tLRG\\_80 & 0 & 0 & 0 & 0 & 0 & 0 & 0 & 0\\\\\n\tLRG\\_81 & 0 & 0 & 0 & 0 & 0 & 0 & 0 & 0\\\\\n\tLRG\\_83 & 0 & 0 & 0 & 0 & 0 & 0 & 0 & 0\\\\\n\tLRG\\_84 & 0 & 0 & 0 & 0 & 0 & 0 & 0 & 0\\\\\n\tLRG\\_85 & 0 & 0 & 0 & 0 & 0 & 0 & 0 & 0\\\\\n\tLRG\\_86 & 0 & 0 & 0 & 0 & 0 & 0 & 0 & 0\\\\\n\tLRG\\_88 & 0 & 0 & 0 & 0 & 0 & 0 & 0 & 0\\\\\n\tLRG\\_89 & 0 & 0 & 0 & 0 & 0 & 0 & 0 & 0\\\\\n\tLRG\\_90 & 0 & 0 & 0 & 0 & 0 & 0 & 0 & 0\\\\\n\tLRG\\_91 & 0 & 0 & 0 & 0 & 0 & 0 & 0 & 0\\\\\n\tLRG\\_92 & 0 & 0 & 0 & 0 & 0 & 0 & 0 & 0\\\\\n\tLRG\\_93 & 0 & 0 & 0 & 0 & 0 & 0 & 0 & 0\\\\\n\tLRG\\_94 & 0 & 0 & 0 & 0 & 0 & 0 & 0 & 0\\\\\n\tLRG\\_96 & 0 & 0 & 0 & 0 & 0 & 0 & 0 & 0\\\\\n\tLRG\\_97 & 0 & 0 & 0 & 0 & 0 & 0 & 0 & 0\\\\\n\tLRG\\_98 & 0 & 0 & 0 & 0 & 0 & 0 & 0 & 0\\\\\n\tLRG\\_99 & 0 & 0 & 0 & 0 & 0 & 0 & 0 & 0\\\\\n\\end{tabular}\n",
            "text/plain": [
              "                SRR1039508 SRR1039509 SRR1039512 SRR1039513 SRR1039516\n",
              "ENSG00000000005 0          0          0          0          0         \n",
              "ENSG00000000938 0          0          2          0          1         \n",
              "ENSG00000002726 0          0          1          0          0         \n",
              "ENSG00000003147 0          0          0          1          1         \n",
              "ENSG00000004809 0          0          0          0          0         \n",
              "ENSG00000004848 0          0          0          0          0         \n",
              "ENSG00000004939 0          0          0          0          0         \n",
              "ENSG00000004948 0          0          0          0          0         \n",
              "ENSG00000005001 0          0          0          0          0         \n",
              "ENSG00000005421 0          0          0          0          1         \n",
              "ENSG00000005981 0          0          0          0          0         \n",
              "ENSG00000006047 0          1          1          0          1         \n",
              "ENSG00000006059 0          0          0          0          0         \n",
              "ENSG00000006071 0          0          0          0          0         \n",
              "ENSG00000006074 0          0          0          0          0         \n",
              "ENSG00000006075 0          0          0          0          0         \n",
              "ENSG00000006116 0          0          0          0          0         \n",
              "ENSG00000006128 0          4          1          0          0         \n",
              "ENSG00000006377 0          0          0          0          0         \n",
              "ENSG00000006555 0          0          0          0          0         \n",
              "ENSG00000006611 0          0          0          0          0         \n",
              "ENSG00000006659 0          0          0          0          0         \n",
              "ENSG00000007129 0          0          0          0          0         \n",
              "ENSG00000007171 0          2          0          0          2         \n",
              "ENSG00000007174 0          1          1          0          2         \n",
              "ENSG00000007216 0          0          0          0          0         \n",
              "ENSG00000007264 0          0          0          0          0         \n",
              "ENSG00000007306 0          0          0          0          0         \n",
              "ENSG00000007314 0          1          2          1          1         \n",
              "ENSG00000007350 0          0          0          0          0         \n",
              "⋮               ⋮          ⋮          ⋮          ⋮          ⋮         \n",
              "LRG_70          0          0          0          0          0         \n",
              "LRG_71          0          0          0          0          0         \n",
              "LRG_715         0          0          0          0          0         \n",
              "LRG_717         0          0          0          0          0         \n",
              "LRG_72          0          0          0          0          0         \n",
              "LRG_73          0          0          0          0          0         \n",
              "LRG_74          0          0          0          0          0         \n",
              "LRG_75          0          0          0          0          0         \n",
              "LRG_76          0          0          0          0          0         \n",
              "LRG_77          0          0          0          0          0         \n",
              "LRG_78          0          0          0          0          0         \n",
              "LRG_79          0          0          0          0          0         \n",
              "LRG_8           0          0          0          0          0         \n",
              "LRG_80          0          0          0          0          0         \n",
              "LRG_81          0          0          0          0          0         \n",
              "LRG_83          0          0          0          0          0         \n",
              "LRG_84          0          0          0          0          0         \n",
              "LRG_85          0          0          0          0          0         \n",
              "LRG_86          0          0          0          0          0         \n",
              "LRG_88          0          0          0          0          0         \n",
              "LRG_89          0          0          0          0          0         \n",
              "LRG_90          0          0          0          0          0         \n",
              "LRG_91          0          0          0          0          0         \n",
              "LRG_92          0          0          0          0          0         \n",
              "LRG_93          0          0          0          0          0         \n",
              "LRG_94          0          0          0          0          0         \n",
              "LRG_96          0          0          0          0          0         \n",
              "LRG_97          0          0          0          0          0         \n",
              "LRG_98          0          0          0          0          0         \n",
              "LRG_99          0          0          0          0          0         \n",
              "                SRR1039517 SRR1039520 SRR1039521\n",
              "ENSG00000000005 0          0          0         \n",
              "ENSG00000000938 0          0          0         \n",
              "ENSG00000002726 0          0          0         \n",
              "ENSG00000003147 2          2          0         \n",
              "ENSG00000004809 0          0          0         \n",
              "ENSG00000004848 0          0          0         \n",
              "ENSG00000004939 0          0          0         \n",
              "ENSG00000004948 0          0          0         \n",
              "ENSG00000005001 0          0          0         \n",
              "ENSG00000005421 0          0          0         \n",
              "ENSG00000005981 0          0          0         \n",
              "ENSG00000006047 0          3          0         \n",
              "ENSG00000006059 0          0          0         \n",
              "ENSG00000006071 0          0          0         \n",
              "ENSG00000006074 0          0          1         \n",
              "ENSG00000006075 0          0          0         \n",
              "ENSG00000006116 0          0          0         \n",
              "ENSG00000006128 0          0          0         \n",
              "ENSG00000006377 0          0          0         \n",
              "ENSG00000006555 0          0          0         \n",
              "ENSG00000006611 0          0          0         \n",
              "ENSG00000006659 0          0          0         \n",
              "ENSG00000007129 0          0          0         \n",
              "ENSG00000007171 2          5          1         \n",
              "ENSG00000007174 1          1          0         \n",
              "ENSG00000007216 0          0          0         \n",
              "ENSG00000007264 1          0          0         \n",
              "ENSG00000007306 0          0          0         \n",
              "ENSG00000007314 0          1          0         \n",
              "ENSG00000007350 0          0          0         \n",
              "⋮               ⋮          ⋮          ⋮         \n",
              "LRG_70          0          0          0         \n",
              "LRG_71          0          0          0         \n",
              "LRG_715         0          0          0         \n",
              "LRG_717         0          0          0         \n",
              "LRG_72          0          0          0         \n",
              "LRG_73          0          0          0         \n",
              "LRG_74          0          0          0         \n",
              "LRG_75          0          0          0         \n",
              "LRG_76          0          0          0         \n",
              "LRG_77          0          0          0         \n",
              "LRG_78          0          0          0         \n",
              "LRG_79          0          0          0         \n",
              "LRG_8           0          0          0         \n",
              "LRG_80          0          0          0         \n",
              "LRG_81          0          0          0         \n",
              "LRG_83          0          0          0         \n",
              "LRG_84          0          0          0         \n",
              "LRG_85          0          0          0         \n",
              "LRG_86          0          0          0         \n",
              "LRG_88          0          0          0         \n",
              "LRG_89          0          0          0         \n",
              "LRG_90          0          0          0         \n",
              "LRG_91          0          0          0         \n",
              "LRG_92          0          0          0         \n",
              "LRG_93          0          0          0         \n",
              "LRG_94          0          0          0         \n",
              "LRG_96          0          0          0         \n",
              "LRG_97          0          0          0         \n",
              "LRG_98          0          0          0         \n",
              "LRG_99          0          0          0         "
            ]
          },
          "metadata": {}
        }
      ]
    },
    {
      "cell_type": "code",
      "source": [
        "# Filter the dataset to include only rows where SRR1039509 is equal to 448 and SRR1039508 is greater than 0\n",
        "filtered_data_2 <- filter(data, SRR1039509 == 448, SRR1039508 > 0)\n",
        "filtered_data_2"
      ],
      "metadata": {
        "colab": {
          "base_uri": "https://localhost:8080/",
          "height": 411
        },
        "id": "jwPyDKea0LzR",
        "outputId": "c4171513-118a-4a80-9fc3-9790ea33b762"
      },
      "execution_count": 8,
      "outputs": [
        {
          "output_type": "display_data",
          "data": {
            "text/html": [
              "<table class=\"dataframe\">\n",
              "<caption>A data.frame: 10 × 8</caption>\n",
              "<thead>\n",
              "\t<tr><th></th><th scope=col>SRR1039508</th><th scope=col>SRR1039509</th><th scope=col>SRR1039512</th><th scope=col>SRR1039513</th><th scope=col>SRR1039516</th><th scope=col>SRR1039517</th><th scope=col>SRR1039520</th><th scope=col>SRR1039521</th></tr>\n",
              "\t<tr><th></th><th scope=col>&lt;int&gt;</th><th scope=col>&lt;int&gt;</th><th scope=col>&lt;int&gt;</th><th scope=col>&lt;int&gt;</th><th scope=col>&lt;int&gt;</th><th scope=col>&lt;int&gt;</th><th scope=col>&lt;int&gt;</th><th scope=col>&lt;int&gt;</th></tr>\n",
              "</thead>\n",
              "<tbody>\n",
              "\t<tr><th scope=row>ENSG00000000003</th><td>679</td><td>448</td><td>873</td><td>408</td><td>1138</td><td>1047</td><td>770</td><td>572</td></tr>\n",
              "\t<tr><th scope=row>ENSG00000040341</th><td>635</td><td>448</td><td>800</td><td>432</td><td> 760</td><td> 859</td><td>524</td><td>593</td></tr>\n",
              "\t<tr><th scope=row>ENSG00000112759</th><td>643</td><td>448</td><td>931</td><td>505</td><td> 809</td><td> 836</td><td>722</td><td>662</td></tr>\n",
              "\t<tr><th scope=row>ENSG00000140474</th><td>355</td><td>448</td><td>274</td><td>213</td><td> 336</td><td> 469</td><td>294</td><td>350</td></tr>\n",
              "\t<tr><th scope=row>ENSG00000141141</th><td>537</td><td>448</td><td>602</td><td>326</td><td> 727</td><td> 717</td><td>445</td><td>484</td></tr>\n",
              "\t<tr><th scope=row>ENSG00000145743</th><td>470</td><td>448</td><td>623</td><td>394</td><td> 532</td><td> 624</td><td>512</td><td>649</td></tr>\n",
              "\t<tr><th scope=row>ENSG00000147471</th><td>445</td><td>448</td><td>587</td><td>444</td><td> 580</td><td> 802</td><td>542</td><td>596</td></tr>\n",
              "\t<tr><th scope=row>ENSG00000165097</th><td>697</td><td>448</td><td>740</td><td>408</td><td> 747</td><td> 889</td><td>644</td><td>592</td></tr>\n",
              "\t<tr><th scope=row>ENSG00000181220</th><td>427</td><td>448</td><td>505</td><td>288</td><td> 530</td><td> 672</td><td>343</td><td>431</td></tr>\n",
              "\t<tr><th scope=row>ENSG00000182400</th><td>497</td><td>448</td><td>672</td><td>448</td><td> 538</td><td> 649</td><td>533</td><td>578</td></tr>\n",
              "</tbody>\n",
              "</table>\n"
            ],
            "text/markdown": "\nA data.frame: 10 × 8\n\n| <!--/--> | SRR1039508 &lt;int&gt; | SRR1039509 &lt;int&gt; | SRR1039512 &lt;int&gt; | SRR1039513 &lt;int&gt; | SRR1039516 &lt;int&gt; | SRR1039517 &lt;int&gt; | SRR1039520 &lt;int&gt; | SRR1039521 &lt;int&gt; |\n|---|---|---|---|---|---|---|---|---|\n| ENSG00000000003 | 679 | 448 | 873 | 408 | 1138 | 1047 | 770 | 572 |\n| ENSG00000040341 | 635 | 448 | 800 | 432 |  760 |  859 | 524 | 593 |\n| ENSG00000112759 | 643 | 448 | 931 | 505 |  809 |  836 | 722 | 662 |\n| ENSG00000140474 | 355 | 448 | 274 | 213 |  336 |  469 | 294 | 350 |\n| ENSG00000141141 | 537 | 448 | 602 | 326 |  727 |  717 | 445 | 484 |\n| ENSG00000145743 | 470 | 448 | 623 | 394 |  532 |  624 | 512 | 649 |\n| ENSG00000147471 | 445 | 448 | 587 | 444 |  580 |  802 | 542 | 596 |\n| ENSG00000165097 | 697 | 448 | 740 | 408 |  747 |  889 | 644 | 592 |\n| ENSG00000181220 | 427 | 448 | 505 | 288 |  530 |  672 | 343 | 431 |\n| ENSG00000182400 | 497 | 448 | 672 | 448 |  538 |  649 | 533 | 578 |\n\n",
            "text/latex": "A data.frame: 10 × 8\n\\begin{tabular}{r|llllllll}\n  & SRR1039508 & SRR1039509 & SRR1039512 & SRR1039513 & SRR1039516 & SRR1039517 & SRR1039520 & SRR1039521\\\\\n  & <int> & <int> & <int> & <int> & <int> & <int> & <int> & <int>\\\\\n\\hline\n\tENSG00000000003 & 679 & 448 & 873 & 408 & 1138 & 1047 & 770 & 572\\\\\n\tENSG00000040341 & 635 & 448 & 800 & 432 &  760 &  859 & 524 & 593\\\\\n\tENSG00000112759 & 643 & 448 & 931 & 505 &  809 &  836 & 722 & 662\\\\\n\tENSG00000140474 & 355 & 448 & 274 & 213 &  336 &  469 & 294 & 350\\\\\n\tENSG00000141141 & 537 & 448 & 602 & 326 &  727 &  717 & 445 & 484\\\\\n\tENSG00000145743 & 470 & 448 & 623 & 394 &  532 &  624 & 512 & 649\\\\\n\tENSG00000147471 & 445 & 448 & 587 & 444 &  580 &  802 & 542 & 596\\\\\n\tENSG00000165097 & 697 & 448 & 740 & 408 &  747 &  889 & 644 & 592\\\\\n\tENSG00000181220 & 427 & 448 & 505 & 288 &  530 &  672 & 343 & 431\\\\\n\tENSG00000182400 & 497 & 448 & 672 & 448 &  538 &  649 & 533 & 578\\\\\n\\end{tabular}\n",
            "text/plain": [
              "                SRR1039508 SRR1039509 SRR1039512 SRR1039513 SRR1039516\n",
              "ENSG00000000003 679        448        873        408        1138      \n",
              "ENSG00000040341 635        448        800        432         760      \n",
              "ENSG00000112759 643        448        931        505         809      \n",
              "ENSG00000140474 355        448        274        213         336      \n",
              "ENSG00000141141 537        448        602        326         727      \n",
              "ENSG00000145743 470        448        623        394         532      \n",
              "ENSG00000147471 445        448        587        444         580      \n",
              "ENSG00000165097 697        448        740        408         747      \n",
              "ENSG00000181220 427        448        505        288         530      \n",
              "ENSG00000182400 497        448        672        448         538      \n",
              "                SRR1039517 SRR1039520 SRR1039521\n",
              "ENSG00000000003 1047       770        572       \n",
              "ENSG00000040341  859       524        593       \n",
              "ENSG00000112759  836       722        662       \n",
              "ENSG00000140474  469       294        350       \n",
              "ENSG00000141141  717       445        484       \n",
              "ENSG00000145743  624       512        649       \n",
              "ENSG00000147471  802       542        596       \n",
              "ENSG00000165097  889       644        592       \n",
              "ENSG00000181220  672       343        431       \n",
              "ENSG00000182400  649       533        578       "
            ]
          },
          "metadata": {}
        }
      ]
    },
    {
      "cell_type": "markdown",
      "source": [
        "# 4. Data Arrangement"
      ],
      "metadata": {
        "id": "T4OQMYFi0gl8"
      }
    },
    {
      "cell_type": "code",
      "source": [
        "# Arrange the dataset in ascending order based on SRR1039508\n",
        "arranged_data_asc <- arrange(data, SRR1039508)\n",
        "arranged_data_asc"
      ],
      "metadata": {
        "colab": {
          "base_uri": "https://localhost:8080/",
          "height": 1000
        },
        "id": "xiWqYk8k0RrG",
        "outputId": "aa2f1627-59fa-4329-e6d6-b3daca92d3f9"
      },
      "execution_count": 9,
      "outputs": [
        {
          "output_type": "display_data",
          "data": {
            "text/html": [
              "<table class=\"dataframe\">\n",
              "<caption>A data.frame: 64102 × 8</caption>\n",
              "<thead>\n",
              "\t<tr><th></th><th scope=col>SRR1039508</th><th scope=col>SRR1039509</th><th scope=col>SRR1039512</th><th scope=col>SRR1039513</th><th scope=col>SRR1039516</th><th scope=col>SRR1039517</th><th scope=col>SRR1039520</th><th scope=col>SRR1039521</th></tr>\n",
              "\t<tr><th></th><th scope=col>&lt;int&gt;</th><th scope=col>&lt;int&gt;</th><th scope=col>&lt;int&gt;</th><th scope=col>&lt;int&gt;</th><th scope=col>&lt;int&gt;</th><th scope=col>&lt;int&gt;</th><th scope=col>&lt;int&gt;</th><th scope=col>&lt;int&gt;</th></tr>\n",
              "</thead>\n",
              "<tbody>\n",
              "\t<tr><th scope=row>ENSG00000000005</th><td>0</td><td>0</td><td>0</td><td>0</td><td>0</td><td>0</td><td>0</td><td>0</td></tr>\n",
              "\t<tr><th scope=row>ENSG00000000938</th><td>0</td><td>0</td><td>2</td><td>0</td><td>1</td><td>0</td><td>0</td><td>0</td></tr>\n",
              "\t<tr><th scope=row>ENSG00000002726</th><td>0</td><td>0</td><td>1</td><td>0</td><td>0</td><td>0</td><td>0</td><td>0</td></tr>\n",
              "\t<tr><th scope=row>ENSG00000003147</th><td>0</td><td>0</td><td>0</td><td>1</td><td>1</td><td>2</td><td>2</td><td>0</td></tr>\n",
              "\t<tr><th scope=row>ENSG00000004809</th><td>0</td><td>0</td><td>0</td><td>0</td><td>0</td><td>0</td><td>0</td><td>0</td></tr>\n",
              "\t<tr><th scope=row>ENSG00000004848</th><td>0</td><td>0</td><td>0</td><td>0</td><td>0</td><td>0</td><td>0</td><td>0</td></tr>\n",
              "\t<tr><th scope=row>ENSG00000004939</th><td>0</td><td>0</td><td>0</td><td>0</td><td>0</td><td>0</td><td>0</td><td>0</td></tr>\n",
              "\t<tr><th scope=row>ENSG00000004948</th><td>0</td><td>0</td><td>0</td><td>0</td><td>0</td><td>0</td><td>0</td><td>0</td></tr>\n",
              "\t<tr><th scope=row>ENSG00000005001</th><td>0</td><td>0</td><td>0</td><td>0</td><td>0</td><td>0</td><td>0</td><td>0</td></tr>\n",
              "\t<tr><th scope=row>ENSG00000005421</th><td>0</td><td>0</td><td>0</td><td>0</td><td>1</td><td>0</td><td>0</td><td>0</td></tr>\n",
              "\t<tr><th scope=row>ENSG00000005981</th><td>0</td><td>0</td><td>0</td><td>0</td><td>0</td><td>0</td><td>0</td><td>0</td></tr>\n",
              "\t<tr><th scope=row>ENSG00000006047</th><td>0</td><td>1</td><td>1</td><td>0</td><td>1</td><td>0</td><td>3</td><td>0</td></tr>\n",
              "\t<tr><th scope=row>ENSG00000006059</th><td>0</td><td>0</td><td>0</td><td>0</td><td>0</td><td>0</td><td>0</td><td>0</td></tr>\n",
              "\t<tr><th scope=row>ENSG00000006071</th><td>0</td><td>0</td><td>0</td><td>0</td><td>0</td><td>0</td><td>0</td><td>0</td></tr>\n",
              "\t<tr><th scope=row>ENSG00000006074</th><td>0</td><td>0</td><td>0</td><td>0</td><td>0</td><td>0</td><td>0</td><td>1</td></tr>\n",
              "\t<tr><th scope=row>ENSG00000006075</th><td>0</td><td>0</td><td>0</td><td>0</td><td>0</td><td>0</td><td>0</td><td>0</td></tr>\n",
              "\t<tr><th scope=row>ENSG00000006116</th><td>0</td><td>0</td><td>0</td><td>0</td><td>0</td><td>0</td><td>0</td><td>0</td></tr>\n",
              "\t<tr><th scope=row>ENSG00000006128</th><td>0</td><td>4</td><td>1</td><td>0</td><td>0</td><td>0</td><td>0</td><td>0</td></tr>\n",
              "\t<tr><th scope=row>ENSG00000006377</th><td>0</td><td>0</td><td>0</td><td>0</td><td>0</td><td>0</td><td>0</td><td>0</td></tr>\n",
              "\t<tr><th scope=row>ENSG00000006555</th><td>0</td><td>0</td><td>0</td><td>0</td><td>0</td><td>0</td><td>0</td><td>0</td></tr>\n",
              "\t<tr><th scope=row>ENSG00000006611</th><td>0</td><td>0</td><td>0</td><td>0</td><td>0</td><td>0</td><td>0</td><td>0</td></tr>\n",
              "\t<tr><th scope=row>ENSG00000006659</th><td>0</td><td>0</td><td>0</td><td>0</td><td>0</td><td>0</td><td>0</td><td>0</td></tr>\n",
              "\t<tr><th scope=row>ENSG00000007129</th><td>0</td><td>0</td><td>0</td><td>0</td><td>0</td><td>0</td><td>0</td><td>0</td></tr>\n",
              "\t<tr><th scope=row>ENSG00000007171</th><td>0</td><td>2</td><td>0</td><td>0</td><td>2</td><td>2</td><td>5</td><td>1</td></tr>\n",
              "\t<tr><th scope=row>ENSG00000007174</th><td>0</td><td>1</td><td>1</td><td>0</td><td>2</td><td>1</td><td>1</td><td>0</td></tr>\n",
              "\t<tr><th scope=row>ENSG00000007216</th><td>0</td><td>0</td><td>0</td><td>0</td><td>0</td><td>0</td><td>0</td><td>0</td></tr>\n",
              "\t<tr><th scope=row>ENSG00000007264</th><td>0</td><td>0</td><td>0</td><td>0</td><td>0</td><td>1</td><td>0</td><td>0</td></tr>\n",
              "\t<tr><th scope=row>ENSG00000007306</th><td>0</td><td>0</td><td>0</td><td>0</td><td>0</td><td>0</td><td>0</td><td>0</td></tr>\n",
              "\t<tr><th scope=row>ENSG00000007314</th><td>0</td><td>1</td><td>2</td><td>1</td><td>1</td><td>0</td><td>1</td><td>0</td></tr>\n",
              "\t<tr><th scope=row>ENSG00000007350</th><td>0</td><td>0</td><td>0</td><td>0</td><td>0</td><td>0</td><td>0</td><td>0</td></tr>\n",
              "\t<tr><th scope=row>⋮</th><td>⋮</td><td>⋮</td><td>⋮</td><td>⋮</td><td>⋮</td><td>⋮</td><td>⋮</td><td>⋮</td></tr>\n",
              "\t<tr><th scope=row>ENSG00000237973</th><td> 54003</td><td> 54109</td><td> 69562</td><td> 44676</td><td> 99291</td><td>103372</td><td> 59185</td><td> 64234</td></tr>\n",
              "\t<tr><th scope=row>ENSG00000166147</th><td> 54534</td><td> 60069</td><td> 87030</td><td> 38765</td><td> 79738</td><td> 86151</td><td> 58292</td><td> 64247</td></tr>\n",
              "\t<tr><th scope=row>ENSG00000141753</th><td> 60796</td><td> 51043</td><td> 69127</td><td> 32419</td><td>172978</td><td>175527</td><td> 55871</td><td> 41515</td></tr>\n",
              "\t<tr><th scope=row>ENSG00000198886</th><td> 61966</td><td> 66128</td><td> 95891</td><td> 68249</td><td> 95638</td><td> 99240</td><td> 60736</td><td> 66113</td></tr>\n",
              "\t<tr><th scope=row>ENSG00000196924</th><td> 63807</td><td> 66872</td><td> 77479</td><td> 58348</td><td> 57690</td><td>146996</td><td> 49196</td><td> 74054</td></tr>\n",
              "\t<tr><th scope=row>ENSG00000210082</th><td> 64687</td><td> 61852</td><td>139695</td><td> 82229</td><td>213578</td><td>208118</td><td> 72063</td><td> 77239</td></tr>\n",
              "\t<tr><th scope=row>ENSG00000266658</th><td> 66954</td><td> 29353</td><td> 41298</td><td> 22774</td><td> 50453</td><td> 56028</td><td> 27644</td><td> 53076</td></tr>\n",
              "\t<tr><th scope=row>ENSG00000142156</th><td> 67655</td><td> 59655</td><td> 93809</td><td> 44483</td><td> 94008</td><td>106560</td><td> 79215</td><td> 75235</td></tr>\n",
              "\t<tr><th scope=row>ENSG00000167658</th><td> 68142</td><td> 62661</td><td> 77098</td><td> 35943</td><td> 69870</td><td> 71428</td><td> 54351</td><td> 59279</td></tr>\n",
              "\t<tr><th scope=row>ENSG00000233476</th><td> 72230</td><td> 63051</td><td> 81756</td><td> 41064</td><td> 72998</td><td> 66957</td><td> 64163</td><td> 55567</td></tr>\n",
              "\t<tr><th scope=row>ENSG00000115461</th><td> 74051</td><td> 79611</td><td>328753</td><td>137165</td><td>241640</td><td>216484</td><td>145858</td><td>148389</td></tr>\n",
              "\t<tr><th scope=row>ENSG00000150991</th><td> 76167</td><td> 85370</td><td> 87699</td><td> 70700</td><td>106280</td><td>124105</td><td> 80512</td><td> 95539</td></tr>\n",
              "\t<tr><th scope=row>ENSG00000142173</th><td> 84280</td><td> 65351</td><td>112894</td><td> 56871</td><td> 99922</td><td>121599</td><td> 93127</td><td> 89777</td></tr>\n",
              "\t<tr><th scope=row>ENSG00000123384</th><td> 88031</td><td> 66581</td><td>106554</td><td> 45594</td><td> 90403</td><td>116088</td><td> 85519</td><td> 85527</td></tr>\n",
              "\t<tr><th scope=row>ENSG00000124942</th><td> 97093</td><td> 92681</td><td>117069</td><td> 76202</td><td> 98058</td><td>159908</td><td> 90196</td><td>130619</td></tr>\n",
              "\t<tr><th scope=row>ENSG00000091986</th><td>105505</td><td> 96830</td><td>202413</td><td>110598</td><td> 68921</td><td>120738</td><td>143058</td><td>164559</td></tr>\n",
              "\t<tr><th scope=row>ENSG00000163359</th><td>109033</td><td> 77467</td><td> 97628</td><td> 43154</td><td>111170</td><td> 95507</td><td> 87649</td><td> 75767</td></tr>\n",
              "\t<tr><th scope=row>ENSG00000168542</th><td>110294</td><td> 60146</td><td>127301</td><td> 42445</td><td>108422</td><td> 64423</td><td>107540</td><td> 56913</td></tr>\n",
              "\t<tr><th scope=row>ENSG00000196205</th><td>123066</td><td>105581</td><td>131254</td><td> 68626</td><td>117031</td><td>108148</td><td>103306</td><td> 89715</td></tr>\n",
              "\t<tr><th scope=row>ENSG00000166923</th><td>126514</td><td> 64824</td><td>156189</td><td> 59216</td><td>247345</td><td>336864</td><td> 98504</td><td> 56549</td></tr>\n",
              "\t<tr><th scope=row>ENSG00000087245</th><td>136267</td><td> 99702</td><td>147916</td><td> 73210</td><td>193948</td><td>195952</td><td>124891</td><td>115177</td></tr>\n",
              "\t<tr><th scope=row>ENSG00000108821</th><td>143038</td><td> 52204</td><td>157553</td><td> 37006</td><td>182901</td><td> 95449</td><td>134345</td><td> 48829</td></tr>\n",
              "\t<tr><th scope=row>ENSG00000077942</th><td>166952</td><td>141729</td><td>205873</td><td>122953</td><td>187161</td><td>212673</td><td>140466</td><td>147710</td></tr>\n",
              "\t<tr><th scope=row>ENSG00000198804</th><td>210138</td><td>213952</td><td>265361</td><td>169551</td><td>397791</td><td>401539</td><td>233051</td><td>248032</td></tr>\n",
              "\t<tr><th scope=row>ENSG00000011465</th><td>219586</td><td>191767</td><td>422752</td><td>214062</td><td>293318</td><td>313112</td><td>378834</td><td>372489</td></tr>\n",
              "\t<tr><th scope=row>ENSG00000116260</th><td>235670</td><td>204991</td><td>240239</td><td>119073</td><td>223381</td><td>302758</td><td>176053</td><td>169586</td></tr>\n",
              "\t<tr><th scope=row>ENSG00000087086</th><td>236805</td><td>138524</td><td>236361</td><td> 95045</td><td>343728</td><td>229323</td><td>167067</td><td>114257</td></tr>\n",
              "\t<tr><th scope=row>ENSG00000164692</th><td>240256</td><td>138718</td><td>262721</td><td>127208</td><td>253434</td><td>227499</td><td>246258</td><td>178471</td></tr>\n",
              "\t<tr><th scope=row>ENSG00000115414</th><td>260262</td><td>213986</td><td>513766</td><td>273878</td><td>252667</td><td>399841</td><td>345651</td><td>370450</td></tr>\n",
              "\t<tr><th scope=row>ENSG00000156508</th><td>297906</td><td>255662</td><td>329988</td><td>165709</td><td>290288</td><td>266337</td><td>255259</td><td>223691</td></tr>\n",
              "</tbody>\n",
              "</table>\n"
            ],
            "text/markdown": "\nA data.frame: 64102 × 8\n\n| <!--/--> | SRR1039508 &lt;int&gt; | SRR1039509 &lt;int&gt; | SRR1039512 &lt;int&gt; | SRR1039513 &lt;int&gt; | SRR1039516 &lt;int&gt; | SRR1039517 &lt;int&gt; | SRR1039520 &lt;int&gt; | SRR1039521 &lt;int&gt; |\n|---|---|---|---|---|---|---|---|---|\n| ENSG00000000005 | 0 | 0 | 0 | 0 | 0 | 0 | 0 | 0 |\n| ENSG00000000938 | 0 | 0 | 2 | 0 | 1 | 0 | 0 | 0 |\n| ENSG00000002726 | 0 | 0 | 1 | 0 | 0 | 0 | 0 | 0 |\n| ENSG00000003147 | 0 | 0 | 0 | 1 | 1 | 2 | 2 | 0 |\n| ENSG00000004809 | 0 | 0 | 0 | 0 | 0 | 0 | 0 | 0 |\n| ENSG00000004848 | 0 | 0 | 0 | 0 | 0 | 0 | 0 | 0 |\n| ENSG00000004939 | 0 | 0 | 0 | 0 | 0 | 0 | 0 | 0 |\n| ENSG00000004948 | 0 | 0 | 0 | 0 | 0 | 0 | 0 | 0 |\n| ENSG00000005001 | 0 | 0 | 0 | 0 | 0 | 0 | 0 | 0 |\n| ENSG00000005421 | 0 | 0 | 0 | 0 | 1 | 0 | 0 | 0 |\n| ENSG00000005981 | 0 | 0 | 0 | 0 | 0 | 0 | 0 | 0 |\n| ENSG00000006047 | 0 | 1 | 1 | 0 | 1 | 0 | 3 | 0 |\n| ENSG00000006059 | 0 | 0 | 0 | 0 | 0 | 0 | 0 | 0 |\n| ENSG00000006071 | 0 | 0 | 0 | 0 | 0 | 0 | 0 | 0 |\n| ENSG00000006074 | 0 | 0 | 0 | 0 | 0 | 0 | 0 | 1 |\n| ENSG00000006075 | 0 | 0 | 0 | 0 | 0 | 0 | 0 | 0 |\n| ENSG00000006116 | 0 | 0 | 0 | 0 | 0 | 0 | 0 | 0 |\n| ENSG00000006128 | 0 | 4 | 1 | 0 | 0 | 0 | 0 | 0 |\n| ENSG00000006377 | 0 | 0 | 0 | 0 | 0 | 0 | 0 | 0 |\n| ENSG00000006555 | 0 | 0 | 0 | 0 | 0 | 0 | 0 | 0 |\n| ENSG00000006611 | 0 | 0 | 0 | 0 | 0 | 0 | 0 | 0 |\n| ENSG00000006659 | 0 | 0 | 0 | 0 | 0 | 0 | 0 | 0 |\n| ENSG00000007129 | 0 | 0 | 0 | 0 | 0 | 0 | 0 | 0 |\n| ENSG00000007171 | 0 | 2 | 0 | 0 | 2 | 2 | 5 | 1 |\n| ENSG00000007174 | 0 | 1 | 1 | 0 | 2 | 1 | 1 | 0 |\n| ENSG00000007216 | 0 | 0 | 0 | 0 | 0 | 0 | 0 | 0 |\n| ENSG00000007264 | 0 | 0 | 0 | 0 | 0 | 1 | 0 | 0 |\n| ENSG00000007306 | 0 | 0 | 0 | 0 | 0 | 0 | 0 | 0 |\n| ENSG00000007314 | 0 | 1 | 2 | 1 | 1 | 0 | 1 | 0 |\n| ENSG00000007350 | 0 | 0 | 0 | 0 | 0 | 0 | 0 | 0 |\n| ⋮ | ⋮ | ⋮ | ⋮ | ⋮ | ⋮ | ⋮ | ⋮ | ⋮ |\n| ENSG00000237973 |  54003 |  54109 |  69562 |  44676 |  99291 | 103372 |  59185 |  64234 |\n| ENSG00000166147 |  54534 |  60069 |  87030 |  38765 |  79738 |  86151 |  58292 |  64247 |\n| ENSG00000141753 |  60796 |  51043 |  69127 |  32419 | 172978 | 175527 |  55871 |  41515 |\n| ENSG00000198886 |  61966 |  66128 |  95891 |  68249 |  95638 |  99240 |  60736 |  66113 |\n| ENSG00000196924 |  63807 |  66872 |  77479 |  58348 |  57690 | 146996 |  49196 |  74054 |\n| ENSG00000210082 |  64687 |  61852 | 139695 |  82229 | 213578 | 208118 |  72063 |  77239 |\n| ENSG00000266658 |  66954 |  29353 |  41298 |  22774 |  50453 |  56028 |  27644 |  53076 |\n| ENSG00000142156 |  67655 |  59655 |  93809 |  44483 |  94008 | 106560 |  79215 |  75235 |\n| ENSG00000167658 |  68142 |  62661 |  77098 |  35943 |  69870 |  71428 |  54351 |  59279 |\n| ENSG00000233476 |  72230 |  63051 |  81756 |  41064 |  72998 |  66957 |  64163 |  55567 |\n| ENSG00000115461 |  74051 |  79611 | 328753 | 137165 | 241640 | 216484 | 145858 | 148389 |\n| ENSG00000150991 |  76167 |  85370 |  87699 |  70700 | 106280 | 124105 |  80512 |  95539 |\n| ENSG00000142173 |  84280 |  65351 | 112894 |  56871 |  99922 | 121599 |  93127 |  89777 |\n| ENSG00000123384 |  88031 |  66581 | 106554 |  45594 |  90403 | 116088 |  85519 |  85527 |\n| ENSG00000124942 |  97093 |  92681 | 117069 |  76202 |  98058 | 159908 |  90196 | 130619 |\n| ENSG00000091986 | 105505 |  96830 | 202413 | 110598 |  68921 | 120738 | 143058 | 164559 |\n| ENSG00000163359 | 109033 |  77467 |  97628 |  43154 | 111170 |  95507 |  87649 |  75767 |\n| ENSG00000168542 | 110294 |  60146 | 127301 |  42445 | 108422 |  64423 | 107540 |  56913 |\n| ENSG00000196205 | 123066 | 105581 | 131254 |  68626 | 117031 | 108148 | 103306 |  89715 |\n| ENSG00000166923 | 126514 |  64824 | 156189 |  59216 | 247345 | 336864 |  98504 |  56549 |\n| ENSG00000087245 | 136267 |  99702 | 147916 |  73210 | 193948 | 195952 | 124891 | 115177 |\n| ENSG00000108821 | 143038 |  52204 | 157553 |  37006 | 182901 |  95449 | 134345 |  48829 |\n| ENSG00000077942 | 166952 | 141729 | 205873 | 122953 | 187161 | 212673 | 140466 | 147710 |\n| ENSG00000198804 | 210138 | 213952 | 265361 | 169551 | 397791 | 401539 | 233051 | 248032 |\n| ENSG00000011465 | 219586 | 191767 | 422752 | 214062 | 293318 | 313112 | 378834 | 372489 |\n| ENSG00000116260 | 235670 | 204991 | 240239 | 119073 | 223381 | 302758 | 176053 | 169586 |\n| ENSG00000087086 | 236805 | 138524 | 236361 |  95045 | 343728 | 229323 | 167067 | 114257 |\n| ENSG00000164692 | 240256 | 138718 | 262721 | 127208 | 253434 | 227499 | 246258 | 178471 |\n| ENSG00000115414 | 260262 | 213986 | 513766 | 273878 | 252667 | 399841 | 345651 | 370450 |\n| ENSG00000156508 | 297906 | 255662 | 329988 | 165709 | 290288 | 266337 | 255259 | 223691 |\n\n",
            "text/latex": "A data.frame: 64102 × 8\n\\begin{tabular}{r|llllllll}\n  & SRR1039508 & SRR1039509 & SRR1039512 & SRR1039513 & SRR1039516 & SRR1039517 & SRR1039520 & SRR1039521\\\\\n  & <int> & <int> & <int> & <int> & <int> & <int> & <int> & <int>\\\\\n\\hline\n\tENSG00000000005 & 0 & 0 & 0 & 0 & 0 & 0 & 0 & 0\\\\\n\tENSG00000000938 & 0 & 0 & 2 & 0 & 1 & 0 & 0 & 0\\\\\n\tENSG00000002726 & 0 & 0 & 1 & 0 & 0 & 0 & 0 & 0\\\\\n\tENSG00000003147 & 0 & 0 & 0 & 1 & 1 & 2 & 2 & 0\\\\\n\tENSG00000004809 & 0 & 0 & 0 & 0 & 0 & 0 & 0 & 0\\\\\n\tENSG00000004848 & 0 & 0 & 0 & 0 & 0 & 0 & 0 & 0\\\\\n\tENSG00000004939 & 0 & 0 & 0 & 0 & 0 & 0 & 0 & 0\\\\\n\tENSG00000004948 & 0 & 0 & 0 & 0 & 0 & 0 & 0 & 0\\\\\n\tENSG00000005001 & 0 & 0 & 0 & 0 & 0 & 0 & 0 & 0\\\\\n\tENSG00000005421 & 0 & 0 & 0 & 0 & 1 & 0 & 0 & 0\\\\\n\tENSG00000005981 & 0 & 0 & 0 & 0 & 0 & 0 & 0 & 0\\\\\n\tENSG00000006047 & 0 & 1 & 1 & 0 & 1 & 0 & 3 & 0\\\\\n\tENSG00000006059 & 0 & 0 & 0 & 0 & 0 & 0 & 0 & 0\\\\\n\tENSG00000006071 & 0 & 0 & 0 & 0 & 0 & 0 & 0 & 0\\\\\n\tENSG00000006074 & 0 & 0 & 0 & 0 & 0 & 0 & 0 & 1\\\\\n\tENSG00000006075 & 0 & 0 & 0 & 0 & 0 & 0 & 0 & 0\\\\\n\tENSG00000006116 & 0 & 0 & 0 & 0 & 0 & 0 & 0 & 0\\\\\n\tENSG00000006128 & 0 & 4 & 1 & 0 & 0 & 0 & 0 & 0\\\\\n\tENSG00000006377 & 0 & 0 & 0 & 0 & 0 & 0 & 0 & 0\\\\\n\tENSG00000006555 & 0 & 0 & 0 & 0 & 0 & 0 & 0 & 0\\\\\n\tENSG00000006611 & 0 & 0 & 0 & 0 & 0 & 0 & 0 & 0\\\\\n\tENSG00000006659 & 0 & 0 & 0 & 0 & 0 & 0 & 0 & 0\\\\\n\tENSG00000007129 & 0 & 0 & 0 & 0 & 0 & 0 & 0 & 0\\\\\n\tENSG00000007171 & 0 & 2 & 0 & 0 & 2 & 2 & 5 & 1\\\\\n\tENSG00000007174 & 0 & 1 & 1 & 0 & 2 & 1 & 1 & 0\\\\\n\tENSG00000007216 & 0 & 0 & 0 & 0 & 0 & 0 & 0 & 0\\\\\n\tENSG00000007264 & 0 & 0 & 0 & 0 & 0 & 1 & 0 & 0\\\\\n\tENSG00000007306 & 0 & 0 & 0 & 0 & 0 & 0 & 0 & 0\\\\\n\tENSG00000007314 & 0 & 1 & 2 & 1 & 1 & 0 & 1 & 0\\\\\n\tENSG00000007350 & 0 & 0 & 0 & 0 & 0 & 0 & 0 & 0\\\\\n\t⋮ & ⋮ & ⋮ & ⋮ & ⋮ & ⋮ & ⋮ & ⋮ & ⋮\\\\\n\tENSG00000237973 &  54003 &  54109 &  69562 &  44676 &  99291 & 103372 &  59185 &  64234\\\\\n\tENSG00000166147 &  54534 &  60069 &  87030 &  38765 &  79738 &  86151 &  58292 &  64247\\\\\n\tENSG00000141753 &  60796 &  51043 &  69127 &  32419 & 172978 & 175527 &  55871 &  41515\\\\\n\tENSG00000198886 &  61966 &  66128 &  95891 &  68249 &  95638 &  99240 &  60736 &  66113\\\\\n\tENSG00000196924 &  63807 &  66872 &  77479 &  58348 &  57690 & 146996 &  49196 &  74054\\\\\n\tENSG00000210082 &  64687 &  61852 & 139695 &  82229 & 213578 & 208118 &  72063 &  77239\\\\\n\tENSG00000266658 &  66954 &  29353 &  41298 &  22774 &  50453 &  56028 &  27644 &  53076\\\\\n\tENSG00000142156 &  67655 &  59655 &  93809 &  44483 &  94008 & 106560 &  79215 &  75235\\\\\n\tENSG00000167658 &  68142 &  62661 &  77098 &  35943 &  69870 &  71428 &  54351 &  59279\\\\\n\tENSG00000233476 &  72230 &  63051 &  81756 &  41064 &  72998 &  66957 &  64163 &  55567\\\\\n\tENSG00000115461 &  74051 &  79611 & 328753 & 137165 & 241640 & 216484 & 145858 & 148389\\\\\n\tENSG00000150991 &  76167 &  85370 &  87699 &  70700 & 106280 & 124105 &  80512 &  95539\\\\\n\tENSG00000142173 &  84280 &  65351 & 112894 &  56871 &  99922 & 121599 &  93127 &  89777\\\\\n\tENSG00000123384 &  88031 &  66581 & 106554 &  45594 &  90403 & 116088 &  85519 &  85527\\\\\n\tENSG00000124942 &  97093 &  92681 & 117069 &  76202 &  98058 & 159908 &  90196 & 130619\\\\\n\tENSG00000091986 & 105505 &  96830 & 202413 & 110598 &  68921 & 120738 & 143058 & 164559\\\\\n\tENSG00000163359 & 109033 &  77467 &  97628 &  43154 & 111170 &  95507 &  87649 &  75767\\\\\n\tENSG00000168542 & 110294 &  60146 & 127301 &  42445 & 108422 &  64423 & 107540 &  56913\\\\\n\tENSG00000196205 & 123066 & 105581 & 131254 &  68626 & 117031 & 108148 & 103306 &  89715\\\\\n\tENSG00000166923 & 126514 &  64824 & 156189 &  59216 & 247345 & 336864 &  98504 &  56549\\\\\n\tENSG00000087245 & 136267 &  99702 & 147916 &  73210 & 193948 & 195952 & 124891 & 115177\\\\\n\tENSG00000108821 & 143038 &  52204 & 157553 &  37006 & 182901 &  95449 & 134345 &  48829\\\\\n\tENSG00000077942 & 166952 & 141729 & 205873 & 122953 & 187161 & 212673 & 140466 & 147710\\\\\n\tENSG00000198804 & 210138 & 213952 & 265361 & 169551 & 397791 & 401539 & 233051 & 248032\\\\\n\tENSG00000011465 & 219586 & 191767 & 422752 & 214062 & 293318 & 313112 & 378834 & 372489\\\\\n\tENSG00000116260 & 235670 & 204991 & 240239 & 119073 & 223381 & 302758 & 176053 & 169586\\\\\n\tENSG00000087086 & 236805 & 138524 & 236361 &  95045 & 343728 & 229323 & 167067 & 114257\\\\\n\tENSG00000164692 & 240256 & 138718 & 262721 & 127208 & 253434 & 227499 & 246258 & 178471\\\\\n\tENSG00000115414 & 260262 & 213986 & 513766 & 273878 & 252667 & 399841 & 345651 & 370450\\\\\n\tENSG00000156508 & 297906 & 255662 & 329988 & 165709 & 290288 & 266337 & 255259 & 223691\\\\\n\\end{tabular}\n",
            "text/plain": [
              "                SRR1039508 SRR1039509 SRR1039512 SRR1039513 SRR1039516\n",
              "ENSG00000000005 0          0          0          0          0         \n",
              "ENSG00000000938 0          0          2          0          1         \n",
              "ENSG00000002726 0          0          1          0          0         \n",
              "ENSG00000003147 0          0          0          1          1         \n",
              "ENSG00000004809 0          0          0          0          0         \n",
              "ENSG00000004848 0          0          0          0          0         \n",
              "ENSG00000004939 0          0          0          0          0         \n",
              "ENSG00000004948 0          0          0          0          0         \n",
              "ENSG00000005001 0          0          0          0          0         \n",
              "ENSG00000005421 0          0          0          0          1         \n",
              "ENSG00000005981 0          0          0          0          0         \n",
              "ENSG00000006047 0          1          1          0          1         \n",
              "ENSG00000006059 0          0          0          0          0         \n",
              "ENSG00000006071 0          0          0          0          0         \n",
              "ENSG00000006074 0          0          0          0          0         \n",
              "ENSG00000006075 0          0          0          0          0         \n",
              "ENSG00000006116 0          0          0          0          0         \n",
              "ENSG00000006128 0          4          1          0          0         \n",
              "ENSG00000006377 0          0          0          0          0         \n",
              "ENSG00000006555 0          0          0          0          0         \n",
              "ENSG00000006611 0          0          0          0          0         \n",
              "ENSG00000006659 0          0          0          0          0         \n",
              "ENSG00000007129 0          0          0          0          0         \n",
              "ENSG00000007171 0          2          0          0          2         \n",
              "ENSG00000007174 0          1          1          0          2         \n",
              "ENSG00000007216 0          0          0          0          0         \n",
              "ENSG00000007264 0          0          0          0          0         \n",
              "ENSG00000007306 0          0          0          0          0         \n",
              "ENSG00000007314 0          1          2          1          1         \n",
              "ENSG00000007350 0          0          0          0          0         \n",
              "⋮               ⋮          ⋮          ⋮          ⋮          ⋮         \n",
              "ENSG00000237973  54003      54109      69562      44676      99291    \n",
              "ENSG00000166147  54534      60069      87030      38765      79738    \n",
              "ENSG00000141753  60796      51043      69127      32419     172978    \n",
              "ENSG00000198886  61966      66128      95891      68249      95638    \n",
              "ENSG00000196924  63807      66872      77479      58348      57690    \n",
              "ENSG00000210082  64687      61852     139695      82229     213578    \n",
              "ENSG00000266658  66954      29353      41298      22774      50453    \n",
              "ENSG00000142156  67655      59655      93809      44483      94008    \n",
              "ENSG00000167658  68142      62661      77098      35943      69870    \n",
              "ENSG00000233476  72230      63051      81756      41064      72998    \n",
              "ENSG00000115461  74051      79611     328753     137165     241640    \n",
              "ENSG00000150991  76167      85370      87699      70700     106280    \n",
              "ENSG00000142173  84280      65351     112894      56871      99922    \n",
              "ENSG00000123384  88031      66581     106554      45594      90403    \n",
              "ENSG00000124942  97093      92681     117069      76202      98058    \n",
              "ENSG00000091986 105505      96830     202413     110598      68921    \n",
              "ENSG00000163359 109033      77467      97628      43154     111170    \n",
              "ENSG00000168542 110294      60146     127301      42445     108422    \n",
              "ENSG00000196205 123066     105581     131254      68626     117031    \n",
              "ENSG00000166923 126514      64824     156189      59216     247345    \n",
              "ENSG00000087245 136267      99702     147916      73210     193948    \n",
              "ENSG00000108821 143038      52204     157553      37006     182901    \n",
              "ENSG00000077942 166952     141729     205873     122953     187161    \n",
              "ENSG00000198804 210138     213952     265361     169551     397791    \n",
              "ENSG00000011465 219586     191767     422752     214062     293318    \n",
              "ENSG00000116260 235670     204991     240239     119073     223381    \n",
              "ENSG00000087086 236805     138524     236361      95045     343728    \n",
              "ENSG00000164692 240256     138718     262721     127208     253434    \n",
              "ENSG00000115414 260262     213986     513766     273878     252667    \n",
              "ENSG00000156508 297906     255662     329988     165709     290288    \n",
              "                SRR1039517 SRR1039520 SRR1039521\n",
              "ENSG00000000005 0          0          0         \n",
              "ENSG00000000938 0          0          0         \n",
              "ENSG00000002726 0          0          0         \n",
              "ENSG00000003147 2          2          0         \n",
              "ENSG00000004809 0          0          0         \n",
              "ENSG00000004848 0          0          0         \n",
              "ENSG00000004939 0          0          0         \n",
              "ENSG00000004948 0          0          0         \n",
              "ENSG00000005001 0          0          0         \n",
              "ENSG00000005421 0          0          0         \n",
              "ENSG00000005981 0          0          0         \n",
              "ENSG00000006047 0          3          0         \n",
              "ENSG00000006059 0          0          0         \n",
              "ENSG00000006071 0          0          0         \n",
              "ENSG00000006074 0          0          1         \n",
              "ENSG00000006075 0          0          0         \n",
              "ENSG00000006116 0          0          0         \n",
              "ENSG00000006128 0          0          0         \n",
              "ENSG00000006377 0          0          0         \n",
              "ENSG00000006555 0          0          0         \n",
              "ENSG00000006611 0          0          0         \n",
              "ENSG00000006659 0          0          0         \n",
              "ENSG00000007129 0          0          0         \n",
              "ENSG00000007171 2          5          1         \n",
              "ENSG00000007174 1          1          0         \n",
              "ENSG00000007216 0          0          0         \n",
              "ENSG00000007264 1          0          0         \n",
              "ENSG00000007306 0          0          0         \n",
              "ENSG00000007314 0          1          0         \n",
              "ENSG00000007350 0          0          0         \n",
              "⋮               ⋮          ⋮          ⋮         \n",
              "ENSG00000237973 103372      59185      64234    \n",
              "ENSG00000166147  86151      58292      64247    \n",
              "ENSG00000141753 175527      55871      41515    \n",
              "ENSG00000198886  99240      60736      66113    \n",
              "ENSG00000196924 146996      49196      74054    \n",
              "ENSG00000210082 208118      72063      77239    \n",
              "ENSG00000266658  56028      27644      53076    \n",
              "ENSG00000142156 106560      79215      75235    \n",
              "ENSG00000167658  71428      54351      59279    \n",
              "ENSG00000233476  66957      64163      55567    \n",
              "ENSG00000115461 216484     145858     148389    \n",
              "ENSG00000150991 124105      80512      95539    \n",
              "ENSG00000142173 121599      93127      89777    \n",
              "ENSG00000123384 116088      85519      85527    \n",
              "ENSG00000124942 159908      90196     130619    \n",
              "ENSG00000091986 120738     143058     164559    \n",
              "ENSG00000163359  95507      87649      75767    \n",
              "ENSG00000168542  64423     107540      56913    \n",
              "ENSG00000196205 108148     103306      89715    \n",
              "ENSG00000166923 336864      98504      56549    \n",
              "ENSG00000087245 195952     124891     115177    \n",
              "ENSG00000108821  95449     134345      48829    \n",
              "ENSG00000077942 212673     140466     147710    \n",
              "ENSG00000198804 401539     233051     248032    \n",
              "ENSG00000011465 313112     378834     372489    \n",
              "ENSG00000116260 302758     176053     169586    \n",
              "ENSG00000087086 229323     167067     114257    \n",
              "ENSG00000164692 227499     246258     178471    \n",
              "ENSG00000115414 399841     345651     370450    \n",
              "ENSG00000156508 266337     255259     223691    "
            ]
          },
          "metadata": {}
        }
      ]
    },
    {
      "cell_type": "code",
      "source": [
        "# Arrange the dataset in descending order based on SRR1039508\n",
        "arranged_data_desc <- arrange(data, desc(SRR1039508))\n",
        "arranged_data_desc"
      ],
      "metadata": {
        "colab": {
          "base_uri": "https://localhost:8080/",
          "height": 1000
        },
        "id": "Wmdfxa1O0lZJ",
        "outputId": "093272c5-1676-4fa9-caa1-b4d064284a43"
      },
      "execution_count": 10,
      "outputs": [
        {
          "output_type": "display_data",
          "data": {
            "text/html": [
              "<table class=\"dataframe\">\n",
              "<caption>A data.frame: 64102 × 8</caption>\n",
              "<thead>\n",
              "\t<tr><th></th><th scope=col>SRR1039508</th><th scope=col>SRR1039509</th><th scope=col>SRR1039512</th><th scope=col>SRR1039513</th><th scope=col>SRR1039516</th><th scope=col>SRR1039517</th><th scope=col>SRR1039520</th><th scope=col>SRR1039521</th></tr>\n",
              "\t<tr><th></th><th scope=col>&lt;int&gt;</th><th scope=col>&lt;int&gt;</th><th scope=col>&lt;int&gt;</th><th scope=col>&lt;int&gt;</th><th scope=col>&lt;int&gt;</th><th scope=col>&lt;int&gt;</th><th scope=col>&lt;int&gt;</th><th scope=col>&lt;int&gt;</th></tr>\n",
              "</thead>\n",
              "<tbody>\n",
              "\t<tr><th scope=row>ENSG00000156508</th><td>297906</td><td>255662</td><td>329988</td><td>165709</td><td>290288</td><td>266337</td><td>255259</td><td>223691</td></tr>\n",
              "\t<tr><th scope=row>ENSG00000115414</th><td>260262</td><td>213986</td><td>513766</td><td>273878</td><td>252667</td><td>399841</td><td>345651</td><td>370450</td></tr>\n",
              "\t<tr><th scope=row>ENSG00000164692</th><td>240256</td><td>138718</td><td>262721</td><td>127208</td><td>253434</td><td>227499</td><td>246258</td><td>178471</td></tr>\n",
              "\t<tr><th scope=row>ENSG00000087086</th><td>236805</td><td>138524</td><td>236361</td><td> 95045</td><td>343728</td><td>229323</td><td>167067</td><td>114257</td></tr>\n",
              "\t<tr><th scope=row>ENSG00000116260</th><td>235670</td><td>204991</td><td>240239</td><td>119073</td><td>223381</td><td>302758</td><td>176053</td><td>169586</td></tr>\n",
              "\t<tr><th scope=row>ENSG00000011465</th><td>219586</td><td>191767</td><td>422752</td><td>214062</td><td>293318</td><td>313112</td><td>378834</td><td>372489</td></tr>\n",
              "\t<tr><th scope=row>ENSG00000198804</th><td>210138</td><td>213952</td><td>265361</td><td>169551</td><td>397791</td><td>401539</td><td>233051</td><td>248032</td></tr>\n",
              "\t<tr><th scope=row>ENSG00000077942</th><td>166952</td><td>141729</td><td>205873</td><td>122953</td><td>187161</td><td>212673</td><td>140466</td><td>147710</td></tr>\n",
              "\t<tr><th scope=row>ENSG00000108821</th><td>143038</td><td> 52204</td><td>157553</td><td> 37006</td><td>182901</td><td> 95449</td><td>134345</td><td> 48829</td></tr>\n",
              "\t<tr><th scope=row>ENSG00000087245</th><td>136267</td><td> 99702</td><td>147916</td><td> 73210</td><td>193948</td><td>195952</td><td>124891</td><td>115177</td></tr>\n",
              "\t<tr><th scope=row>ENSG00000166923</th><td>126514</td><td> 64824</td><td>156189</td><td> 59216</td><td>247345</td><td>336864</td><td> 98504</td><td> 56549</td></tr>\n",
              "\t<tr><th scope=row>ENSG00000196205</th><td>123066</td><td>105581</td><td>131254</td><td> 68626</td><td>117031</td><td>108148</td><td>103306</td><td> 89715</td></tr>\n",
              "\t<tr><th scope=row>ENSG00000168542</th><td>110294</td><td> 60146</td><td>127301</td><td> 42445</td><td>108422</td><td> 64423</td><td>107540</td><td> 56913</td></tr>\n",
              "\t<tr><th scope=row>ENSG00000163359</th><td>109033</td><td> 77467</td><td> 97628</td><td> 43154</td><td>111170</td><td> 95507</td><td> 87649</td><td> 75767</td></tr>\n",
              "\t<tr><th scope=row>ENSG00000091986</th><td>105505</td><td> 96830</td><td>202413</td><td>110598</td><td> 68921</td><td>120738</td><td>143058</td><td>164559</td></tr>\n",
              "\t<tr><th scope=row>ENSG00000124942</th><td> 97093</td><td> 92681</td><td>117069</td><td> 76202</td><td> 98058</td><td>159908</td><td> 90196</td><td>130619</td></tr>\n",
              "\t<tr><th scope=row>ENSG00000123384</th><td> 88031</td><td> 66581</td><td>106554</td><td> 45594</td><td> 90403</td><td>116088</td><td> 85519</td><td> 85527</td></tr>\n",
              "\t<tr><th scope=row>ENSG00000142173</th><td> 84280</td><td> 65351</td><td>112894</td><td> 56871</td><td> 99922</td><td>121599</td><td> 93127</td><td> 89777</td></tr>\n",
              "\t<tr><th scope=row>ENSG00000150991</th><td> 76167</td><td> 85370</td><td> 87699</td><td> 70700</td><td>106280</td><td>124105</td><td> 80512</td><td> 95539</td></tr>\n",
              "\t<tr><th scope=row>ENSG00000115461</th><td> 74051</td><td> 79611</td><td>328753</td><td>137165</td><td>241640</td><td>216484</td><td>145858</td><td>148389</td></tr>\n",
              "\t<tr><th scope=row>ENSG00000233476</th><td> 72230</td><td> 63051</td><td> 81756</td><td> 41064</td><td> 72998</td><td> 66957</td><td> 64163</td><td> 55567</td></tr>\n",
              "\t<tr><th scope=row>ENSG00000167658</th><td> 68142</td><td> 62661</td><td> 77098</td><td> 35943</td><td> 69870</td><td> 71428</td><td> 54351</td><td> 59279</td></tr>\n",
              "\t<tr><th scope=row>ENSG00000142156</th><td> 67655</td><td> 59655</td><td> 93809</td><td> 44483</td><td> 94008</td><td>106560</td><td> 79215</td><td> 75235</td></tr>\n",
              "\t<tr><th scope=row>ENSG00000266658</th><td> 66954</td><td> 29353</td><td> 41298</td><td> 22774</td><td> 50453</td><td> 56028</td><td> 27644</td><td> 53076</td></tr>\n",
              "\t<tr><th scope=row>ENSG00000210082</th><td> 64687</td><td> 61852</td><td>139695</td><td> 82229</td><td>213578</td><td>208118</td><td> 72063</td><td> 77239</td></tr>\n",
              "\t<tr><th scope=row>ENSG00000196924</th><td> 63807</td><td> 66872</td><td> 77479</td><td> 58348</td><td> 57690</td><td>146996</td><td> 49196</td><td> 74054</td></tr>\n",
              "\t<tr><th scope=row>ENSG00000198886</th><td> 61966</td><td> 66128</td><td> 95891</td><td> 68249</td><td> 95638</td><td> 99240</td><td> 60736</td><td> 66113</td></tr>\n",
              "\t<tr><th scope=row>ENSG00000141753</th><td> 60796</td><td> 51043</td><td> 69127</td><td> 32419</td><td>172978</td><td>175527</td><td> 55871</td><td> 41515</td></tr>\n",
              "\t<tr><th scope=row>ENSG00000166147</th><td> 54534</td><td> 60069</td><td> 87030</td><td> 38765</td><td> 79738</td><td> 86151</td><td> 58292</td><td> 64247</td></tr>\n",
              "\t<tr><th scope=row>ENSG00000237973</th><td> 54003</td><td> 54109</td><td> 69562</td><td> 44676</td><td> 99291</td><td>103372</td><td> 59185</td><td> 64234</td></tr>\n",
              "\t<tr><th scope=row>⋮</th><td>⋮</td><td>⋮</td><td>⋮</td><td>⋮</td><td>⋮</td><td>⋮</td><td>⋮</td><td>⋮</td></tr>\n",
              "\t<tr><th scope=row>LRG_70</th><td>0</td><td>0</td><td>0</td><td>0</td><td>0</td><td>0</td><td>0</td><td>0</td></tr>\n",
              "\t<tr><th scope=row>LRG_71</th><td>0</td><td>0</td><td>0</td><td>0</td><td>0</td><td>0</td><td>0</td><td>0</td></tr>\n",
              "\t<tr><th scope=row>LRG_715</th><td>0</td><td>0</td><td>0</td><td>0</td><td>0</td><td>0</td><td>0</td><td>0</td></tr>\n",
              "\t<tr><th scope=row>LRG_717</th><td>0</td><td>0</td><td>0</td><td>0</td><td>0</td><td>0</td><td>0</td><td>0</td></tr>\n",
              "\t<tr><th scope=row>LRG_72</th><td>0</td><td>0</td><td>0</td><td>0</td><td>0</td><td>0</td><td>0</td><td>0</td></tr>\n",
              "\t<tr><th scope=row>LRG_73</th><td>0</td><td>0</td><td>0</td><td>0</td><td>0</td><td>0</td><td>0</td><td>0</td></tr>\n",
              "\t<tr><th scope=row>LRG_74</th><td>0</td><td>0</td><td>0</td><td>0</td><td>0</td><td>0</td><td>0</td><td>0</td></tr>\n",
              "\t<tr><th scope=row>LRG_75</th><td>0</td><td>0</td><td>0</td><td>0</td><td>0</td><td>0</td><td>0</td><td>0</td></tr>\n",
              "\t<tr><th scope=row>LRG_76</th><td>0</td><td>0</td><td>0</td><td>0</td><td>0</td><td>0</td><td>0</td><td>0</td></tr>\n",
              "\t<tr><th scope=row>LRG_77</th><td>0</td><td>0</td><td>0</td><td>0</td><td>0</td><td>0</td><td>0</td><td>0</td></tr>\n",
              "\t<tr><th scope=row>LRG_78</th><td>0</td><td>0</td><td>0</td><td>0</td><td>0</td><td>0</td><td>0</td><td>0</td></tr>\n",
              "\t<tr><th scope=row>LRG_79</th><td>0</td><td>0</td><td>0</td><td>0</td><td>0</td><td>0</td><td>0</td><td>0</td></tr>\n",
              "\t<tr><th scope=row>LRG_8</th><td>0</td><td>0</td><td>0</td><td>0</td><td>0</td><td>0</td><td>0</td><td>0</td></tr>\n",
              "\t<tr><th scope=row>LRG_80</th><td>0</td><td>0</td><td>0</td><td>0</td><td>0</td><td>0</td><td>0</td><td>0</td></tr>\n",
              "\t<tr><th scope=row>LRG_81</th><td>0</td><td>0</td><td>0</td><td>0</td><td>0</td><td>0</td><td>0</td><td>0</td></tr>\n",
              "\t<tr><th scope=row>LRG_83</th><td>0</td><td>0</td><td>0</td><td>0</td><td>0</td><td>0</td><td>0</td><td>0</td></tr>\n",
              "\t<tr><th scope=row>LRG_84</th><td>0</td><td>0</td><td>0</td><td>0</td><td>0</td><td>0</td><td>0</td><td>0</td></tr>\n",
              "\t<tr><th scope=row>LRG_85</th><td>0</td><td>0</td><td>0</td><td>0</td><td>0</td><td>0</td><td>0</td><td>0</td></tr>\n",
              "\t<tr><th scope=row>LRG_86</th><td>0</td><td>0</td><td>0</td><td>0</td><td>0</td><td>0</td><td>0</td><td>0</td></tr>\n",
              "\t<tr><th scope=row>LRG_88</th><td>0</td><td>0</td><td>0</td><td>0</td><td>0</td><td>0</td><td>0</td><td>0</td></tr>\n",
              "\t<tr><th scope=row>LRG_89</th><td>0</td><td>0</td><td>0</td><td>0</td><td>0</td><td>0</td><td>0</td><td>0</td></tr>\n",
              "\t<tr><th scope=row>LRG_90</th><td>0</td><td>0</td><td>0</td><td>0</td><td>0</td><td>0</td><td>0</td><td>0</td></tr>\n",
              "\t<tr><th scope=row>LRG_91</th><td>0</td><td>0</td><td>0</td><td>0</td><td>0</td><td>0</td><td>0</td><td>0</td></tr>\n",
              "\t<tr><th scope=row>LRG_92</th><td>0</td><td>0</td><td>0</td><td>0</td><td>0</td><td>0</td><td>0</td><td>0</td></tr>\n",
              "\t<tr><th scope=row>LRG_93</th><td>0</td><td>0</td><td>0</td><td>0</td><td>0</td><td>0</td><td>0</td><td>0</td></tr>\n",
              "\t<tr><th scope=row>LRG_94</th><td>0</td><td>0</td><td>0</td><td>0</td><td>0</td><td>0</td><td>0</td><td>0</td></tr>\n",
              "\t<tr><th scope=row>LRG_96</th><td>0</td><td>0</td><td>0</td><td>0</td><td>0</td><td>0</td><td>0</td><td>0</td></tr>\n",
              "\t<tr><th scope=row>LRG_97</th><td>0</td><td>0</td><td>0</td><td>0</td><td>0</td><td>0</td><td>0</td><td>0</td></tr>\n",
              "\t<tr><th scope=row>LRG_98</th><td>0</td><td>0</td><td>0</td><td>0</td><td>0</td><td>0</td><td>0</td><td>0</td></tr>\n",
              "\t<tr><th scope=row>LRG_99</th><td>0</td><td>0</td><td>0</td><td>0</td><td>0</td><td>0</td><td>0</td><td>0</td></tr>\n",
              "</tbody>\n",
              "</table>\n"
            ],
            "text/markdown": "\nA data.frame: 64102 × 8\n\n| <!--/--> | SRR1039508 &lt;int&gt; | SRR1039509 &lt;int&gt; | SRR1039512 &lt;int&gt; | SRR1039513 &lt;int&gt; | SRR1039516 &lt;int&gt; | SRR1039517 &lt;int&gt; | SRR1039520 &lt;int&gt; | SRR1039521 &lt;int&gt; |\n|---|---|---|---|---|---|---|---|---|\n| ENSG00000156508 | 297906 | 255662 | 329988 | 165709 | 290288 | 266337 | 255259 | 223691 |\n| ENSG00000115414 | 260262 | 213986 | 513766 | 273878 | 252667 | 399841 | 345651 | 370450 |\n| ENSG00000164692 | 240256 | 138718 | 262721 | 127208 | 253434 | 227499 | 246258 | 178471 |\n| ENSG00000087086 | 236805 | 138524 | 236361 |  95045 | 343728 | 229323 | 167067 | 114257 |\n| ENSG00000116260 | 235670 | 204991 | 240239 | 119073 | 223381 | 302758 | 176053 | 169586 |\n| ENSG00000011465 | 219586 | 191767 | 422752 | 214062 | 293318 | 313112 | 378834 | 372489 |\n| ENSG00000198804 | 210138 | 213952 | 265361 | 169551 | 397791 | 401539 | 233051 | 248032 |\n| ENSG00000077942 | 166952 | 141729 | 205873 | 122953 | 187161 | 212673 | 140466 | 147710 |\n| ENSG00000108821 | 143038 |  52204 | 157553 |  37006 | 182901 |  95449 | 134345 |  48829 |\n| ENSG00000087245 | 136267 |  99702 | 147916 |  73210 | 193948 | 195952 | 124891 | 115177 |\n| ENSG00000166923 | 126514 |  64824 | 156189 |  59216 | 247345 | 336864 |  98504 |  56549 |\n| ENSG00000196205 | 123066 | 105581 | 131254 |  68626 | 117031 | 108148 | 103306 |  89715 |\n| ENSG00000168542 | 110294 |  60146 | 127301 |  42445 | 108422 |  64423 | 107540 |  56913 |\n| ENSG00000163359 | 109033 |  77467 |  97628 |  43154 | 111170 |  95507 |  87649 |  75767 |\n| ENSG00000091986 | 105505 |  96830 | 202413 | 110598 |  68921 | 120738 | 143058 | 164559 |\n| ENSG00000124942 |  97093 |  92681 | 117069 |  76202 |  98058 | 159908 |  90196 | 130619 |\n| ENSG00000123384 |  88031 |  66581 | 106554 |  45594 |  90403 | 116088 |  85519 |  85527 |\n| ENSG00000142173 |  84280 |  65351 | 112894 |  56871 |  99922 | 121599 |  93127 |  89777 |\n| ENSG00000150991 |  76167 |  85370 |  87699 |  70700 | 106280 | 124105 |  80512 |  95539 |\n| ENSG00000115461 |  74051 |  79611 | 328753 | 137165 | 241640 | 216484 | 145858 | 148389 |\n| ENSG00000233476 |  72230 |  63051 |  81756 |  41064 |  72998 |  66957 |  64163 |  55567 |\n| ENSG00000167658 |  68142 |  62661 |  77098 |  35943 |  69870 |  71428 |  54351 |  59279 |\n| ENSG00000142156 |  67655 |  59655 |  93809 |  44483 |  94008 | 106560 |  79215 |  75235 |\n| ENSG00000266658 |  66954 |  29353 |  41298 |  22774 |  50453 |  56028 |  27644 |  53076 |\n| ENSG00000210082 |  64687 |  61852 | 139695 |  82229 | 213578 | 208118 |  72063 |  77239 |\n| ENSG00000196924 |  63807 |  66872 |  77479 |  58348 |  57690 | 146996 |  49196 |  74054 |\n| ENSG00000198886 |  61966 |  66128 |  95891 |  68249 |  95638 |  99240 |  60736 |  66113 |\n| ENSG00000141753 |  60796 |  51043 |  69127 |  32419 | 172978 | 175527 |  55871 |  41515 |\n| ENSG00000166147 |  54534 |  60069 |  87030 |  38765 |  79738 |  86151 |  58292 |  64247 |\n| ENSG00000237973 |  54003 |  54109 |  69562 |  44676 |  99291 | 103372 |  59185 |  64234 |\n| ⋮ | ⋮ | ⋮ | ⋮ | ⋮ | ⋮ | ⋮ | ⋮ | ⋮ |\n| LRG_70 | 0 | 0 | 0 | 0 | 0 | 0 | 0 | 0 |\n| LRG_71 | 0 | 0 | 0 | 0 | 0 | 0 | 0 | 0 |\n| LRG_715 | 0 | 0 | 0 | 0 | 0 | 0 | 0 | 0 |\n| LRG_717 | 0 | 0 | 0 | 0 | 0 | 0 | 0 | 0 |\n| LRG_72 | 0 | 0 | 0 | 0 | 0 | 0 | 0 | 0 |\n| LRG_73 | 0 | 0 | 0 | 0 | 0 | 0 | 0 | 0 |\n| LRG_74 | 0 | 0 | 0 | 0 | 0 | 0 | 0 | 0 |\n| LRG_75 | 0 | 0 | 0 | 0 | 0 | 0 | 0 | 0 |\n| LRG_76 | 0 | 0 | 0 | 0 | 0 | 0 | 0 | 0 |\n| LRG_77 | 0 | 0 | 0 | 0 | 0 | 0 | 0 | 0 |\n| LRG_78 | 0 | 0 | 0 | 0 | 0 | 0 | 0 | 0 |\n| LRG_79 | 0 | 0 | 0 | 0 | 0 | 0 | 0 | 0 |\n| LRG_8 | 0 | 0 | 0 | 0 | 0 | 0 | 0 | 0 |\n| LRG_80 | 0 | 0 | 0 | 0 | 0 | 0 | 0 | 0 |\n| LRG_81 | 0 | 0 | 0 | 0 | 0 | 0 | 0 | 0 |\n| LRG_83 | 0 | 0 | 0 | 0 | 0 | 0 | 0 | 0 |\n| LRG_84 | 0 | 0 | 0 | 0 | 0 | 0 | 0 | 0 |\n| LRG_85 | 0 | 0 | 0 | 0 | 0 | 0 | 0 | 0 |\n| LRG_86 | 0 | 0 | 0 | 0 | 0 | 0 | 0 | 0 |\n| LRG_88 | 0 | 0 | 0 | 0 | 0 | 0 | 0 | 0 |\n| LRG_89 | 0 | 0 | 0 | 0 | 0 | 0 | 0 | 0 |\n| LRG_90 | 0 | 0 | 0 | 0 | 0 | 0 | 0 | 0 |\n| LRG_91 | 0 | 0 | 0 | 0 | 0 | 0 | 0 | 0 |\n| LRG_92 | 0 | 0 | 0 | 0 | 0 | 0 | 0 | 0 |\n| LRG_93 | 0 | 0 | 0 | 0 | 0 | 0 | 0 | 0 |\n| LRG_94 | 0 | 0 | 0 | 0 | 0 | 0 | 0 | 0 |\n| LRG_96 | 0 | 0 | 0 | 0 | 0 | 0 | 0 | 0 |\n| LRG_97 | 0 | 0 | 0 | 0 | 0 | 0 | 0 | 0 |\n| LRG_98 | 0 | 0 | 0 | 0 | 0 | 0 | 0 | 0 |\n| LRG_99 | 0 | 0 | 0 | 0 | 0 | 0 | 0 | 0 |\n\n",
            "text/latex": "A data.frame: 64102 × 8\n\\begin{tabular}{r|llllllll}\n  & SRR1039508 & SRR1039509 & SRR1039512 & SRR1039513 & SRR1039516 & SRR1039517 & SRR1039520 & SRR1039521\\\\\n  & <int> & <int> & <int> & <int> & <int> & <int> & <int> & <int>\\\\\n\\hline\n\tENSG00000156508 & 297906 & 255662 & 329988 & 165709 & 290288 & 266337 & 255259 & 223691\\\\\n\tENSG00000115414 & 260262 & 213986 & 513766 & 273878 & 252667 & 399841 & 345651 & 370450\\\\\n\tENSG00000164692 & 240256 & 138718 & 262721 & 127208 & 253434 & 227499 & 246258 & 178471\\\\\n\tENSG00000087086 & 236805 & 138524 & 236361 &  95045 & 343728 & 229323 & 167067 & 114257\\\\\n\tENSG00000116260 & 235670 & 204991 & 240239 & 119073 & 223381 & 302758 & 176053 & 169586\\\\\n\tENSG00000011465 & 219586 & 191767 & 422752 & 214062 & 293318 & 313112 & 378834 & 372489\\\\\n\tENSG00000198804 & 210138 & 213952 & 265361 & 169551 & 397791 & 401539 & 233051 & 248032\\\\\n\tENSG00000077942 & 166952 & 141729 & 205873 & 122953 & 187161 & 212673 & 140466 & 147710\\\\\n\tENSG00000108821 & 143038 &  52204 & 157553 &  37006 & 182901 &  95449 & 134345 &  48829\\\\\n\tENSG00000087245 & 136267 &  99702 & 147916 &  73210 & 193948 & 195952 & 124891 & 115177\\\\\n\tENSG00000166923 & 126514 &  64824 & 156189 &  59216 & 247345 & 336864 &  98504 &  56549\\\\\n\tENSG00000196205 & 123066 & 105581 & 131254 &  68626 & 117031 & 108148 & 103306 &  89715\\\\\n\tENSG00000168542 & 110294 &  60146 & 127301 &  42445 & 108422 &  64423 & 107540 &  56913\\\\\n\tENSG00000163359 & 109033 &  77467 &  97628 &  43154 & 111170 &  95507 &  87649 &  75767\\\\\n\tENSG00000091986 & 105505 &  96830 & 202413 & 110598 &  68921 & 120738 & 143058 & 164559\\\\\n\tENSG00000124942 &  97093 &  92681 & 117069 &  76202 &  98058 & 159908 &  90196 & 130619\\\\\n\tENSG00000123384 &  88031 &  66581 & 106554 &  45594 &  90403 & 116088 &  85519 &  85527\\\\\n\tENSG00000142173 &  84280 &  65351 & 112894 &  56871 &  99922 & 121599 &  93127 &  89777\\\\\n\tENSG00000150991 &  76167 &  85370 &  87699 &  70700 & 106280 & 124105 &  80512 &  95539\\\\\n\tENSG00000115461 &  74051 &  79611 & 328753 & 137165 & 241640 & 216484 & 145858 & 148389\\\\\n\tENSG00000233476 &  72230 &  63051 &  81756 &  41064 &  72998 &  66957 &  64163 &  55567\\\\\n\tENSG00000167658 &  68142 &  62661 &  77098 &  35943 &  69870 &  71428 &  54351 &  59279\\\\\n\tENSG00000142156 &  67655 &  59655 &  93809 &  44483 &  94008 & 106560 &  79215 &  75235\\\\\n\tENSG00000266658 &  66954 &  29353 &  41298 &  22774 &  50453 &  56028 &  27644 &  53076\\\\\n\tENSG00000210082 &  64687 &  61852 & 139695 &  82229 & 213578 & 208118 &  72063 &  77239\\\\\n\tENSG00000196924 &  63807 &  66872 &  77479 &  58348 &  57690 & 146996 &  49196 &  74054\\\\\n\tENSG00000198886 &  61966 &  66128 &  95891 &  68249 &  95638 &  99240 &  60736 &  66113\\\\\n\tENSG00000141753 &  60796 &  51043 &  69127 &  32419 & 172978 & 175527 &  55871 &  41515\\\\\n\tENSG00000166147 &  54534 &  60069 &  87030 &  38765 &  79738 &  86151 &  58292 &  64247\\\\\n\tENSG00000237973 &  54003 &  54109 &  69562 &  44676 &  99291 & 103372 &  59185 &  64234\\\\\n\t⋮ & ⋮ & ⋮ & ⋮ & ⋮ & ⋮ & ⋮ & ⋮ & ⋮\\\\\n\tLRG\\_70 & 0 & 0 & 0 & 0 & 0 & 0 & 0 & 0\\\\\n\tLRG\\_71 & 0 & 0 & 0 & 0 & 0 & 0 & 0 & 0\\\\\n\tLRG\\_715 & 0 & 0 & 0 & 0 & 0 & 0 & 0 & 0\\\\\n\tLRG\\_717 & 0 & 0 & 0 & 0 & 0 & 0 & 0 & 0\\\\\n\tLRG\\_72 & 0 & 0 & 0 & 0 & 0 & 0 & 0 & 0\\\\\n\tLRG\\_73 & 0 & 0 & 0 & 0 & 0 & 0 & 0 & 0\\\\\n\tLRG\\_74 & 0 & 0 & 0 & 0 & 0 & 0 & 0 & 0\\\\\n\tLRG\\_75 & 0 & 0 & 0 & 0 & 0 & 0 & 0 & 0\\\\\n\tLRG\\_76 & 0 & 0 & 0 & 0 & 0 & 0 & 0 & 0\\\\\n\tLRG\\_77 & 0 & 0 & 0 & 0 & 0 & 0 & 0 & 0\\\\\n\tLRG\\_78 & 0 & 0 & 0 & 0 & 0 & 0 & 0 & 0\\\\\n\tLRG\\_79 & 0 & 0 & 0 & 0 & 0 & 0 & 0 & 0\\\\\n\tLRG\\_8 & 0 & 0 & 0 & 0 & 0 & 0 & 0 & 0\\\\\n\tLRG\\_80 & 0 & 0 & 0 & 0 & 0 & 0 & 0 & 0\\\\\n\tLRG\\_81 & 0 & 0 & 0 & 0 & 0 & 0 & 0 & 0\\\\\n\tLRG\\_83 & 0 & 0 & 0 & 0 & 0 & 0 & 0 & 0\\\\\n\tLRG\\_84 & 0 & 0 & 0 & 0 & 0 & 0 & 0 & 0\\\\\n\tLRG\\_85 & 0 & 0 & 0 & 0 & 0 & 0 & 0 & 0\\\\\n\tLRG\\_86 & 0 & 0 & 0 & 0 & 0 & 0 & 0 & 0\\\\\n\tLRG\\_88 & 0 & 0 & 0 & 0 & 0 & 0 & 0 & 0\\\\\n\tLRG\\_89 & 0 & 0 & 0 & 0 & 0 & 0 & 0 & 0\\\\\n\tLRG\\_90 & 0 & 0 & 0 & 0 & 0 & 0 & 0 & 0\\\\\n\tLRG\\_91 & 0 & 0 & 0 & 0 & 0 & 0 & 0 & 0\\\\\n\tLRG\\_92 & 0 & 0 & 0 & 0 & 0 & 0 & 0 & 0\\\\\n\tLRG\\_93 & 0 & 0 & 0 & 0 & 0 & 0 & 0 & 0\\\\\n\tLRG\\_94 & 0 & 0 & 0 & 0 & 0 & 0 & 0 & 0\\\\\n\tLRG\\_96 & 0 & 0 & 0 & 0 & 0 & 0 & 0 & 0\\\\\n\tLRG\\_97 & 0 & 0 & 0 & 0 & 0 & 0 & 0 & 0\\\\\n\tLRG\\_98 & 0 & 0 & 0 & 0 & 0 & 0 & 0 & 0\\\\\n\tLRG\\_99 & 0 & 0 & 0 & 0 & 0 & 0 & 0 & 0\\\\\n\\end{tabular}\n",
            "text/plain": [
              "                SRR1039508 SRR1039509 SRR1039512 SRR1039513 SRR1039516\n",
              "ENSG00000156508 297906     255662     329988     165709     290288    \n",
              "ENSG00000115414 260262     213986     513766     273878     252667    \n",
              "ENSG00000164692 240256     138718     262721     127208     253434    \n",
              "ENSG00000087086 236805     138524     236361      95045     343728    \n",
              "ENSG00000116260 235670     204991     240239     119073     223381    \n",
              "ENSG00000011465 219586     191767     422752     214062     293318    \n",
              "ENSG00000198804 210138     213952     265361     169551     397791    \n",
              "ENSG00000077942 166952     141729     205873     122953     187161    \n",
              "ENSG00000108821 143038      52204     157553      37006     182901    \n",
              "ENSG00000087245 136267      99702     147916      73210     193948    \n",
              "ENSG00000166923 126514      64824     156189      59216     247345    \n",
              "ENSG00000196205 123066     105581     131254      68626     117031    \n",
              "ENSG00000168542 110294      60146     127301      42445     108422    \n",
              "ENSG00000163359 109033      77467      97628      43154     111170    \n",
              "ENSG00000091986 105505      96830     202413     110598      68921    \n",
              "ENSG00000124942  97093      92681     117069      76202      98058    \n",
              "ENSG00000123384  88031      66581     106554      45594      90403    \n",
              "ENSG00000142173  84280      65351     112894      56871      99922    \n",
              "ENSG00000150991  76167      85370      87699      70700     106280    \n",
              "ENSG00000115461  74051      79611     328753     137165     241640    \n",
              "ENSG00000233476  72230      63051      81756      41064      72998    \n",
              "ENSG00000167658  68142      62661      77098      35943      69870    \n",
              "ENSG00000142156  67655      59655      93809      44483      94008    \n",
              "ENSG00000266658  66954      29353      41298      22774      50453    \n",
              "ENSG00000210082  64687      61852     139695      82229     213578    \n",
              "ENSG00000196924  63807      66872      77479      58348      57690    \n",
              "ENSG00000198886  61966      66128      95891      68249      95638    \n",
              "ENSG00000141753  60796      51043      69127      32419     172978    \n",
              "ENSG00000166147  54534      60069      87030      38765      79738    \n",
              "ENSG00000237973  54003      54109      69562      44676      99291    \n",
              "⋮               ⋮          ⋮          ⋮          ⋮          ⋮         \n",
              "LRG_70          0          0          0          0          0         \n",
              "LRG_71          0          0          0          0          0         \n",
              "LRG_715         0          0          0          0          0         \n",
              "LRG_717         0          0          0          0          0         \n",
              "LRG_72          0          0          0          0          0         \n",
              "LRG_73          0          0          0          0          0         \n",
              "LRG_74          0          0          0          0          0         \n",
              "LRG_75          0          0          0          0          0         \n",
              "LRG_76          0          0          0          0          0         \n",
              "LRG_77          0          0          0          0          0         \n",
              "LRG_78          0          0          0          0          0         \n",
              "LRG_79          0          0          0          0          0         \n",
              "LRG_8           0          0          0          0          0         \n",
              "LRG_80          0          0          0          0          0         \n",
              "LRG_81          0          0          0          0          0         \n",
              "LRG_83          0          0          0          0          0         \n",
              "LRG_84          0          0          0          0          0         \n",
              "LRG_85          0          0          0          0          0         \n",
              "LRG_86          0          0          0          0          0         \n",
              "LRG_88          0          0          0          0          0         \n",
              "LRG_89          0          0          0          0          0         \n",
              "LRG_90          0          0          0          0          0         \n",
              "LRG_91          0          0          0          0          0         \n",
              "LRG_92          0          0          0          0          0         \n",
              "LRG_93          0          0          0          0          0         \n",
              "LRG_94          0          0          0          0          0         \n",
              "LRG_96          0          0          0          0          0         \n",
              "LRG_97          0          0          0          0          0         \n",
              "LRG_98          0          0          0          0          0         \n",
              "LRG_99          0          0          0          0          0         \n",
              "                SRR1039517 SRR1039520 SRR1039521\n",
              "ENSG00000156508 266337     255259     223691    \n",
              "ENSG00000115414 399841     345651     370450    \n",
              "ENSG00000164692 227499     246258     178471    \n",
              "ENSG00000087086 229323     167067     114257    \n",
              "ENSG00000116260 302758     176053     169586    \n",
              "ENSG00000011465 313112     378834     372489    \n",
              "ENSG00000198804 401539     233051     248032    \n",
              "ENSG00000077942 212673     140466     147710    \n",
              "ENSG00000108821  95449     134345      48829    \n",
              "ENSG00000087245 195952     124891     115177    \n",
              "ENSG00000166923 336864      98504      56549    \n",
              "ENSG00000196205 108148     103306      89715    \n",
              "ENSG00000168542  64423     107540      56913    \n",
              "ENSG00000163359  95507      87649      75767    \n",
              "ENSG00000091986 120738     143058     164559    \n",
              "ENSG00000124942 159908      90196     130619    \n",
              "ENSG00000123384 116088      85519      85527    \n",
              "ENSG00000142173 121599      93127      89777    \n",
              "ENSG00000150991 124105      80512      95539    \n",
              "ENSG00000115461 216484     145858     148389    \n",
              "ENSG00000233476  66957      64163      55567    \n",
              "ENSG00000167658  71428      54351      59279    \n",
              "ENSG00000142156 106560      79215      75235    \n",
              "ENSG00000266658  56028      27644      53076    \n",
              "ENSG00000210082 208118      72063      77239    \n",
              "ENSG00000196924 146996      49196      74054    \n",
              "ENSG00000198886  99240      60736      66113    \n",
              "ENSG00000141753 175527      55871      41515    \n",
              "ENSG00000166147  86151      58292      64247    \n",
              "ENSG00000237973 103372      59185      64234    \n",
              "⋮               ⋮          ⋮          ⋮         \n",
              "LRG_70          0          0          0         \n",
              "LRG_71          0          0          0         \n",
              "LRG_715         0          0          0         \n",
              "LRG_717         0          0          0         \n",
              "LRG_72          0          0          0         \n",
              "LRG_73          0          0          0         \n",
              "LRG_74          0          0          0         \n",
              "LRG_75          0          0          0         \n",
              "LRG_76          0          0          0         \n",
              "LRG_77          0          0          0         \n",
              "LRG_78          0          0          0         \n",
              "LRG_79          0          0          0         \n",
              "LRG_8           0          0          0         \n",
              "LRG_80          0          0          0         \n",
              "LRG_81          0          0          0         \n",
              "LRG_83          0          0          0         \n",
              "LRG_84          0          0          0         \n",
              "LRG_85          0          0          0         \n",
              "LRG_86          0          0          0         \n",
              "LRG_88          0          0          0         \n",
              "LRG_89          0          0          0         \n",
              "LRG_90          0          0          0         \n",
              "LRG_91          0          0          0         \n",
              "LRG_92          0          0          0         \n",
              "LRG_93          0          0          0         \n",
              "LRG_94          0          0          0         \n",
              "LRG_96          0          0          0         \n",
              "LRG_97          0          0          0         \n",
              "LRG_98          0          0          0         \n",
              "LRG_99          0          0          0         "
            ]
          },
          "metadata": {}
        }
      ]
    },
    {
      "cell_type": "code",
      "source": [
        "# First filter the dataset for rows where SRR1039509 is equal to 448, then arrange in ascending order based on SRR1039508\n",
        "filtered_arranged_data <- data %>% filter(SRR1039509 == 448) %>% arrange(SRR1039508)\n",
        "filtered_arranged_data"
      ],
      "metadata": {
        "colab": {
          "base_uri": "https://localhost:8080/",
          "height": 411
        },
        "id": "Ddi8B4xo0n5I",
        "outputId": "e2aaa708-0b93-4a8a-b01c-8d6e75d028cc"
      },
      "execution_count": 11,
      "outputs": [
        {
          "output_type": "display_data",
          "data": {
            "text/html": [
              "<table class=\"dataframe\">\n",
              "<caption>A data.frame: 10 × 8</caption>\n",
              "<thead>\n",
              "\t<tr><th></th><th scope=col>SRR1039508</th><th scope=col>SRR1039509</th><th scope=col>SRR1039512</th><th scope=col>SRR1039513</th><th scope=col>SRR1039516</th><th scope=col>SRR1039517</th><th scope=col>SRR1039520</th><th scope=col>SRR1039521</th></tr>\n",
              "\t<tr><th></th><th scope=col>&lt;int&gt;</th><th scope=col>&lt;int&gt;</th><th scope=col>&lt;int&gt;</th><th scope=col>&lt;int&gt;</th><th scope=col>&lt;int&gt;</th><th scope=col>&lt;int&gt;</th><th scope=col>&lt;int&gt;</th><th scope=col>&lt;int&gt;</th></tr>\n",
              "</thead>\n",
              "<tbody>\n",
              "\t<tr><th scope=row>ENSG00000140474</th><td>355</td><td>448</td><td>274</td><td>213</td><td> 336</td><td> 469</td><td>294</td><td>350</td></tr>\n",
              "\t<tr><th scope=row>ENSG00000181220</th><td>427</td><td>448</td><td>505</td><td>288</td><td> 530</td><td> 672</td><td>343</td><td>431</td></tr>\n",
              "\t<tr><th scope=row>ENSG00000147471</th><td>445</td><td>448</td><td>587</td><td>444</td><td> 580</td><td> 802</td><td>542</td><td>596</td></tr>\n",
              "\t<tr><th scope=row>ENSG00000145743</th><td>470</td><td>448</td><td>623</td><td>394</td><td> 532</td><td> 624</td><td>512</td><td>649</td></tr>\n",
              "\t<tr><th scope=row>ENSG00000182400</th><td>497</td><td>448</td><td>672</td><td>448</td><td> 538</td><td> 649</td><td>533</td><td>578</td></tr>\n",
              "\t<tr><th scope=row>ENSG00000141141</th><td>537</td><td>448</td><td>602</td><td>326</td><td> 727</td><td> 717</td><td>445</td><td>484</td></tr>\n",
              "\t<tr><th scope=row>ENSG00000040341</th><td>635</td><td>448</td><td>800</td><td>432</td><td> 760</td><td> 859</td><td>524</td><td>593</td></tr>\n",
              "\t<tr><th scope=row>ENSG00000112759</th><td>643</td><td>448</td><td>931</td><td>505</td><td> 809</td><td> 836</td><td>722</td><td>662</td></tr>\n",
              "\t<tr><th scope=row>ENSG00000000003</th><td>679</td><td>448</td><td>873</td><td>408</td><td>1138</td><td>1047</td><td>770</td><td>572</td></tr>\n",
              "\t<tr><th scope=row>ENSG00000165097</th><td>697</td><td>448</td><td>740</td><td>408</td><td> 747</td><td> 889</td><td>644</td><td>592</td></tr>\n",
              "</tbody>\n",
              "</table>\n"
            ],
            "text/markdown": "\nA data.frame: 10 × 8\n\n| <!--/--> | SRR1039508 &lt;int&gt; | SRR1039509 &lt;int&gt; | SRR1039512 &lt;int&gt; | SRR1039513 &lt;int&gt; | SRR1039516 &lt;int&gt; | SRR1039517 &lt;int&gt; | SRR1039520 &lt;int&gt; | SRR1039521 &lt;int&gt; |\n|---|---|---|---|---|---|---|---|---|\n| ENSG00000140474 | 355 | 448 | 274 | 213 |  336 |  469 | 294 | 350 |\n| ENSG00000181220 | 427 | 448 | 505 | 288 |  530 |  672 | 343 | 431 |\n| ENSG00000147471 | 445 | 448 | 587 | 444 |  580 |  802 | 542 | 596 |\n| ENSG00000145743 | 470 | 448 | 623 | 394 |  532 |  624 | 512 | 649 |\n| ENSG00000182400 | 497 | 448 | 672 | 448 |  538 |  649 | 533 | 578 |\n| ENSG00000141141 | 537 | 448 | 602 | 326 |  727 |  717 | 445 | 484 |\n| ENSG00000040341 | 635 | 448 | 800 | 432 |  760 |  859 | 524 | 593 |\n| ENSG00000112759 | 643 | 448 | 931 | 505 |  809 |  836 | 722 | 662 |\n| ENSG00000000003 | 679 | 448 | 873 | 408 | 1138 | 1047 | 770 | 572 |\n| ENSG00000165097 | 697 | 448 | 740 | 408 |  747 |  889 | 644 | 592 |\n\n",
            "text/latex": "A data.frame: 10 × 8\n\\begin{tabular}{r|llllllll}\n  & SRR1039508 & SRR1039509 & SRR1039512 & SRR1039513 & SRR1039516 & SRR1039517 & SRR1039520 & SRR1039521\\\\\n  & <int> & <int> & <int> & <int> & <int> & <int> & <int> & <int>\\\\\n\\hline\n\tENSG00000140474 & 355 & 448 & 274 & 213 &  336 &  469 & 294 & 350\\\\\n\tENSG00000181220 & 427 & 448 & 505 & 288 &  530 &  672 & 343 & 431\\\\\n\tENSG00000147471 & 445 & 448 & 587 & 444 &  580 &  802 & 542 & 596\\\\\n\tENSG00000145743 & 470 & 448 & 623 & 394 &  532 &  624 & 512 & 649\\\\\n\tENSG00000182400 & 497 & 448 & 672 & 448 &  538 &  649 & 533 & 578\\\\\n\tENSG00000141141 & 537 & 448 & 602 & 326 &  727 &  717 & 445 & 484\\\\\n\tENSG00000040341 & 635 & 448 & 800 & 432 &  760 &  859 & 524 & 593\\\\\n\tENSG00000112759 & 643 & 448 & 931 & 505 &  809 &  836 & 722 & 662\\\\\n\tENSG00000000003 & 679 & 448 & 873 & 408 & 1138 & 1047 & 770 & 572\\\\\n\tENSG00000165097 & 697 & 448 & 740 & 408 &  747 &  889 & 644 & 592\\\\\n\\end{tabular}\n",
            "text/plain": [
              "                SRR1039508 SRR1039509 SRR1039512 SRR1039513 SRR1039516\n",
              "ENSG00000140474 355        448        274        213         336      \n",
              "ENSG00000181220 427        448        505        288         530      \n",
              "ENSG00000147471 445        448        587        444         580      \n",
              "ENSG00000145743 470        448        623        394         532      \n",
              "ENSG00000182400 497        448        672        448         538      \n",
              "ENSG00000141141 537        448        602        326         727      \n",
              "ENSG00000040341 635        448        800        432         760      \n",
              "ENSG00000112759 643        448        931        505         809      \n",
              "ENSG00000000003 679        448        873        408        1138      \n",
              "ENSG00000165097 697        448        740        408         747      \n",
              "                SRR1039517 SRR1039520 SRR1039521\n",
              "ENSG00000140474  469       294        350       \n",
              "ENSG00000181220  672       343        431       \n",
              "ENSG00000147471  802       542        596       \n",
              "ENSG00000145743  624       512        649       \n",
              "ENSG00000182400  649       533        578       \n",
              "ENSG00000141141  717       445        484       \n",
              "ENSG00000040341  859       524        593       \n",
              "ENSG00000112759  836       722        662       \n",
              "ENSG00000000003 1047       770        572       \n",
              "ENSG00000165097  889       644        592       "
            ]
          },
          "metadata": {}
        }
      ]
    },
    {
      "cell_type": "markdown",
      "source": [
        "# 5. Data Mutation"
      ],
      "metadata": {
        "id": "aI8G8CM80vSf"
      }
    },
    {
      "cell_type": "code",
      "source": [
        "# Create a new variable SRR1039508_divided by dividing SRR1039508 by 100\n",
        "mutated_data <- mutate(data, SRR1039508_divided = SRR1039508 / 100)\n",
        "mutated_data"
      ],
      "metadata": {
        "id": "2BM_TBGP0tnv",
        "colab": {
          "base_uri": "https://localhost:8080/",
          "height": 1000
        },
        "outputId": "4295d893-aaf3-4e4d-e6aa-063a27b4f572"
      },
      "execution_count": 16,
      "outputs": [
        {
          "output_type": "display_data",
          "data": {
            "text/html": [
              "<table class=\"dataframe\">\n",
              "<caption>A data.frame: 64102 × 10</caption>\n",
              "<thead>\n",
              "\t<tr><th></th><th scope=col>SRR1039508</th><th scope=col>SRR1039509</th><th scope=col>SRR1039512</th><th scope=col>SRR1039513</th><th scope=col>SRR1039516</th><th scope=col>SRR1039517</th><th scope=col>SRR1039520</th><th scope=col>SRR1039521</th><th scope=col>Average</th><th scope=col>SRR1039508_divided</th></tr>\n",
              "\t<tr><th></th><th scope=col>&lt;int&gt;</th><th scope=col>&lt;int&gt;</th><th scope=col>&lt;int&gt;</th><th scope=col>&lt;int&gt;</th><th scope=col>&lt;int&gt;</th><th scope=col>&lt;int&gt;</th><th scope=col>&lt;int&gt;</th><th scope=col>&lt;int&gt;</th><th scope=col>&lt;dbl&gt;</th><th scope=col>&lt;dbl&gt;</th></tr>\n",
              "</thead>\n",
              "<tbody>\n",
              "\t<tr><th scope=row>ENSG00000000003</th><td> 679</td><td> 448</td><td> 873</td><td> 408</td><td> 1138</td><td> 1047</td><td> 770</td><td> 572</td><td> 741.875</td><td> 6.79</td></tr>\n",
              "\t<tr><th scope=row>ENSG00000000005</th><td>   0</td><td>   0</td><td>   0</td><td>   0</td><td>    0</td><td>    0</td><td>   0</td><td>   0</td><td>   0.000</td><td> 0.00</td></tr>\n",
              "\t<tr><th scope=row>ENSG00000000419</th><td> 467</td><td> 515</td><td> 621</td><td> 365</td><td>  587</td><td>  799</td><td> 417</td><td> 508</td><td> 534.875</td><td> 4.67</td></tr>\n",
              "\t<tr><th scope=row>ENSG00000000457</th><td> 260</td><td> 211</td><td> 263</td><td> 164</td><td>  245</td><td>  331</td><td> 233</td><td> 229</td><td> 242.000</td><td> 2.60</td></tr>\n",
              "\t<tr><th scope=row>ENSG00000000460</th><td>  60</td><td>  55</td><td>  40</td><td>  35</td><td>   78</td><td>   63</td><td>  76</td><td>  60</td><td>  58.375</td><td> 0.60</td></tr>\n",
              "\t<tr><th scope=row>ENSG00000000938</th><td>   0</td><td>   0</td><td>   2</td><td>   0</td><td>    1</td><td>    0</td><td>   0</td><td>   0</td><td>   0.375</td><td> 0.00</td></tr>\n",
              "\t<tr><th scope=row>ENSG00000000971</th><td>3251</td><td>3679</td><td>6177</td><td>4252</td><td> 6721</td><td>11027</td><td>5176</td><td>7995</td><td>6034.750</td><td>32.51</td></tr>\n",
              "\t<tr><th scope=row>ENSG00000001036</th><td>1433</td><td>1062</td><td>1733</td><td> 881</td><td> 1424</td><td> 1439</td><td>1359</td><td>1109</td><td>1305.000</td><td>14.33</td></tr>\n",
              "\t<tr><th scope=row>ENSG00000001084</th><td> 519</td><td> 380</td><td> 595</td><td> 493</td><td>  820</td><td>  714</td><td> 696</td><td> 704</td><td> 615.125</td><td> 5.19</td></tr>\n",
              "\t<tr><th scope=row>ENSG00000001167</th><td> 394</td><td> 236</td><td> 464</td><td> 175</td><td>  658</td><td>  584</td><td> 360</td><td> 269</td><td> 392.500</td><td> 3.94</td></tr>\n",
              "\t<tr><th scope=row>ENSG00000001460</th><td> 172</td><td> 168</td><td> 264</td><td> 118</td><td>  241</td><td>  210</td><td> 155</td><td> 177</td><td> 188.125</td><td> 1.72</td></tr>\n",
              "\t<tr><th scope=row>ENSG00000001461</th><td>2112</td><td>1867</td><td>5137</td><td>2657</td><td> 2735</td><td> 2751</td><td>2467</td><td>2905</td><td>2828.875</td><td>21.12</td></tr>\n",
              "\t<tr><th scope=row>ENSG00000001497</th><td> 524</td><td> 488</td><td> 638</td><td> 357</td><td>  676</td><td>  806</td><td> 493</td><td> 475</td><td> 557.125</td><td> 5.24</td></tr>\n",
              "\t<tr><th scope=row>ENSG00000001561</th><td>  71</td><td>  51</td><td> 211</td><td> 156</td><td>   23</td><td>   38</td><td> 134</td><td> 172</td><td> 107.000</td><td> 0.71</td></tr>\n",
              "\t<tr><th scope=row>ENSG00000001617</th><td> 555</td><td> 394</td><td> 905</td><td> 415</td><td>  727</td><td>  697</td><td> 618</td><td> 599</td><td> 613.750</td><td> 5.55</td></tr>\n",
              "\t<tr><th scope=row>ENSG00000001626</th><td>  10</td><td>   2</td><td>   9</td><td>   2</td><td>   10</td><td>    6</td><td>   5</td><td>   5</td><td>   6.125</td><td> 0.10</td></tr>\n",
              "\t<tr><th scope=row>ENSG00000001629</th><td>1660</td><td>1251</td><td>2259</td><td>1079</td><td> 2462</td><td> 2514</td><td>1888</td><td>1660</td><td>1846.625</td><td>16.60</td></tr>\n",
              "\t<tr><th scope=row>ENSG00000001630</th><td>  59</td><td>  54</td><td>  66</td><td>  23</td><td>   84</td><td>   87</td><td>  31</td><td>  59</td><td>  57.875</td><td> 0.59</td></tr>\n",
              "\t<tr><th scope=row>ENSG00000001631</th><td> 729</td><td> 692</td><td> 943</td><td> 475</td><td> 1034</td><td> 1163</td><td> 731</td><td> 744</td><td> 813.875</td><td> 7.29</td></tr>\n",
              "\t<tr><th scope=row>ENSG00000002016</th><td> 201</td><td> 161</td><td> 256</td><td>  99</td><td>  268</td><td>  257</td><td> 160</td><td> 137</td><td> 192.375</td><td> 2.01</td></tr>\n",
              "\t<tr><th scope=row>ENSG00000002079</th><td>   3</td><td>   0</td><td>   3</td><td>   1</td><td>    4</td><td>    0</td><td>   0</td><td>   1</td><td>   1.500</td><td> 0.03</td></tr>\n",
              "\t<tr><th scope=row>ENSG00000002330</th><td> 206</td><td> 174</td><td> 184</td><td> 111</td><td>  194</td><td>  260</td><td> 156</td><td> 177</td><td> 182.750</td><td> 2.06</td></tr>\n",
              "\t<tr><th scope=row>ENSG00000002549</th><td>1459</td><td>1294</td><td>1317</td><td> 998</td><td> 1451</td><td> 1824</td><td> 853</td><td>1031</td><td>1278.375</td><td>14.59</td></tr>\n",
              "\t<tr><th scope=row>ENSG00000002586</th><td>7507</td><td>7203</td><td>9501</td><td>6214</td><td>10973</td><td>12863</td><td>6834</td><td>7225</td><td>8540.000</td><td>75.07</td></tr>\n",
              "\t<tr><th scope=row>ENSG00000002587</th><td>   2</td><td>   0</td><td>   1</td><td>   0</td><td>    0</td><td>    2</td><td>   0</td><td>   0</td><td>   0.625</td><td> 0.02</td></tr>\n",
              "\t<tr><th scope=row>ENSG00000002726</th><td>   0</td><td>   0</td><td>   1</td><td>   0</td><td>    0</td><td>    0</td><td>   0</td><td>   0</td><td>   0.125</td><td> 0.00</td></tr>\n",
              "\t<tr><th scope=row>ENSG00000002745</th><td>   4</td><td>   6</td><td>  22</td><td>  10</td><td>    2</td><td>    1</td><td>   5</td><td>   3</td><td>   6.625</td><td> 0.04</td></tr>\n",
              "\t<tr><th scope=row>ENSG00000002746</th><td> 151</td><td> 139</td><td> 117</td><td>  65</td><td>   90</td><td>  102</td><td>  86</td><td> 119</td><td> 108.625</td><td> 1.51</td></tr>\n",
              "\t<tr><th scope=row>ENSG00000002822</th><td> 411</td><td> 303</td><td> 446</td><td> 195</td><td>  445</td><td>  523</td><td> 295</td><td> 300</td><td> 364.750</td><td> 4.11</td></tr>\n",
              "\t<tr><th scope=row>ENSG00000002834</th><td>6314</td><td>6364</td><td>7831</td><td>5809</td><td> 6677</td><td>11970</td><td>5766</td><td>7825</td><td>7319.500</td><td>63.14</td></tr>\n",
              "\t<tr><th scope=row>⋮</th><td>⋮</td><td>⋮</td><td>⋮</td><td>⋮</td><td>⋮</td><td>⋮</td><td>⋮</td><td>⋮</td><td>⋮</td><td>⋮</td></tr>\n",
              "\t<tr><th scope=row>LRG_70</th><td>0</td><td>0</td><td>0</td><td>0</td><td>0</td><td>0</td><td>0</td><td>0</td><td>0</td><td>0</td></tr>\n",
              "\t<tr><th scope=row>LRG_71</th><td>0</td><td>0</td><td>0</td><td>0</td><td>0</td><td>0</td><td>0</td><td>0</td><td>0</td><td>0</td></tr>\n",
              "\t<tr><th scope=row>LRG_715</th><td>0</td><td>0</td><td>0</td><td>0</td><td>0</td><td>0</td><td>0</td><td>0</td><td>0</td><td>0</td></tr>\n",
              "\t<tr><th scope=row>LRG_717</th><td>0</td><td>0</td><td>0</td><td>0</td><td>0</td><td>0</td><td>0</td><td>0</td><td>0</td><td>0</td></tr>\n",
              "\t<tr><th scope=row>LRG_72</th><td>0</td><td>0</td><td>0</td><td>0</td><td>0</td><td>0</td><td>0</td><td>0</td><td>0</td><td>0</td></tr>\n",
              "\t<tr><th scope=row>LRG_73</th><td>0</td><td>0</td><td>0</td><td>0</td><td>0</td><td>0</td><td>0</td><td>0</td><td>0</td><td>0</td></tr>\n",
              "\t<tr><th scope=row>LRG_74</th><td>0</td><td>0</td><td>0</td><td>0</td><td>0</td><td>0</td><td>0</td><td>0</td><td>0</td><td>0</td></tr>\n",
              "\t<tr><th scope=row>LRG_75</th><td>0</td><td>0</td><td>0</td><td>0</td><td>0</td><td>0</td><td>0</td><td>0</td><td>0</td><td>0</td></tr>\n",
              "\t<tr><th scope=row>LRG_76</th><td>0</td><td>0</td><td>0</td><td>0</td><td>0</td><td>0</td><td>0</td><td>0</td><td>0</td><td>0</td></tr>\n",
              "\t<tr><th scope=row>LRG_77</th><td>0</td><td>0</td><td>0</td><td>0</td><td>0</td><td>0</td><td>0</td><td>0</td><td>0</td><td>0</td></tr>\n",
              "\t<tr><th scope=row>LRG_78</th><td>0</td><td>0</td><td>0</td><td>0</td><td>0</td><td>0</td><td>0</td><td>0</td><td>0</td><td>0</td></tr>\n",
              "\t<tr><th scope=row>LRG_79</th><td>0</td><td>0</td><td>0</td><td>0</td><td>0</td><td>0</td><td>0</td><td>0</td><td>0</td><td>0</td></tr>\n",
              "\t<tr><th scope=row>LRG_8</th><td>0</td><td>0</td><td>0</td><td>0</td><td>0</td><td>0</td><td>0</td><td>0</td><td>0</td><td>0</td></tr>\n",
              "\t<tr><th scope=row>LRG_80</th><td>0</td><td>0</td><td>0</td><td>0</td><td>0</td><td>0</td><td>0</td><td>0</td><td>0</td><td>0</td></tr>\n",
              "\t<tr><th scope=row>LRG_81</th><td>0</td><td>0</td><td>0</td><td>0</td><td>0</td><td>0</td><td>0</td><td>0</td><td>0</td><td>0</td></tr>\n",
              "\t<tr><th scope=row>LRG_83</th><td>0</td><td>0</td><td>0</td><td>0</td><td>0</td><td>0</td><td>0</td><td>0</td><td>0</td><td>0</td></tr>\n",
              "\t<tr><th scope=row>LRG_84</th><td>0</td><td>0</td><td>0</td><td>0</td><td>0</td><td>0</td><td>0</td><td>0</td><td>0</td><td>0</td></tr>\n",
              "\t<tr><th scope=row>LRG_85</th><td>0</td><td>0</td><td>0</td><td>0</td><td>0</td><td>0</td><td>0</td><td>0</td><td>0</td><td>0</td></tr>\n",
              "\t<tr><th scope=row>LRG_86</th><td>0</td><td>0</td><td>0</td><td>0</td><td>0</td><td>0</td><td>0</td><td>0</td><td>0</td><td>0</td></tr>\n",
              "\t<tr><th scope=row>LRG_88</th><td>0</td><td>0</td><td>0</td><td>0</td><td>0</td><td>0</td><td>0</td><td>0</td><td>0</td><td>0</td></tr>\n",
              "\t<tr><th scope=row>LRG_89</th><td>0</td><td>0</td><td>0</td><td>0</td><td>0</td><td>0</td><td>0</td><td>0</td><td>0</td><td>0</td></tr>\n",
              "\t<tr><th scope=row>LRG_90</th><td>0</td><td>0</td><td>0</td><td>0</td><td>0</td><td>0</td><td>0</td><td>0</td><td>0</td><td>0</td></tr>\n",
              "\t<tr><th scope=row>LRG_91</th><td>0</td><td>0</td><td>0</td><td>0</td><td>0</td><td>0</td><td>0</td><td>0</td><td>0</td><td>0</td></tr>\n",
              "\t<tr><th scope=row>LRG_92</th><td>0</td><td>0</td><td>0</td><td>0</td><td>0</td><td>0</td><td>0</td><td>0</td><td>0</td><td>0</td></tr>\n",
              "\t<tr><th scope=row>LRG_93</th><td>0</td><td>0</td><td>0</td><td>0</td><td>0</td><td>0</td><td>0</td><td>0</td><td>0</td><td>0</td></tr>\n",
              "\t<tr><th scope=row>LRG_94</th><td>0</td><td>0</td><td>0</td><td>0</td><td>0</td><td>0</td><td>0</td><td>0</td><td>0</td><td>0</td></tr>\n",
              "\t<tr><th scope=row>LRG_96</th><td>0</td><td>0</td><td>0</td><td>0</td><td>0</td><td>0</td><td>0</td><td>0</td><td>0</td><td>0</td></tr>\n",
              "\t<tr><th scope=row>LRG_97</th><td>0</td><td>0</td><td>0</td><td>0</td><td>0</td><td>0</td><td>0</td><td>0</td><td>0</td><td>0</td></tr>\n",
              "\t<tr><th scope=row>LRG_98</th><td>0</td><td>0</td><td>0</td><td>0</td><td>0</td><td>0</td><td>0</td><td>0</td><td>0</td><td>0</td></tr>\n",
              "\t<tr><th scope=row>LRG_99</th><td>0</td><td>0</td><td>0</td><td>0</td><td>0</td><td>0</td><td>0</td><td>0</td><td>0</td><td>0</td></tr>\n",
              "</tbody>\n",
              "</table>\n"
            ],
            "text/markdown": "\nA data.frame: 64102 × 10\n\n| <!--/--> | SRR1039508 &lt;int&gt; | SRR1039509 &lt;int&gt; | SRR1039512 &lt;int&gt; | SRR1039513 &lt;int&gt; | SRR1039516 &lt;int&gt; | SRR1039517 &lt;int&gt; | SRR1039520 &lt;int&gt; | SRR1039521 &lt;int&gt; | Average &lt;dbl&gt; | SRR1039508_divided &lt;dbl&gt; |\n|---|---|---|---|---|---|---|---|---|---|---|\n| ENSG00000000003 |  679 |  448 |  873 |  408 |  1138 |  1047 |  770 |  572 |  741.875 |  6.79 |\n| ENSG00000000005 |    0 |    0 |    0 |    0 |     0 |     0 |    0 |    0 |    0.000 |  0.00 |\n| ENSG00000000419 |  467 |  515 |  621 |  365 |   587 |   799 |  417 |  508 |  534.875 |  4.67 |\n| ENSG00000000457 |  260 |  211 |  263 |  164 |   245 |   331 |  233 |  229 |  242.000 |  2.60 |\n| ENSG00000000460 |   60 |   55 |   40 |   35 |    78 |    63 |   76 |   60 |   58.375 |  0.60 |\n| ENSG00000000938 |    0 |    0 |    2 |    0 |     1 |     0 |    0 |    0 |    0.375 |  0.00 |\n| ENSG00000000971 | 3251 | 3679 | 6177 | 4252 |  6721 | 11027 | 5176 | 7995 | 6034.750 | 32.51 |\n| ENSG00000001036 | 1433 | 1062 | 1733 |  881 |  1424 |  1439 | 1359 | 1109 | 1305.000 | 14.33 |\n| ENSG00000001084 |  519 |  380 |  595 |  493 |   820 |   714 |  696 |  704 |  615.125 |  5.19 |\n| ENSG00000001167 |  394 |  236 |  464 |  175 |   658 |   584 |  360 |  269 |  392.500 |  3.94 |\n| ENSG00000001460 |  172 |  168 |  264 |  118 |   241 |   210 |  155 |  177 |  188.125 |  1.72 |\n| ENSG00000001461 | 2112 | 1867 | 5137 | 2657 |  2735 |  2751 | 2467 | 2905 | 2828.875 | 21.12 |\n| ENSG00000001497 |  524 |  488 |  638 |  357 |   676 |   806 |  493 |  475 |  557.125 |  5.24 |\n| ENSG00000001561 |   71 |   51 |  211 |  156 |    23 |    38 |  134 |  172 |  107.000 |  0.71 |\n| ENSG00000001617 |  555 |  394 |  905 |  415 |   727 |   697 |  618 |  599 |  613.750 |  5.55 |\n| ENSG00000001626 |   10 |    2 |    9 |    2 |    10 |     6 |    5 |    5 |    6.125 |  0.10 |\n| ENSG00000001629 | 1660 | 1251 | 2259 | 1079 |  2462 |  2514 | 1888 | 1660 | 1846.625 | 16.60 |\n| ENSG00000001630 |   59 |   54 |   66 |   23 |    84 |    87 |   31 |   59 |   57.875 |  0.59 |\n| ENSG00000001631 |  729 |  692 |  943 |  475 |  1034 |  1163 |  731 |  744 |  813.875 |  7.29 |\n| ENSG00000002016 |  201 |  161 |  256 |   99 |   268 |   257 |  160 |  137 |  192.375 |  2.01 |\n| ENSG00000002079 |    3 |    0 |    3 |    1 |     4 |     0 |    0 |    1 |    1.500 |  0.03 |\n| ENSG00000002330 |  206 |  174 |  184 |  111 |   194 |   260 |  156 |  177 |  182.750 |  2.06 |\n| ENSG00000002549 | 1459 | 1294 | 1317 |  998 |  1451 |  1824 |  853 | 1031 | 1278.375 | 14.59 |\n| ENSG00000002586 | 7507 | 7203 | 9501 | 6214 | 10973 | 12863 | 6834 | 7225 | 8540.000 | 75.07 |\n| ENSG00000002587 |    2 |    0 |    1 |    0 |     0 |     2 |    0 |    0 |    0.625 |  0.02 |\n| ENSG00000002726 |    0 |    0 |    1 |    0 |     0 |     0 |    0 |    0 |    0.125 |  0.00 |\n| ENSG00000002745 |    4 |    6 |   22 |   10 |     2 |     1 |    5 |    3 |    6.625 |  0.04 |\n| ENSG00000002746 |  151 |  139 |  117 |   65 |    90 |   102 |   86 |  119 |  108.625 |  1.51 |\n| ENSG00000002822 |  411 |  303 |  446 |  195 |   445 |   523 |  295 |  300 |  364.750 |  4.11 |\n| ENSG00000002834 | 6314 | 6364 | 7831 | 5809 |  6677 | 11970 | 5766 | 7825 | 7319.500 | 63.14 |\n| ⋮ | ⋮ | ⋮ | ⋮ | ⋮ | ⋮ | ⋮ | ⋮ | ⋮ | ⋮ | ⋮ |\n| LRG_70 | 0 | 0 | 0 | 0 | 0 | 0 | 0 | 0 | 0 | 0 |\n| LRG_71 | 0 | 0 | 0 | 0 | 0 | 0 | 0 | 0 | 0 | 0 |\n| LRG_715 | 0 | 0 | 0 | 0 | 0 | 0 | 0 | 0 | 0 | 0 |\n| LRG_717 | 0 | 0 | 0 | 0 | 0 | 0 | 0 | 0 | 0 | 0 |\n| LRG_72 | 0 | 0 | 0 | 0 | 0 | 0 | 0 | 0 | 0 | 0 |\n| LRG_73 | 0 | 0 | 0 | 0 | 0 | 0 | 0 | 0 | 0 | 0 |\n| LRG_74 | 0 | 0 | 0 | 0 | 0 | 0 | 0 | 0 | 0 | 0 |\n| LRG_75 | 0 | 0 | 0 | 0 | 0 | 0 | 0 | 0 | 0 | 0 |\n| LRG_76 | 0 | 0 | 0 | 0 | 0 | 0 | 0 | 0 | 0 | 0 |\n| LRG_77 | 0 | 0 | 0 | 0 | 0 | 0 | 0 | 0 | 0 | 0 |\n| LRG_78 | 0 | 0 | 0 | 0 | 0 | 0 | 0 | 0 | 0 | 0 |\n| LRG_79 | 0 | 0 | 0 | 0 | 0 | 0 | 0 | 0 | 0 | 0 |\n| LRG_8 | 0 | 0 | 0 | 0 | 0 | 0 | 0 | 0 | 0 | 0 |\n| LRG_80 | 0 | 0 | 0 | 0 | 0 | 0 | 0 | 0 | 0 | 0 |\n| LRG_81 | 0 | 0 | 0 | 0 | 0 | 0 | 0 | 0 | 0 | 0 |\n| LRG_83 | 0 | 0 | 0 | 0 | 0 | 0 | 0 | 0 | 0 | 0 |\n| LRG_84 | 0 | 0 | 0 | 0 | 0 | 0 | 0 | 0 | 0 | 0 |\n| LRG_85 | 0 | 0 | 0 | 0 | 0 | 0 | 0 | 0 | 0 | 0 |\n| LRG_86 | 0 | 0 | 0 | 0 | 0 | 0 | 0 | 0 | 0 | 0 |\n| LRG_88 | 0 | 0 | 0 | 0 | 0 | 0 | 0 | 0 | 0 | 0 |\n| LRG_89 | 0 | 0 | 0 | 0 | 0 | 0 | 0 | 0 | 0 | 0 |\n| LRG_90 | 0 | 0 | 0 | 0 | 0 | 0 | 0 | 0 | 0 | 0 |\n| LRG_91 | 0 | 0 | 0 | 0 | 0 | 0 | 0 | 0 | 0 | 0 |\n| LRG_92 | 0 | 0 | 0 | 0 | 0 | 0 | 0 | 0 | 0 | 0 |\n| LRG_93 | 0 | 0 | 0 | 0 | 0 | 0 | 0 | 0 | 0 | 0 |\n| LRG_94 | 0 | 0 | 0 | 0 | 0 | 0 | 0 | 0 | 0 | 0 |\n| LRG_96 | 0 | 0 | 0 | 0 | 0 | 0 | 0 | 0 | 0 | 0 |\n| LRG_97 | 0 | 0 | 0 | 0 | 0 | 0 | 0 | 0 | 0 | 0 |\n| LRG_98 | 0 | 0 | 0 | 0 | 0 | 0 | 0 | 0 | 0 | 0 |\n| LRG_99 | 0 | 0 | 0 | 0 | 0 | 0 | 0 | 0 | 0 | 0 |\n\n",
            "text/latex": "A data.frame: 64102 × 10\n\\begin{tabular}{r|llllllllll}\n  & SRR1039508 & SRR1039509 & SRR1039512 & SRR1039513 & SRR1039516 & SRR1039517 & SRR1039520 & SRR1039521 & Average & SRR1039508\\_divided\\\\\n  & <int> & <int> & <int> & <int> & <int> & <int> & <int> & <int> & <dbl> & <dbl>\\\\\n\\hline\n\tENSG00000000003 &  679 &  448 &  873 &  408 &  1138 &  1047 &  770 &  572 &  741.875 &  6.79\\\\\n\tENSG00000000005 &    0 &    0 &    0 &    0 &     0 &     0 &    0 &    0 &    0.000 &  0.00\\\\\n\tENSG00000000419 &  467 &  515 &  621 &  365 &   587 &   799 &  417 &  508 &  534.875 &  4.67\\\\\n\tENSG00000000457 &  260 &  211 &  263 &  164 &   245 &   331 &  233 &  229 &  242.000 &  2.60\\\\\n\tENSG00000000460 &   60 &   55 &   40 &   35 &    78 &    63 &   76 &   60 &   58.375 &  0.60\\\\\n\tENSG00000000938 &    0 &    0 &    2 &    0 &     1 &     0 &    0 &    0 &    0.375 &  0.00\\\\\n\tENSG00000000971 & 3251 & 3679 & 6177 & 4252 &  6721 & 11027 & 5176 & 7995 & 6034.750 & 32.51\\\\\n\tENSG00000001036 & 1433 & 1062 & 1733 &  881 &  1424 &  1439 & 1359 & 1109 & 1305.000 & 14.33\\\\\n\tENSG00000001084 &  519 &  380 &  595 &  493 &   820 &   714 &  696 &  704 &  615.125 &  5.19\\\\\n\tENSG00000001167 &  394 &  236 &  464 &  175 &   658 &   584 &  360 &  269 &  392.500 &  3.94\\\\\n\tENSG00000001460 &  172 &  168 &  264 &  118 &   241 &   210 &  155 &  177 &  188.125 &  1.72\\\\\n\tENSG00000001461 & 2112 & 1867 & 5137 & 2657 &  2735 &  2751 & 2467 & 2905 & 2828.875 & 21.12\\\\\n\tENSG00000001497 &  524 &  488 &  638 &  357 &   676 &   806 &  493 &  475 &  557.125 &  5.24\\\\\n\tENSG00000001561 &   71 &   51 &  211 &  156 &    23 &    38 &  134 &  172 &  107.000 &  0.71\\\\\n\tENSG00000001617 &  555 &  394 &  905 &  415 &   727 &   697 &  618 &  599 &  613.750 &  5.55\\\\\n\tENSG00000001626 &   10 &    2 &    9 &    2 &    10 &     6 &    5 &    5 &    6.125 &  0.10\\\\\n\tENSG00000001629 & 1660 & 1251 & 2259 & 1079 &  2462 &  2514 & 1888 & 1660 & 1846.625 & 16.60\\\\\n\tENSG00000001630 &   59 &   54 &   66 &   23 &    84 &    87 &   31 &   59 &   57.875 &  0.59\\\\\n\tENSG00000001631 &  729 &  692 &  943 &  475 &  1034 &  1163 &  731 &  744 &  813.875 &  7.29\\\\\n\tENSG00000002016 &  201 &  161 &  256 &   99 &   268 &   257 &  160 &  137 &  192.375 &  2.01\\\\\n\tENSG00000002079 &    3 &    0 &    3 &    1 &     4 &     0 &    0 &    1 &    1.500 &  0.03\\\\\n\tENSG00000002330 &  206 &  174 &  184 &  111 &   194 &   260 &  156 &  177 &  182.750 &  2.06\\\\\n\tENSG00000002549 & 1459 & 1294 & 1317 &  998 &  1451 &  1824 &  853 & 1031 & 1278.375 & 14.59\\\\\n\tENSG00000002586 & 7507 & 7203 & 9501 & 6214 & 10973 & 12863 & 6834 & 7225 & 8540.000 & 75.07\\\\\n\tENSG00000002587 &    2 &    0 &    1 &    0 &     0 &     2 &    0 &    0 &    0.625 &  0.02\\\\\n\tENSG00000002726 &    0 &    0 &    1 &    0 &     0 &     0 &    0 &    0 &    0.125 &  0.00\\\\\n\tENSG00000002745 &    4 &    6 &   22 &   10 &     2 &     1 &    5 &    3 &    6.625 &  0.04\\\\\n\tENSG00000002746 &  151 &  139 &  117 &   65 &    90 &   102 &   86 &  119 &  108.625 &  1.51\\\\\n\tENSG00000002822 &  411 &  303 &  446 &  195 &   445 &   523 &  295 &  300 &  364.750 &  4.11\\\\\n\tENSG00000002834 & 6314 & 6364 & 7831 & 5809 &  6677 & 11970 & 5766 & 7825 & 7319.500 & 63.14\\\\\n\t⋮ & ⋮ & ⋮ & ⋮ & ⋮ & ⋮ & ⋮ & ⋮ & ⋮ & ⋮ & ⋮\\\\\n\tLRG\\_70 & 0 & 0 & 0 & 0 & 0 & 0 & 0 & 0 & 0 & 0\\\\\n\tLRG\\_71 & 0 & 0 & 0 & 0 & 0 & 0 & 0 & 0 & 0 & 0\\\\\n\tLRG\\_715 & 0 & 0 & 0 & 0 & 0 & 0 & 0 & 0 & 0 & 0\\\\\n\tLRG\\_717 & 0 & 0 & 0 & 0 & 0 & 0 & 0 & 0 & 0 & 0\\\\\n\tLRG\\_72 & 0 & 0 & 0 & 0 & 0 & 0 & 0 & 0 & 0 & 0\\\\\n\tLRG\\_73 & 0 & 0 & 0 & 0 & 0 & 0 & 0 & 0 & 0 & 0\\\\\n\tLRG\\_74 & 0 & 0 & 0 & 0 & 0 & 0 & 0 & 0 & 0 & 0\\\\\n\tLRG\\_75 & 0 & 0 & 0 & 0 & 0 & 0 & 0 & 0 & 0 & 0\\\\\n\tLRG\\_76 & 0 & 0 & 0 & 0 & 0 & 0 & 0 & 0 & 0 & 0\\\\\n\tLRG\\_77 & 0 & 0 & 0 & 0 & 0 & 0 & 0 & 0 & 0 & 0\\\\\n\tLRG\\_78 & 0 & 0 & 0 & 0 & 0 & 0 & 0 & 0 & 0 & 0\\\\\n\tLRG\\_79 & 0 & 0 & 0 & 0 & 0 & 0 & 0 & 0 & 0 & 0\\\\\n\tLRG\\_8 & 0 & 0 & 0 & 0 & 0 & 0 & 0 & 0 & 0 & 0\\\\\n\tLRG\\_80 & 0 & 0 & 0 & 0 & 0 & 0 & 0 & 0 & 0 & 0\\\\\n\tLRG\\_81 & 0 & 0 & 0 & 0 & 0 & 0 & 0 & 0 & 0 & 0\\\\\n\tLRG\\_83 & 0 & 0 & 0 & 0 & 0 & 0 & 0 & 0 & 0 & 0\\\\\n\tLRG\\_84 & 0 & 0 & 0 & 0 & 0 & 0 & 0 & 0 & 0 & 0\\\\\n\tLRG\\_85 & 0 & 0 & 0 & 0 & 0 & 0 & 0 & 0 & 0 & 0\\\\\n\tLRG\\_86 & 0 & 0 & 0 & 0 & 0 & 0 & 0 & 0 & 0 & 0\\\\\n\tLRG\\_88 & 0 & 0 & 0 & 0 & 0 & 0 & 0 & 0 & 0 & 0\\\\\n\tLRG\\_89 & 0 & 0 & 0 & 0 & 0 & 0 & 0 & 0 & 0 & 0\\\\\n\tLRG\\_90 & 0 & 0 & 0 & 0 & 0 & 0 & 0 & 0 & 0 & 0\\\\\n\tLRG\\_91 & 0 & 0 & 0 & 0 & 0 & 0 & 0 & 0 & 0 & 0\\\\\n\tLRG\\_92 & 0 & 0 & 0 & 0 & 0 & 0 & 0 & 0 & 0 & 0\\\\\n\tLRG\\_93 & 0 & 0 & 0 & 0 & 0 & 0 & 0 & 0 & 0 & 0\\\\\n\tLRG\\_94 & 0 & 0 & 0 & 0 & 0 & 0 & 0 & 0 & 0 & 0\\\\\n\tLRG\\_96 & 0 & 0 & 0 & 0 & 0 & 0 & 0 & 0 & 0 & 0\\\\\n\tLRG\\_97 & 0 & 0 & 0 & 0 & 0 & 0 & 0 & 0 & 0 & 0\\\\\n\tLRG\\_98 & 0 & 0 & 0 & 0 & 0 & 0 & 0 & 0 & 0 & 0\\\\\n\tLRG\\_99 & 0 & 0 & 0 & 0 & 0 & 0 & 0 & 0 & 0 & 0\\\\\n\\end{tabular}\n",
            "text/plain": [
              "                SRR1039508 SRR1039509 SRR1039512 SRR1039513 SRR1039516\n",
              "ENSG00000000003  679        448        873        408        1138     \n",
              "ENSG00000000005    0          0          0          0           0     \n",
              "ENSG00000000419  467        515        621        365         587     \n",
              "ENSG00000000457  260        211        263        164         245     \n",
              "ENSG00000000460   60         55         40         35          78     \n",
              "ENSG00000000938    0          0          2          0           1     \n",
              "ENSG00000000971 3251       3679       6177       4252        6721     \n",
              "ENSG00000001036 1433       1062       1733        881        1424     \n",
              "ENSG00000001084  519        380        595        493         820     \n",
              "ENSG00000001167  394        236        464        175         658     \n",
              "ENSG00000001460  172        168        264        118         241     \n",
              "ENSG00000001461 2112       1867       5137       2657        2735     \n",
              "ENSG00000001497  524        488        638        357         676     \n",
              "ENSG00000001561   71         51        211        156          23     \n",
              "ENSG00000001617  555        394        905        415         727     \n",
              "ENSG00000001626   10          2          9          2          10     \n",
              "ENSG00000001629 1660       1251       2259       1079        2462     \n",
              "ENSG00000001630   59         54         66         23          84     \n",
              "ENSG00000001631  729        692        943        475        1034     \n",
              "ENSG00000002016  201        161        256         99         268     \n",
              "ENSG00000002079    3          0          3          1           4     \n",
              "ENSG00000002330  206        174        184        111         194     \n",
              "ENSG00000002549 1459       1294       1317        998        1451     \n",
              "ENSG00000002586 7507       7203       9501       6214       10973     \n",
              "ENSG00000002587    2          0          1          0           0     \n",
              "ENSG00000002726    0          0          1          0           0     \n",
              "ENSG00000002745    4          6         22         10           2     \n",
              "ENSG00000002746  151        139        117         65          90     \n",
              "ENSG00000002822  411        303        446        195         445     \n",
              "ENSG00000002834 6314       6364       7831       5809        6677     \n",
              "⋮               ⋮          ⋮          ⋮          ⋮          ⋮         \n",
              "LRG_70          0          0          0          0          0         \n",
              "LRG_71          0          0          0          0          0         \n",
              "LRG_715         0          0          0          0          0         \n",
              "LRG_717         0          0          0          0          0         \n",
              "LRG_72          0          0          0          0          0         \n",
              "LRG_73          0          0          0          0          0         \n",
              "LRG_74          0          0          0          0          0         \n",
              "LRG_75          0          0          0          0          0         \n",
              "LRG_76          0          0          0          0          0         \n",
              "LRG_77          0          0          0          0          0         \n",
              "LRG_78          0          0          0          0          0         \n",
              "LRG_79          0          0          0          0          0         \n",
              "LRG_8           0          0          0          0          0         \n",
              "LRG_80          0          0          0          0          0         \n",
              "LRG_81          0          0          0          0          0         \n",
              "LRG_83          0          0          0          0          0         \n",
              "LRG_84          0          0          0          0          0         \n",
              "LRG_85          0          0          0          0          0         \n",
              "LRG_86          0          0          0          0          0         \n",
              "LRG_88          0          0          0          0          0         \n",
              "LRG_89          0          0          0          0          0         \n",
              "LRG_90          0          0          0          0          0         \n",
              "LRG_91          0          0          0          0          0         \n",
              "LRG_92          0          0          0          0          0         \n",
              "LRG_93          0          0          0          0          0         \n",
              "LRG_94          0          0          0          0          0         \n",
              "LRG_96          0          0          0          0          0         \n",
              "LRG_97          0          0          0          0          0         \n",
              "LRG_98          0          0          0          0          0         \n",
              "LRG_99          0          0          0          0          0         \n",
              "                SRR1039517 SRR1039520 SRR1039521 Average  SRR1039508_divided\n",
              "ENSG00000000003  1047       770        572        741.875  6.79             \n",
              "ENSG00000000005     0         0          0          0.000  0.00             \n",
              "ENSG00000000419   799       417        508        534.875  4.67             \n",
              "ENSG00000000457   331       233        229        242.000  2.60             \n",
              "ENSG00000000460    63        76         60         58.375  0.60             \n",
              "ENSG00000000938     0         0          0          0.375  0.00             \n",
              "ENSG00000000971 11027      5176       7995       6034.750 32.51             \n",
              "ENSG00000001036  1439      1359       1109       1305.000 14.33             \n",
              "ENSG00000001084   714       696        704        615.125  5.19             \n",
              "ENSG00000001167   584       360        269        392.500  3.94             \n",
              "ENSG00000001460   210       155        177        188.125  1.72             \n",
              "ENSG00000001461  2751      2467       2905       2828.875 21.12             \n",
              "ENSG00000001497   806       493        475        557.125  5.24             \n",
              "ENSG00000001561    38       134        172        107.000  0.71             \n",
              "ENSG00000001617   697       618        599        613.750  5.55             \n",
              "ENSG00000001626     6         5          5          6.125  0.10             \n",
              "ENSG00000001629  2514      1888       1660       1846.625 16.60             \n",
              "ENSG00000001630    87        31         59         57.875  0.59             \n",
              "ENSG00000001631  1163       731        744        813.875  7.29             \n",
              "ENSG00000002016   257       160        137        192.375  2.01             \n",
              "ENSG00000002079     0         0          1          1.500  0.03             \n",
              "ENSG00000002330   260       156        177        182.750  2.06             \n",
              "ENSG00000002549  1824       853       1031       1278.375 14.59             \n",
              "ENSG00000002586 12863      6834       7225       8540.000 75.07             \n",
              "ENSG00000002587     2         0          0          0.625  0.02             \n",
              "ENSG00000002726     0         0          0          0.125  0.00             \n",
              "ENSG00000002745     1         5          3          6.625  0.04             \n",
              "ENSG00000002746   102        86        119        108.625  1.51             \n",
              "ENSG00000002822   523       295        300        364.750  4.11             \n",
              "ENSG00000002834 11970      5766       7825       7319.500 63.14             \n",
              "⋮               ⋮          ⋮          ⋮          ⋮        ⋮                 \n",
              "LRG_70          0          0          0          0        0                 \n",
              "LRG_71          0          0          0          0        0                 \n",
              "LRG_715         0          0          0          0        0                 \n",
              "LRG_717         0          0          0          0        0                 \n",
              "LRG_72          0          0          0          0        0                 \n",
              "LRG_73          0          0          0          0        0                 \n",
              "LRG_74          0          0          0          0        0                 \n",
              "LRG_75          0          0          0          0        0                 \n",
              "LRG_76          0          0          0          0        0                 \n",
              "LRG_77          0          0          0          0        0                 \n",
              "LRG_78          0          0          0          0        0                 \n",
              "LRG_79          0          0          0          0        0                 \n",
              "LRG_8           0          0          0          0        0                 \n",
              "LRG_80          0          0          0          0        0                 \n",
              "LRG_81          0          0          0          0        0                 \n",
              "LRG_83          0          0          0          0        0                 \n",
              "LRG_84          0          0          0          0        0                 \n",
              "LRG_85          0          0          0          0        0                 \n",
              "LRG_86          0          0          0          0        0                 \n",
              "LRG_88          0          0          0          0        0                 \n",
              "LRG_89          0          0          0          0        0                 \n",
              "LRG_90          0          0          0          0        0                 \n",
              "LRG_91          0          0          0          0        0                 \n",
              "LRG_92          0          0          0          0        0                 \n",
              "LRG_93          0          0          0          0        0                 \n",
              "LRG_94          0          0          0          0        0                 \n",
              "LRG_96          0          0          0          0        0                 \n",
              "LRG_97          0          0          0          0        0                 \n",
              "LRG_98          0          0          0          0        0                 \n",
              "LRG_99          0          0          0          0        0                 "
            ]
          },
          "metadata": {}
        }
      ]
    },
    {
      "cell_type": "code",
      "source": [
        "# Create a new variable Average which is the row-wise average of all columns starting with SRR\n",
        "mutated_data <- mutate(mutated_data, Average = rowMeans(select(mutated_data, starts_with(\"SRR\"))))\n",
        "mutated_data"
      ],
      "metadata": {
        "id": "-c9I9cnY0xXz",
        "colab": {
          "base_uri": "https://localhost:8080/",
          "height": 1000
        },
        "outputId": "eedbae6a-f461-469a-ddb5-615c90770c35"
      },
      "execution_count": 17,
      "outputs": [
        {
          "output_type": "display_data",
          "data": {
            "text/html": [
              "<table class=\"dataframe\">\n",
              "<caption>A data.frame: 64102 × 10</caption>\n",
              "<thead>\n",
              "\t<tr><th></th><th scope=col>SRR1039508</th><th scope=col>SRR1039509</th><th scope=col>SRR1039512</th><th scope=col>SRR1039513</th><th scope=col>SRR1039516</th><th scope=col>SRR1039517</th><th scope=col>SRR1039520</th><th scope=col>SRR1039521</th><th scope=col>Average</th><th scope=col>SRR1039508_divided</th></tr>\n",
              "\t<tr><th></th><th scope=col>&lt;int&gt;</th><th scope=col>&lt;int&gt;</th><th scope=col>&lt;int&gt;</th><th scope=col>&lt;int&gt;</th><th scope=col>&lt;int&gt;</th><th scope=col>&lt;int&gt;</th><th scope=col>&lt;int&gt;</th><th scope=col>&lt;int&gt;</th><th scope=col>&lt;dbl&gt;</th><th scope=col>&lt;dbl&gt;</th></tr>\n",
              "</thead>\n",
              "<tbody>\n",
              "\t<tr><th scope=row>ENSG00000000003</th><td> 679</td><td> 448</td><td> 873</td><td> 408</td><td> 1138</td><td> 1047</td><td> 770</td><td> 572</td><td> 660.1988889</td><td> 6.79</td></tr>\n",
              "\t<tr><th scope=row>ENSG00000000005</th><td>   0</td><td>   0</td><td>   0</td><td>   0</td><td>    0</td><td>    0</td><td>   0</td><td>   0</td><td>   0.0000000</td><td> 0.00</td></tr>\n",
              "\t<tr><th scope=row>ENSG00000000419</th><td> 467</td><td> 515</td><td> 621</td><td> 365</td><td>  587</td><td>  799</td><td> 417</td><td> 508</td><td> 475.9633333</td><td> 4.67</td></tr>\n",
              "\t<tr><th scope=row>ENSG00000000457</th><td> 260</td><td> 211</td><td> 263</td><td> 164</td><td>  245</td><td>  331</td><td> 233</td><td> 229</td><td> 215.4000000</td><td> 2.60</td></tr>\n",
              "\t<tr><th scope=row>ENSG00000000460</th><td>  60</td><td>  55</td><td>  40</td><td>  35</td><td>   78</td><td>   63</td><td>  76</td><td>  60</td><td>  51.9555556</td><td> 0.60</td></tr>\n",
              "\t<tr><th scope=row>ENSG00000000938</th><td>   0</td><td>   0</td><td>   2</td><td>   0</td><td>    1</td><td>    0</td><td>   0</td><td>   0</td><td>   0.3333333</td><td> 0.00</td></tr>\n",
              "\t<tr><th scope=row>ENSG00000000971</th><td>3251</td><td>3679</td><td>6177</td><td>4252</td><td> 6721</td><td>11027</td><td>5176</td><td>7995</td><td>5367.8344444</td><td>32.51</td></tr>\n",
              "\t<tr><th scope=row>ENSG00000001036</th><td>1433</td><td>1062</td><td>1733</td><td> 881</td><td> 1424</td><td> 1439</td><td>1359</td><td>1109</td><td>1161.5922222</td><td>14.33</td></tr>\n",
              "\t<tr><th scope=row>ENSG00000001084</th><td> 519</td><td> 380</td><td> 595</td><td> 493</td><td>  820</td><td>  714</td><td> 696</td><td> 704</td><td> 547.3544444</td><td> 5.19</td></tr>\n",
              "\t<tr><th scope=row>ENSG00000001167</th><td> 394</td><td> 236</td><td> 464</td><td> 175</td><td>  658</td><td>  584</td><td> 360</td><td> 269</td><td> 349.3266667</td><td> 3.94</td></tr>\n",
              "\t<tr><th scope=row>ENSG00000001460</th><td> 172</td><td> 168</td><td> 264</td><td> 118</td><td>  241</td><td>  210</td><td> 155</td><td> 177</td><td> 167.4133333</td><td> 1.72</td></tr>\n",
              "\t<tr><th scope=row>ENSG00000001461</th><td>2112</td><td>1867</td><td>5137</td><td>2657</td><td> 2735</td><td> 2751</td><td>2467</td><td>2905</td><td>2516.9022222</td><td>21.12</td></tr>\n",
              "\t<tr><th scope=row>ENSG00000001497</th><td> 524</td><td> 488</td><td> 638</td><td> 357</td><td>  676</td><td>  806</td><td> 493</td><td> 475</td><td> 495.8044444</td><td> 5.24</td></tr>\n",
              "\t<tr><th scope=row>ENSG00000001561</th><td>  71</td><td>  51</td><td> 211</td><td> 156</td><td>   23</td><td>   38</td><td> 134</td><td> 172</td><td>  95.1900000</td><td> 0.71</td></tr>\n",
              "\t<tr><th scope=row>ENSG00000001617</th><td> 555</td><td> 394</td><td> 905</td><td> 415</td><td>  727</td><td>  697</td><td> 618</td><td> 599</td><td> 546.1722222</td><td> 5.55</td></tr>\n",
              "\t<tr><th scope=row>ENSG00000001626</th><td>  10</td><td>   2</td><td>   9</td><td>   2</td><td>   10</td><td>    6</td><td>   5</td><td>   5</td><td>   5.4555556</td><td> 0.10</td></tr>\n",
              "\t<tr><th scope=row>ENSG00000001629</th><td>1660</td><td>1251</td><td>2259</td><td>1079</td><td> 2462</td><td> 2514</td><td>1888</td><td>1660</td><td>1643.2888889</td><td>16.60</td></tr>\n",
              "\t<tr><th scope=row>ENSG00000001630</th><td>  59</td><td>  54</td><td>  66</td><td>  23</td><td>   84</td><td>   87</td><td>  31</td><td>  59</td><td>  51.5100000</td><td> 0.59</td></tr>\n",
              "\t<tr><th scope=row>ENSG00000001631</th><td> 729</td><td> 692</td><td> 943</td><td> 475</td><td> 1034</td><td> 1163</td><td> 731</td><td> 744</td><td> 724.2544444</td><td> 7.29</td></tr>\n",
              "\t<tr><th scope=row>ENSG00000002016</th><td> 201</td><td> 161</td><td> 256</td><td>  99</td><td>  268</td><td>  257</td><td> 160</td><td> 137</td><td> 171.2233333</td><td> 2.01</td></tr>\n",
              "\t<tr><th scope=row>ENSG00000002079</th><td>   3</td><td>   0</td><td>   3</td><td>   1</td><td>    4</td><td>    0</td><td>   0</td><td>   1</td><td>   1.3366667</td><td> 0.03</td></tr>\n",
              "\t<tr><th scope=row>ENSG00000002330</th><td> 206</td><td> 174</td><td> 184</td><td> 111</td><td>  194</td><td>  260</td><td> 156</td><td> 177</td><td> 162.6733333</td><td> 2.06</td></tr>\n",
              "\t<tr><th scope=row>ENSG00000002549</th><td>1459</td><td>1294</td><td>1317</td><td> 998</td><td> 1451</td><td> 1824</td><td> 853</td><td>1031</td><td>1137.9544444</td><td>14.59</td></tr>\n",
              "\t<tr><th scope=row>ENSG00000002586</th><td>7507</td><td>7203</td><td>9501</td><td>6214</td><td>10973</td><td>12863</td><td>6834</td><td>7225</td><td>7599.4522222</td><td>75.07</td></tr>\n",
              "\t<tr><th scope=row>ENSG00000002587</th><td>   2</td><td>   0</td><td>   1</td><td>   0</td><td>    0</td><td>    2</td><td>   0</td><td>   0</td><td>   0.5577778</td><td> 0.02</td></tr>\n",
              "\t<tr><th scope=row>ENSG00000002726</th><td>   0</td><td>   0</td><td>   1</td><td>   0</td><td>    0</td><td>    0</td><td>   0</td><td>   0</td><td>   0.1111111</td><td> 0.00</td></tr>\n",
              "\t<tr><th scope=row>ENSG00000002745</th><td>   4</td><td>   6</td><td>  22</td><td>  10</td><td>    2</td><td>    1</td><td>   5</td><td>   3</td><td>   5.8933333</td><td> 0.04</td></tr>\n",
              "\t<tr><th scope=row>ENSG00000002746</th><td> 151</td><td> 139</td><td> 117</td><td>  65</td><td>   90</td><td>  102</td><td>  86</td><td> 119</td><td>  96.7233333</td><td> 1.51</td></tr>\n",
              "\t<tr><th scope=row>ENSG00000002822</th><td> 411</td><td> 303</td><td> 446</td><td> 195</td><td>  445</td><td>  523</td><td> 295</td><td> 300</td><td> 324.6788889</td><td> 4.11</td></tr>\n",
              "\t<tr><th scope=row>ENSG00000002834</th><td>6314</td><td>6364</td><td>7831</td><td>5809</td><td> 6677</td><td>11970</td><td>5766</td><td>7825</td><td>6513.2377778</td><td>63.14</td></tr>\n",
              "\t<tr><th scope=row>⋮</th><td>⋮</td><td>⋮</td><td>⋮</td><td>⋮</td><td>⋮</td><td>⋮</td><td>⋮</td><td>⋮</td><td>⋮</td><td>⋮</td></tr>\n",
              "\t<tr><th scope=row>LRG_70</th><td>0</td><td>0</td><td>0</td><td>0</td><td>0</td><td>0</td><td>0</td><td>0</td><td>0</td><td>0</td></tr>\n",
              "\t<tr><th scope=row>LRG_71</th><td>0</td><td>0</td><td>0</td><td>0</td><td>0</td><td>0</td><td>0</td><td>0</td><td>0</td><td>0</td></tr>\n",
              "\t<tr><th scope=row>LRG_715</th><td>0</td><td>0</td><td>0</td><td>0</td><td>0</td><td>0</td><td>0</td><td>0</td><td>0</td><td>0</td></tr>\n",
              "\t<tr><th scope=row>LRG_717</th><td>0</td><td>0</td><td>0</td><td>0</td><td>0</td><td>0</td><td>0</td><td>0</td><td>0</td><td>0</td></tr>\n",
              "\t<tr><th scope=row>LRG_72</th><td>0</td><td>0</td><td>0</td><td>0</td><td>0</td><td>0</td><td>0</td><td>0</td><td>0</td><td>0</td></tr>\n",
              "\t<tr><th scope=row>LRG_73</th><td>0</td><td>0</td><td>0</td><td>0</td><td>0</td><td>0</td><td>0</td><td>0</td><td>0</td><td>0</td></tr>\n",
              "\t<tr><th scope=row>LRG_74</th><td>0</td><td>0</td><td>0</td><td>0</td><td>0</td><td>0</td><td>0</td><td>0</td><td>0</td><td>0</td></tr>\n",
              "\t<tr><th scope=row>LRG_75</th><td>0</td><td>0</td><td>0</td><td>0</td><td>0</td><td>0</td><td>0</td><td>0</td><td>0</td><td>0</td></tr>\n",
              "\t<tr><th scope=row>LRG_76</th><td>0</td><td>0</td><td>0</td><td>0</td><td>0</td><td>0</td><td>0</td><td>0</td><td>0</td><td>0</td></tr>\n",
              "\t<tr><th scope=row>LRG_77</th><td>0</td><td>0</td><td>0</td><td>0</td><td>0</td><td>0</td><td>0</td><td>0</td><td>0</td><td>0</td></tr>\n",
              "\t<tr><th scope=row>LRG_78</th><td>0</td><td>0</td><td>0</td><td>0</td><td>0</td><td>0</td><td>0</td><td>0</td><td>0</td><td>0</td></tr>\n",
              "\t<tr><th scope=row>LRG_79</th><td>0</td><td>0</td><td>0</td><td>0</td><td>0</td><td>0</td><td>0</td><td>0</td><td>0</td><td>0</td></tr>\n",
              "\t<tr><th scope=row>LRG_8</th><td>0</td><td>0</td><td>0</td><td>0</td><td>0</td><td>0</td><td>0</td><td>0</td><td>0</td><td>0</td></tr>\n",
              "\t<tr><th scope=row>LRG_80</th><td>0</td><td>0</td><td>0</td><td>0</td><td>0</td><td>0</td><td>0</td><td>0</td><td>0</td><td>0</td></tr>\n",
              "\t<tr><th scope=row>LRG_81</th><td>0</td><td>0</td><td>0</td><td>0</td><td>0</td><td>0</td><td>0</td><td>0</td><td>0</td><td>0</td></tr>\n",
              "\t<tr><th scope=row>LRG_83</th><td>0</td><td>0</td><td>0</td><td>0</td><td>0</td><td>0</td><td>0</td><td>0</td><td>0</td><td>0</td></tr>\n",
              "\t<tr><th scope=row>LRG_84</th><td>0</td><td>0</td><td>0</td><td>0</td><td>0</td><td>0</td><td>0</td><td>0</td><td>0</td><td>0</td></tr>\n",
              "\t<tr><th scope=row>LRG_85</th><td>0</td><td>0</td><td>0</td><td>0</td><td>0</td><td>0</td><td>0</td><td>0</td><td>0</td><td>0</td></tr>\n",
              "\t<tr><th scope=row>LRG_86</th><td>0</td><td>0</td><td>0</td><td>0</td><td>0</td><td>0</td><td>0</td><td>0</td><td>0</td><td>0</td></tr>\n",
              "\t<tr><th scope=row>LRG_88</th><td>0</td><td>0</td><td>0</td><td>0</td><td>0</td><td>0</td><td>0</td><td>0</td><td>0</td><td>0</td></tr>\n",
              "\t<tr><th scope=row>LRG_89</th><td>0</td><td>0</td><td>0</td><td>0</td><td>0</td><td>0</td><td>0</td><td>0</td><td>0</td><td>0</td></tr>\n",
              "\t<tr><th scope=row>LRG_90</th><td>0</td><td>0</td><td>0</td><td>0</td><td>0</td><td>0</td><td>0</td><td>0</td><td>0</td><td>0</td></tr>\n",
              "\t<tr><th scope=row>LRG_91</th><td>0</td><td>0</td><td>0</td><td>0</td><td>0</td><td>0</td><td>0</td><td>0</td><td>0</td><td>0</td></tr>\n",
              "\t<tr><th scope=row>LRG_92</th><td>0</td><td>0</td><td>0</td><td>0</td><td>0</td><td>0</td><td>0</td><td>0</td><td>0</td><td>0</td></tr>\n",
              "\t<tr><th scope=row>LRG_93</th><td>0</td><td>0</td><td>0</td><td>0</td><td>0</td><td>0</td><td>0</td><td>0</td><td>0</td><td>0</td></tr>\n",
              "\t<tr><th scope=row>LRG_94</th><td>0</td><td>0</td><td>0</td><td>0</td><td>0</td><td>0</td><td>0</td><td>0</td><td>0</td><td>0</td></tr>\n",
              "\t<tr><th scope=row>LRG_96</th><td>0</td><td>0</td><td>0</td><td>0</td><td>0</td><td>0</td><td>0</td><td>0</td><td>0</td><td>0</td></tr>\n",
              "\t<tr><th scope=row>LRG_97</th><td>0</td><td>0</td><td>0</td><td>0</td><td>0</td><td>0</td><td>0</td><td>0</td><td>0</td><td>0</td></tr>\n",
              "\t<tr><th scope=row>LRG_98</th><td>0</td><td>0</td><td>0</td><td>0</td><td>0</td><td>0</td><td>0</td><td>0</td><td>0</td><td>0</td></tr>\n",
              "\t<tr><th scope=row>LRG_99</th><td>0</td><td>0</td><td>0</td><td>0</td><td>0</td><td>0</td><td>0</td><td>0</td><td>0</td><td>0</td></tr>\n",
              "</tbody>\n",
              "</table>\n"
            ],
            "text/markdown": "\nA data.frame: 64102 × 10\n\n| <!--/--> | SRR1039508 &lt;int&gt; | SRR1039509 &lt;int&gt; | SRR1039512 &lt;int&gt; | SRR1039513 &lt;int&gt; | SRR1039516 &lt;int&gt; | SRR1039517 &lt;int&gt; | SRR1039520 &lt;int&gt; | SRR1039521 &lt;int&gt; | Average &lt;dbl&gt; | SRR1039508_divided &lt;dbl&gt; |\n|---|---|---|---|---|---|---|---|---|---|---|\n| ENSG00000000003 |  679 |  448 |  873 |  408 |  1138 |  1047 |  770 |  572 |  660.1988889 |  6.79 |\n| ENSG00000000005 |    0 |    0 |    0 |    0 |     0 |     0 |    0 |    0 |    0.0000000 |  0.00 |\n| ENSG00000000419 |  467 |  515 |  621 |  365 |   587 |   799 |  417 |  508 |  475.9633333 |  4.67 |\n| ENSG00000000457 |  260 |  211 |  263 |  164 |   245 |   331 |  233 |  229 |  215.4000000 |  2.60 |\n| ENSG00000000460 |   60 |   55 |   40 |   35 |    78 |    63 |   76 |   60 |   51.9555556 |  0.60 |\n| ENSG00000000938 |    0 |    0 |    2 |    0 |     1 |     0 |    0 |    0 |    0.3333333 |  0.00 |\n| ENSG00000000971 | 3251 | 3679 | 6177 | 4252 |  6721 | 11027 | 5176 | 7995 | 5367.8344444 | 32.51 |\n| ENSG00000001036 | 1433 | 1062 | 1733 |  881 |  1424 |  1439 | 1359 | 1109 | 1161.5922222 | 14.33 |\n| ENSG00000001084 |  519 |  380 |  595 |  493 |   820 |   714 |  696 |  704 |  547.3544444 |  5.19 |\n| ENSG00000001167 |  394 |  236 |  464 |  175 |   658 |   584 |  360 |  269 |  349.3266667 |  3.94 |\n| ENSG00000001460 |  172 |  168 |  264 |  118 |   241 |   210 |  155 |  177 |  167.4133333 |  1.72 |\n| ENSG00000001461 | 2112 | 1867 | 5137 | 2657 |  2735 |  2751 | 2467 | 2905 | 2516.9022222 | 21.12 |\n| ENSG00000001497 |  524 |  488 |  638 |  357 |   676 |   806 |  493 |  475 |  495.8044444 |  5.24 |\n| ENSG00000001561 |   71 |   51 |  211 |  156 |    23 |    38 |  134 |  172 |   95.1900000 |  0.71 |\n| ENSG00000001617 |  555 |  394 |  905 |  415 |   727 |   697 |  618 |  599 |  546.1722222 |  5.55 |\n| ENSG00000001626 |   10 |    2 |    9 |    2 |    10 |     6 |    5 |    5 |    5.4555556 |  0.10 |\n| ENSG00000001629 | 1660 | 1251 | 2259 | 1079 |  2462 |  2514 | 1888 | 1660 | 1643.2888889 | 16.60 |\n| ENSG00000001630 |   59 |   54 |   66 |   23 |    84 |    87 |   31 |   59 |   51.5100000 |  0.59 |\n| ENSG00000001631 |  729 |  692 |  943 |  475 |  1034 |  1163 |  731 |  744 |  724.2544444 |  7.29 |\n| ENSG00000002016 |  201 |  161 |  256 |   99 |   268 |   257 |  160 |  137 |  171.2233333 |  2.01 |\n| ENSG00000002079 |    3 |    0 |    3 |    1 |     4 |     0 |    0 |    1 |    1.3366667 |  0.03 |\n| ENSG00000002330 |  206 |  174 |  184 |  111 |   194 |   260 |  156 |  177 |  162.6733333 |  2.06 |\n| ENSG00000002549 | 1459 | 1294 | 1317 |  998 |  1451 |  1824 |  853 | 1031 | 1137.9544444 | 14.59 |\n| ENSG00000002586 | 7507 | 7203 | 9501 | 6214 | 10973 | 12863 | 6834 | 7225 | 7599.4522222 | 75.07 |\n| ENSG00000002587 |    2 |    0 |    1 |    0 |     0 |     2 |    0 |    0 |    0.5577778 |  0.02 |\n| ENSG00000002726 |    0 |    0 |    1 |    0 |     0 |     0 |    0 |    0 |    0.1111111 |  0.00 |\n| ENSG00000002745 |    4 |    6 |   22 |   10 |     2 |     1 |    5 |    3 |    5.8933333 |  0.04 |\n| ENSG00000002746 |  151 |  139 |  117 |   65 |    90 |   102 |   86 |  119 |   96.7233333 |  1.51 |\n| ENSG00000002822 |  411 |  303 |  446 |  195 |   445 |   523 |  295 |  300 |  324.6788889 |  4.11 |\n| ENSG00000002834 | 6314 | 6364 | 7831 | 5809 |  6677 | 11970 | 5766 | 7825 | 6513.2377778 | 63.14 |\n| ⋮ | ⋮ | ⋮ | ⋮ | ⋮ | ⋮ | ⋮ | ⋮ | ⋮ | ⋮ | ⋮ |\n| LRG_70 | 0 | 0 | 0 | 0 | 0 | 0 | 0 | 0 | 0 | 0 |\n| LRG_71 | 0 | 0 | 0 | 0 | 0 | 0 | 0 | 0 | 0 | 0 |\n| LRG_715 | 0 | 0 | 0 | 0 | 0 | 0 | 0 | 0 | 0 | 0 |\n| LRG_717 | 0 | 0 | 0 | 0 | 0 | 0 | 0 | 0 | 0 | 0 |\n| LRG_72 | 0 | 0 | 0 | 0 | 0 | 0 | 0 | 0 | 0 | 0 |\n| LRG_73 | 0 | 0 | 0 | 0 | 0 | 0 | 0 | 0 | 0 | 0 |\n| LRG_74 | 0 | 0 | 0 | 0 | 0 | 0 | 0 | 0 | 0 | 0 |\n| LRG_75 | 0 | 0 | 0 | 0 | 0 | 0 | 0 | 0 | 0 | 0 |\n| LRG_76 | 0 | 0 | 0 | 0 | 0 | 0 | 0 | 0 | 0 | 0 |\n| LRG_77 | 0 | 0 | 0 | 0 | 0 | 0 | 0 | 0 | 0 | 0 |\n| LRG_78 | 0 | 0 | 0 | 0 | 0 | 0 | 0 | 0 | 0 | 0 |\n| LRG_79 | 0 | 0 | 0 | 0 | 0 | 0 | 0 | 0 | 0 | 0 |\n| LRG_8 | 0 | 0 | 0 | 0 | 0 | 0 | 0 | 0 | 0 | 0 |\n| LRG_80 | 0 | 0 | 0 | 0 | 0 | 0 | 0 | 0 | 0 | 0 |\n| LRG_81 | 0 | 0 | 0 | 0 | 0 | 0 | 0 | 0 | 0 | 0 |\n| LRG_83 | 0 | 0 | 0 | 0 | 0 | 0 | 0 | 0 | 0 | 0 |\n| LRG_84 | 0 | 0 | 0 | 0 | 0 | 0 | 0 | 0 | 0 | 0 |\n| LRG_85 | 0 | 0 | 0 | 0 | 0 | 0 | 0 | 0 | 0 | 0 |\n| LRG_86 | 0 | 0 | 0 | 0 | 0 | 0 | 0 | 0 | 0 | 0 |\n| LRG_88 | 0 | 0 | 0 | 0 | 0 | 0 | 0 | 0 | 0 | 0 |\n| LRG_89 | 0 | 0 | 0 | 0 | 0 | 0 | 0 | 0 | 0 | 0 |\n| LRG_90 | 0 | 0 | 0 | 0 | 0 | 0 | 0 | 0 | 0 | 0 |\n| LRG_91 | 0 | 0 | 0 | 0 | 0 | 0 | 0 | 0 | 0 | 0 |\n| LRG_92 | 0 | 0 | 0 | 0 | 0 | 0 | 0 | 0 | 0 | 0 |\n| LRG_93 | 0 | 0 | 0 | 0 | 0 | 0 | 0 | 0 | 0 | 0 |\n| LRG_94 | 0 | 0 | 0 | 0 | 0 | 0 | 0 | 0 | 0 | 0 |\n| LRG_96 | 0 | 0 | 0 | 0 | 0 | 0 | 0 | 0 | 0 | 0 |\n| LRG_97 | 0 | 0 | 0 | 0 | 0 | 0 | 0 | 0 | 0 | 0 |\n| LRG_98 | 0 | 0 | 0 | 0 | 0 | 0 | 0 | 0 | 0 | 0 |\n| LRG_99 | 0 | 0 | 0 | 0 | 0 | 0 | 0 | 0 | 0 | 0 |\n\n",
            "text/latex": "A data.frame: 64102 × 10\n\\begin{tabular}{r|llllllllll}\n  & SRR1039508 & SRR1039509 & SRR1039512 & SRR1039513 & SRR1039516 & SRR1039517 & SRR1039520 & SRR1039521 & Average & SRR1039508\\_divided\\\\\n  & <int> & <int> & <int> & <int> & <int> & <int> & <int> & <int> & <dbl> & <dbl>\\\\\n\\hline\n\tENSG00000000003 &  679 &  448 &  873 &  408 &  1138 &  1047 &  770 &  572 &  660.1988889 &  6.79\\\\\n\tENSG00000000005 &    0 &    0 &    0 &    0 &     0 &     0 &    0 &    0 &    0.0000000 &  0.00\\\\\n\tENSG00000000419 &  467 &  515 &  621 &  365 &   587 &   799 &  417 &  508 &  475.9633333 &  4.67\\\\\n\tENSG00000000457 &  260 &  211 &  263 &  164 &   245 &   331 &  233 &  229 &  215.4000000 &  2.60\\\\\n\tENSG00000000460 &   60 &   55 &   40 &   35 &    78 &    63 &   76 &   60 &   51.9555556 &  0.60\\\\\n\tENSG00000000938 &    0 &    0 &    2 &    0 &     1 &     0 &    0 &    0 &    0.3333333 &  0.00\\\\\n\tENSG00000000971 & 3251 & 3679 & 6177 & 4252 &  6721 & 11027 & 5176 & 7995 & 5367.8344444 & 32.51\\\\\n\tENSG00000001036 & 1433 & 1062 & 1733 &  881 &  1424 &  1439 & 1359 & 1109 & 1161.5922222 & 14.33\\\\\n\tENSG00000001084 &  519 &  380 &  595 &  493 &   820 &   714 &  696 &  704 &  547.3544444 &  5.19\\\\\n\tENSG00000001167 &  394 &  236 &  464 &  175 &   658 &   584 &  360 &  269 &  349.3266667 &  3.94\\\\\n\tENSG00000001460 &  172 &  168 &  264 &  118 &   241 &   210 &  155 &  177 &  167.4133333 &  1.72\\\\\n\tENSG00000001461 & 2112 & 1867 & 5137 & 2657 &  2735 &  2751 & 2467 & 2905 & 2516.9022222 & 21.12\\\\\n\tENSG00000001497 &  524 &  488 &  638 &  357 &   676 &   806 &  493 &  475 &  495.8044444 &  5.24\\\\\n\tENSG00000001561 &   71 &   51 &  211 &  156 &    23 &    38 &  134 &  172 &   95.1900000 &  0.71\\\\\n\tENSG00000001617 &  555 &  394 &  905 &  415 &   727 &   697 &  618 &  599 &  546.1722222 &  5.55\\\\\n\tENSG00000001626 &   10 &    2 &    9 &    2 &    10 &     6 &    5 &    5 &    5.4555556 &  0.10\\\\\n\tENSG00000001629 & 1660 & 1251 & 2259 & 1079 &  2462 &  2514 & 1888 & 1660 & 1643.2888889 & 16.60\\\\\n\tENSG00000001630 &   59 &   54 &   66 &   23 &    84 &    87 &   31 &   59 &   51.5100000 &  0.59\\\\\n\tENSG00000001631 &  729 &  692 &  943 &  475 &  1034 &  1163 &  731 &  744 &  724.2544444 &  7.29\\\\\n\tENSG00000002016 &  201 &  161 &  256 &   99 &   268 &   257 &  160 &  137 &  171.2233333 &  2.01\\\\\n\tENSG00000002079 &    3 &    0 &    3 &    1 &     4 &     0 &    0 &    1 &    1.3366667 &  0.03\\\\\n\tENSG00000002330 &  206 &  174 &  184 &  111 &   194 &   260 &  156 &  177 &  162.6733333 &  2.06\\\\\n\tENSG00000002549 & 1459 & 1294 & 1317 &  998 &  1451 &  1824 &  853 & 1031 & 1137.9544444 & 14.59\\\\\n\tENSG00000002586 & 7507 & 7203 & 9501 & 6214 & 10973 & 12863 & 6834 & 7225 & 7599.4522222 & 75.07\\\\\n\tENSG00000002587 &    2 &    0 &    1 &    0 &     0 &     2 &    0 &    0 &    0.5577778 &  0.02\\\\\n\tENSG00000002726 &    0 &    0 &    1 &    0 &     0 &     0 &    0 &    0 &    0.1111111 &  0.00\\\\\n\tENSG00000002745 &    4 &    6 &   22 &   10 &     2 &     1 &    5 &    3 &    5.8933333 &  0.04\\\\\n\tENSG00000002746 &  151 &  139 &  117 &   65 &    90 &   102 &   86 &  119 &   96.7233333 &  1.51\\\\\n\tENSG00000002822 &  411 &  303 &  446 &  195 &   445 &   523 &  295 &  300 &  324.6788889 &  4.11\\\\\n\tENSG00000002834 & 6314 & 6364 & 7831 & 5809 &  6677 & 11970 & 5766 & 7825 & 6513.2377778 & 63.14\\\\\n\t⋮ & ⋮ & ⋮ & ⋮ & ⋮ & ⋮ & ⋮ & ⋮ & ⋮ & ⋮ & ⋮\\\\\n\tLRG\\_70 & 0 & 0 & 0 & 0 & 0 & 0 & 0 & 0 & 0 & 0\\\\\n\tLRG\\_71 & 0 & 0 & 0 & 0 & 0 & 0 & 0 & 0 & 0 & 0\\\\\n\tLRG\\_715 & 0 & 0 & 0 & 0 & 0 & 0 & 0 & 0 & 0 & 0\\\\\n\tLRG\\_717 & 0 & 0 & 0 & 0 & 0 & 0 & 0 & 0 & 0 & 0\\\\\n\tLRG\\_72 & 0 & 0 & 0 & 0 & 0 & 0 & 0 & 0 & 0 & 0\\\\\n\tLRG\\_73 & 0 & 0 & 0 & 0 & 0 & 0 & 0 & 0 & 0 & 0\\\\\n\tLRG\\_74 & 0 & 0 & 0 & 0 & 0 & 0 & 0 & 0 & 0 & 0\\\\\n\tLRG\\_75 & 0 & 0 & 0 & 0 & 0 & 0 & 0 & 0 & 0 & 0\\\\\n\tLRG\\_76 & 0 & 0 & 0 & 0 & 0 & 0 & 0 & 0 & 0 & 0\\\\\n\tLRG\\_77 & 0 & 0 & 0 & 0 & 0 & 0 & 0 & 0 & 0 & 0\\\\\n\tLRG\\_78 & 0 & 0 & 0 & 0 & 0 & 0 & 0 & 0 & 0 & 0\\\\\n\tLRG\\_79 & 0 & 0 & 0 & 0 & 0 & 0 & 0 & 0 & 0 & 0\\\\\n\tLRG\\_8 & 0 & 0 & 0 & 0 & 0 & 0 & 0 & 0 & 0 & 0\\\\\n\tLRG\\_80 & 0 & 0 & 0 & 0 & 0 & 0 & 0 & 0 & 0 & 0\\\\\n\tLRG\\_81 & 0 & 0 & 0 & 0 & 0 & 0 & 0 & 0 & 0 & 0\\\\\n\tLRG\\_83 & 0 & 0 & 0 & 0 & 0 & 0 & 0 & 0 & 0 & 0\\\\\n\tLRG\\_84 & 0 & 0 & 0 & 0 & 0 & 0 & 0 & 0 & 0 & 0\\\\\n\tLRG\\_85 & 0 & 0 & 0 & 0 & 0 & 0 & 0 & 0 & 0 & 0\\\\\n\tLRG\\_86 & 0 & 0 & 0 & 0 & 0 & 0 & 0 & 0 & 0 & 0\\\\\n\tLRG\\_88 & 0 & 0 & 0 & 0 & 0 & 0 & 0 & 0 & 0 & 0\\\\\n\tLRG\\_89 & 0 & 0 & 0 & 0 & 0 & 0 & 0 & 0 & 0 & 0\\\\\n\tLRG\\_90 & 0 & 0 & 0 & 0 & 0 & 0 & 0 & 0 & 0 & 0\\\\\n\tLRG\\_91 & 0 & 0 & 0 & 0 & 0 & 0 & 0 & 0 & 0 & 0\\\\\n\tLRG\\_92 & 0 & 0 & 0 & 0 & 0 & 0 & 0 & 0 & 0 & 0\\\\\n\tLRG\\_93 & 0 & 0 & 0 & 0 & 0 & 0 & 0 & 0 & 0 & 0\\\\\n\tLRG\\_94 & 0 & 0 & 0 & 0 & 0 & 0 & 0 & 0 & 0 & 0\\\\\n\tLRG\\_96 & 0 & 0 & 0 & 0 & 0 & 0 & 0 & 0 & 0 & 0\\\\\n\tLRG\\_97 & 0 & 0 & 0 & 0 & 0 & 0 & 0 & 0 & 0 & 0\\\\\n\tLRG\\_98 & 0 & 0 & 0 & 0 & 0 & 0 & 0 & 0 & 0 & 0\\\\\n\tLRG\\_99 & 0 & 0 & 0 & 0 & 0 & 0 & 0 & 0 & 0 & 0\\\\\n\\end{tabular}\n",
            "text/plain": [
              "                SRR1039508 SRR1039509 SRR1039512 SRR1039513 SRR1039516\n",
              "ENSG00000000003  679        448        873        408        1138     \n",
              "ENSG00000000005    0          0          0          0           0     \n",
              "ENSG00000000419  467        515        621        365         587     \n",
              "ENSG00000000457  260        211        263        164         245     \n",
              "ENSG00000000460   60         55         40         35          78     \n",
              "ENSG00000000938    0          0          2          0           1     \n",
              "ENSG00000000971 3251       3679       6177       4252        6721     \n",
              "ENSG00000001036 1433       1062       1733        881        1424     \n",
              "ENSG00000001084  519        380        595        493         820     \n",
              "ENSG00000001167  394        236        464        175         658     \n",
              "ENSG00000001460  172        168        264        118         241     \n",
              "ENSG00000001461 2112       1867       5137       2657        2735     \n",
              "ENSG00000001497  524        488        638        357         676     \n",
              "ENSG00000001561   71         51        211        156          23     \n",
              "ENSG00000001617  555        394        905        415         727     \n",
              "ENSG00000001626   10          2          9          2          10     \n",
              "ENSG00000001629 1660       1251       2259       1079        2462     \n",
              "ENSG00000001630   59         54         66         23          84     \n",
              "ENSG00000001631  729        692        943        475        1034     \n",
              "ENSG00000002016  201        161        256         99         268     \n",
              "ENSG00000002079    3          0          3          1           4     \n",
              "ENSG00000002330  206        174        184        111         194     \n",
              "ENSG00000002549 1459       1294       1317        998        1451     \n",
              "ENSG00000002586 7507       7203       9501       6214       10973     \n",
              "ENSG00000002587    2          0          1          0           0     \n",
              "ENSG00000002726    0          0          1          0           0     \n",
              "ENSG00000002745    4          6         22         10           2     \n",
              "ENSG00000002746  151        139        117         65          90     \n",
              "ENSG00000002822  411        303        446        195         445     \n",
              "ENSG00000002834 6314       6364       7831       5809        6677     \n",
              "⋮               ⋮          ⋮          ⋮          ⋮          ⋮         \n",
              "LRG_70          0          0          0          0          0         \n",
              "LRG_71          0          0          0          0          0         \n",
              "LRG_715         0          0          0          0          0         \n",
              "LRG_717         0          0          0          0          0         \n",
              "LRG_72          0          0          0          0          0         \n",
              "LRG_73          0          0          0          0          0         \n",
              "LRG_74          0          0          0          0          0         \n",
              "LRG_75          0          0          0          0          0         \n",
              "LRG_76          0          0          0          0          0         \n",
              "LRG_77          0          0          0          0          0         \n",
              "LRG_78          0          0          0          0          0         \n",
              "LRG_79          0          0          0          0          0         \n",
              "LRG_8           0          0          0          0          0         \n",
              "LRG_80          0          0          0          0          0         \n",
              "LRG_81          0          0          0          0          0         \n",
              "LRG_83          0          0          0          0          0         \n",
              "LRG_84          0          0          0          0          0         \n",
              "LRG_85          0          0          0          0          0         \n",
              "LRG_86          0          0          0          0          0         \n",
              "LRG_88          0          0          0          0          0         \n",
              "LRG_89          0          0          0          0          0         \n",
              "LRG_90          0          0          0          0          0         \n",
              "LRG_91          0          0          0          0          0         \n",
              "LRG_92          0          0          0          0          0         \n",
              "LRG_93          0          0          0          0          0         \n",
              "LRG_94          0          0          0          0          0         \n",
              "LRG_96          0          0          0          0          0         \n",
              "LRG_97          0          0          0          0          0         \n",
              "LRG_98          0          0          0          0          0         \n",
              "LRG_99          0          0          0          0          0         \n",
              "                SRR1039517 SRR1039520 SRR1039521 Average     \n",
              "ENSG00000000003  1047       770        572        660.1988889\n",
              "ENSG00000000005     0         0          0          0.0000000\n",
              "ENSG00000000419   799       417        508        475.9633333\n",
              "ENSG00000000457   331       233        229        215.4000000\n",
              "ENSG00000000460    63        76         60         51.9555556\n",
              "ENSG00000000938     0         0          0          0.3333333\n",
              "ENSG00000000971 11027      5176       7995       5367.8344444\n",
              "ENSG00000001036  1439      1359       1109       1161.5922222\n",
              "ENSG00000001084   714       696        704        547.3544444\n",
              "ENSG00000001167   584       360        269        349.3266667\n",
              "ENSG00000001460   210       155        177        167.4133333\n",
              "ENSG00000001461  2751      2467       2905       2516.9022222\n",
              "ENSG00000001497   806       493        475        495.8044444\n",
              "ENSG00000001561    38       134        172         95.1900000\n",
              "ENSG00000001617   697       618        599        546.1722222\n",
              "ENSG00000001626     6         5          5          5.4555556\n",
              "ENSG00000001629  2514      1888       1660       1643.2888889\n",
              "ENSG00000001630    87        31         59         51.5100000\n",
              "ENSG00000001631  1163       731        744        724.2544444\n",
              "ENSG00000002016   257       160        137        171.2233333\n",
              "ENSG00000002079     0         0          1          1.3366667\n",
              "ENSG00000002330   260       156        177        162.6733333\n",
              "ENSG00000002549  1824       853       1031       1137.9544444\n",
              "ENSG00000002586 12863      6834       7225       7599.4522222\n",
              "ENSG00000002587     2         0          0          0.5577778\n",
              "ENSG00000002726     0         0          0          0.1111111\n",
              "ENSG00000002745     1         5          3          5.8933333\n",
              "ENSG00000002746   102        86        119         96.7233333\n",
              "ENSG00000002822   523       295        300        324.6788889\n",
              "ENSG00000002834 11970      5766       7825       6513.2377778\n",
              "⋮               ⋮          ⋮          ⋮          ⋮           \n",
              "LRG_70          0          0          0          0           \n",
              "LRG_71          0          0          0          0           \n",
              "LRG_715         0          0          0          0           \n",
              "LRG_717         0          0          0          0           \n",
              "LRG_72          0          0          0          0           \n",
              "LRG_73          0          0          0          0           \n",
              "LRG_74          0          0          0          0           \n",
              "LRG_75          0          0          0          0           \n",
              "LRG_76          0          0          0          0           \n",
              "LRG_77          0          0          0          0           \n",
              "LRG_78          0          0          0          0           \n",
              "LRG_79          0          0          0          0           \n",
              "LRG_8           0          0          0          0           \n",
              "LRG_80          0          0          0          0           \n",
              "LRG_81          0          0          0          0           \n",
              "LRG_83          0          0          0          0           \n",
              "LRG_84          0          0          0          0           \n",
              "LRG_85          0          0          0          0           \n",
              "LRG_86          0          0          0          0           \n",
              "LRG_88          0          0          0          0           \n",
              "LRG_89          0          0          0          0           \n",
              "LRG_90          0          0          0          0           \n",
              "LRG_91          0          0          0          0           \n",
              "LRG_92          0          0          0          0           \n",
              "LRG_93          0          0          0          0           \n",
              "LRG_94          0          0          0          0           \n",
              "LRG_96          0          0          0          0           \n",
              "LRG_97          0          0          0          0           \n",
              "LRG_98          0          0          0          0           \n",
              "LRG_99          0          0          0          0           \n",
              "                SRR1039508_divided\n",
              "ENSG00000000003  6.79             \n",
              "ENSG00000000005  0.00             \n",
              "ENSG00000000419  4.67             \n",
              "ENSG00000000457  2.60             \n",
              "ENSG00000000460  0.60             \n",
              "ENSG00000000938  0.00             \n",
              "ENSG00000000971 32.51             \n",
              "ENSG00000001036 14.33             \n",
              "ENSG00000001084  5.19             \n",
              "ENSG00000001167  3.94             \n",
              "ENSG00000001460  1.72             \n",
              "ENSG00000001461 21.12             \n",
              "ENSG00000001497  5.24             \n",
              "ENSG00000001561  0.71             \n",
              "ENSG00000001617  5.55             \n",
              "ENSG00000001626  0.10             \n",
              "ENSG00000001629 16.60             \n",
              "ENSG00000001630  0.59             \n",
              "ENSG00000001631  7.29             \n",
              "ENSG00000002016  2.01             \n",
              "ENSG00000002079  0.03             \n",
              "ENSG00000002330  2.06             \n",
              "ENSG00000002549 14.59             \n",
              "ENSG00000002586 75.07             \n",
              "ENSG00000002587  0.02             \n",
              "ENSG00000002726  0.00             \n",
              "ENSG00000002745  0.04             \n",
              "ENSG00000002746  1.51             \n",
              "ENSG00000002822  4.11             \n",
              "ENSG00000002834 63.14             \n",
              "⋮               ⋮                 \n",
              "LRG_70          0                 \n",
              "LRG_71          0                 \n",
              "LRG_715         0                 \n",
              "LRG_717         0                 \n",
              "LRG_72          0                 \n",
              "LRG_73          0                 \n",
              "LRG_74          0                 \n",
              "LRG_75          0                 \n",
              "LRG_76          0                 \n",
              "LRG_77          0                 \n",
              "LRG_78          0                 \n",
              "LRG_79          0                 \n",
              "LRG_8           0                 \n",
              "LRG_80          0                 \n",
              "LRG_81          0                 \n",
              "LRG_83          0                 \n",
              "LRG_84          0                 \n",
              "LRG_85          0                 \n",
              "LRG_86          0                 \n",
              "LRG_88          0                 \n",
              "LRG_89          0                 \n",
              "LRG_90          0                 \n",
              "LRG_91          0                 \n",
              "LRG_92          0                 \n",
              "LRG_93          0                 \n",
              "LRG_94          0                 \n",
              "LRG_96          0                 \n",
              "LRG_97          0                 \n",
              "LRG_98          0                 \n",
              "LRG_99          0                 "
            ]
          },
          "metadata": {}
        }
      ]
    },
    {
      "cell_type": "markdown",
      "source": [
        "# Variable Assignment"
      ],
      "metadata": {
        "id": "0P4liwCMamp4"
      }
    },
    {
      "cell_type": "code",
      "source": [
        "# Save filtered data as a new data frame\n",
        "new_data_frame <- filtered_data_2\n",
        "new_data_frame"
      ],
      "metadata": {
        "colab": {
          "base_uri": "https://localhost:8080/",
          "height": 411
        },
        "id": "mELyTgxzak0h",
        "outputId": "ae0ad519-6003-4f46-e6d4-3a1b1f41314d"
      },
      "execution_count": 19,
      "outputs": [
        {
          "output_type": "display_data",
          "data": {
            "text/html": [
              "<table class=\"dataframe\">\n",
              "<caption>A data.frame: 10 × 8</caption>\n",
              "<thead>\n",
              "\t<tr><th></th><th scope=col>SRR1039508</th><th scope=col>SRR1039509</th><th scope=col>SRR1039512</th><th scope=col>SRR1039513</th><th scope=col>SRR1039516</th><th scope=col>SRR1039517</th><th scope=col>SRR1039520</th><th scope=col>SRR1039521</th></tr>\n",
              "\t<tr><th></th><th scope=col>&lt;int&gt;</th><th scope=col>&lt;int&gt;</th><th scope=col>&lt;int&gt;</th><th scope=col>&lt;int&gt;</th><th scope=col>&lt;int&gt;</th><th scope=col>&lt;int&gt;</th><th scope=col>&lt;int&gt;</th><th scope=col>&lt;int&gt;</th></tr>\n",
              "</thead>\n",
              "<tbody>\n",
              "\t<tr><th scope=row>ENSG00000000003</th><td>679</td><td>448</td><td>873</td><td>408</td><td>1138</td><td>1047</td><td>770</td><td>572</td></tr>\n",
              "\t<tr><th scope=row>ENSG00000040341</th><td>635</td><td>448</td><td>800</td><td>432</td><td> 760</td><td> 859</td><td>524</td><td>593</td></tr>\n",
              "\t<tr><th scope=row>ENSG00000112759</th><td>643</td><td>448</td><td>931</td><td>505</td><td> 809</td><td> 836</td><td>722</td><td>662</td></tr>\n",
              "\t<tr><th scope=row>ENSG00000140474</th><td>355</td><td>448</td><td>274</td><td>213</td><td> 336</td><td> 469</td><td>294</td><td>350</td></tr>\n",
              "\t<tr><th scope=row>ENSG00000141141</th><td>537</td><td>448</td><td>602</td><td>326</td><td> 727</td><td> 717</td><td>445</td><td>484</td></tr>\n",
              "\t<tr><th scope=row>ENSG00000145743</th><td>470</td><td>448</td><td>623</td><td>394</td><td> 532</td><td> 624</td><td>512</td><td>649</td></tr>\n",
              "\t<tr><th scope=row>ENSG00000147471</th><td>445</td><td>448</td><td>587</td><td>444</td><td> 580</td><td> 802</td><td>542</td><td>596</td></tr>\n",
              "\t<tr><th scope=row>ENSG00000165097</th><td>697</td><td>448</td><td>740</td><td>408</td><td> 747</td><td> 889</td><td>644</td><td>592</td></tr>\n",
              "\t<tr><th scope=row>ENSG00000181220</th><td>427</td><td>448</td><td>505</td><td>288</td><td> 530</td><td> 672</td><td>343</td><td>431</td></tr>\n",
              "\t<tr><th scope=row>ENSG00000182400</th><td>497</td><td>448</td><td>672</td><td>448</td><td> 538</td><td> 649</td><td>533</td><td>578</td></tr>\n",
              "</tbody>\n",
              "</table>\n"
            ],
            "text/markdown": "\nA data.frame: 10 × 8\n\n| <!--/--> | SRR1039508 &lt;int&gt; | SRR1039509 &lt;int&gt; | SRR1039512 &lt;int&gt; | SRR1039513 &lt;int&gt; | SRR1039516 &lt;int&gt; | SRR1039517 &lt;int&gt; | SRR1039520 &lt;int&gt; | SRR1039521 &lt;int&gt; |\n|---|---|---|---|---|---|---|---|---|\n| ENSG00000000003 | 679 | 448 | 873 | 408 | 1138 | 1047 | 770 | 572 |\n| ENSG00000040341 | 635 | 448 | 800 | 432 |  760 |  859 | 524 | 593 |\n| ENSG00000112759 | 643 | 448 | 931 | 505 |  809 |  836 | 722 | 662 |\n| ENSG00000140474 | 355 | 448 | 274 | 213 |  336 |  469 | 294 | 350 |\n| ENSG00000141141 | 537 | 448 | 602 | 326 |  727 |  717 | 445 | 484 |\n| ENSG00000145743 | 470 | 448 | 623 | 394 |  532 |  624 | 512 | 649 |\n| ENSG00000147471 | 445 | 448 | 587 | 444 |  580 |  802 | 542 | 596 |\n| ENSG00000165097 | 697 | 448 | 740 | 408 |  747 |  889 | 644 | 592 |\n| ENSG00000181220 | 427 | 448 | 505 | 288 |  530 |  672 | 343 | 431 |\n| ENSG00000182400 | 497 | 448 | 672 | 448 |  538 |  649 | 533 | 578 |\n\n",
            "text/latex": "A data.frame: 10 × 8\n\\begin{tabular}{r|llllllll}\n  & SRR1039508 & SRR1039509 & SRR1039512 & SRR1039513 & SRR1039516 & SRR1039517 & SRR1039520 & SRR1039521\\\\\n  & <int> & <int> & <int> & <int> & <int> & <int> & <int> & <int>\\\\\n\\hline\n\tENSG00000000003 & 679 & 448 & 873 & 408 & 1138 & 1047 & 770 & 572\\\\\n\tENSG00000040341 & 635 & 448 & 800 & 432 &  760 &  859 & 524 & 593\\\\\n\tENSG00000112759 & 643 & 448 & 931 & 505 &  809 &  836 & 722 & 662\\\\\n\tENSG00000140474 & 355 & 448 & 274 & 213 &  336 &  469 & 294 & 350\\\\\n\tENSG00000141141 & 537 & 448 & 602 & 326 &  727 &  717 & 445 & 484\\\\\n\tENSG00000145743 & 470 & 448 & 623 & 394 &  532 &  624 & 512 & 649\\\\\n\tENSG00000147471 & 445 & 448 & 587 & 444 &  580 &  802 & 542 & 596\\\\\n\tENSG00000165097 & 697 & 448 & 740 & 408 &  747 &  889 & 644 & 592\\\\\n\tENSG00000181220 & 427 & 448 & 505 & 288 &  530 &  672 & 343 & 431\\\\\n\tENSG00000182400 & 497 & 448 & 672 & 448 &  538 &  649 & 533 & 578\\\\\n\\end{tabular}\n",
            "text/plain": [
              "                SRR1039508 SRR1039509 SRR1039512 SRR1039513 SRR1039516\n",
              "ENSG00000000003 679        448        873        408        1138      \n",
              "ENSG00000040341 635        448        800        432         760      \n",
              "ENSG00000112759 643        448        931        505         809      \n",
              "ENSG00000140474 355        448        274        213         336      \n",
              "ENSG00000141141 537        448        602        326         727      \n",
              "ENSG00000145743 470        448        623        394         532      \n",
              "ENSG00000147471 445        448        587        444         580      \n",
              "ENSG00000165097 697        448        740        408         747      \n",
              "ENSG00000181220 427        448        505        288         530      \n",
              "ENSG00000182400 497        448        672        448         538      \n",
              "                SRR1039517 SRR1039520 SRR1039521\n",
              "ENSG00000000003 1047       770        572       \n",
              "ENSG00000040341  859       524        593       \n",
              "ENSG00000112759  836       722        662       \n",
              "ENSG00000140474  469       294        350       \n",
              "ENSG00000141141  717       445        484       \n",
              "ENSG00000145743  624       512        649       \n",
              "ENSG00000147471  802       542        596       \n",
              "ENSG00000165097  889       644        592       \n",
              "ENSG00000181220  672       343        431       \n",
              "ENSG00000182400  649       533        578       "
            ]
          },
          "metadata": {}
        }
      ]
    },
    {
      "cell_type": "markdown",
      "source": [
        "# Visualization"
      ],
      "metadata": {
        "id": "ammEZ6hj0_i3"
      }
    },
    {
      "cell_type": "code",
      "source": [
        "library(ggplot2)\n",
        "# Scatter plot to visualize the relationship between SRR1039508 and SRR1039509\n",
        "ggplot(data, aes(x = SRR1039508, y = SRR1039509)) +\n",
        "  geom_point() +\n",
        "  labs(title = \"Scatter Plot of SRR1039508 vs SRR1039509\",\n",
        "       x = \"SRR1039508\",\n",
        "       y = \"SRR1039509\")"
      ],
      "metadata": {
        "colab": {
          "base_uri": "https://localhost:8080/",
          "height": 437
        },
        "id": "Ui4pVJ5u1Aqw",
        "outputId": "e6890e19-2e02-4da6-ec5e-ffc282398738"
      },
      "execution_count": 21,
      "outputs": [
        {
          "output_type": "display_data",
          "data": {
            "text/plain": [
              "plot without title"
            ],
            "image/png": "[encoded data removed]"
          },
          "metadata": {
            "image/png": {
              "width": 420,
              "height": 420
            }
          }
        }
      ]
    },
    {
      "cell_type": "code",
      "source": [
        "# Scatter plot of Average vs Average\n",
        "ggplot(mutated_data, aes(x = Average, y = Average)) +\n",
        "  geom_point() +\n",
        "  labs(title = \"Scatter Plot of Average vs Average\",\n",
        "       x = \"Average\",\n",
        "       y = \"Average\")"
      ],
      "metadata": {
        "colab": {
          "base_uri": "https://localhost:8080/",
          "height": 437
        },
        "id": "D30CMIiQa7BQ",
        "outputId": "ef4c6804-f9f1-4206-b10c-e1afe20e9b6f"
      },
      "execution_count": 22,
      "outputs": [
        {
          "output_type": "display_data",
          "data": {
            "text/plain": [
              "plot without title"
            ],
            "image/png": "[encoded data removed]"
          },
          "metadata": {
            "image/png": {
              "width": 420,
              "height": 420
            }
          }
        }
      ]
    },
    {
      "cell_type": "code",
      "source": [
        "# Gene Expression Levels Across Samples\n",
        "boxplot(new_data_frame, main = \"Gene Expression Levels Across Samples\", xlab = \"Samples\", ylab = \"Gene Expression\", col = \"lightblue\")\n"
      ],
      "metadata": {
        "colab": {
          "base_uri": "https://localhost:8080/",
          "height": 437
        },
        "id": "q8nVHapda_dz",
        "outputId": "189e45e6-4431-4a95-c344-511ebd5782d1"
      },
      "execution_count": 26,
      "outputs": [
        {
          "output_type": "display_data",
          "data": {
            "text/plain": [
              "Plot with title “Gene Expression Levels Across Samples”"
            ],
            "image/png": "[encoded data removed]"
          },
          "metadata": {
            "image/png": {
              "width": 420,
              "height": 420
            }
          }
        }
      ]
    },
    {
      "cell_type": "markdown",
      "source": [
        "# Hypothesis Testing"
      ],
      "metadata": {
        "id": "S6CdeWOjbkqN"
      }
    },
    {
      "cell_type": "code",
      "source": [
        "# Perform a Mann-Whitney U test between SRR1039508 and SRR1039509\n",
        "test_result <- wilcox.test(new_data_frame$SRR1039508, new_data_frame$SRR1039509)\n",
        "test_result"
      ],
      "metadata": {
        "colab": {
          "base_uri": "https://localhost:8080/",
          "height": 156
        },
        "id": "oH8qzlwDbVFO",
        "outputId": "8954105c-e0b0-4111-b68b-b0d3eff30859"
      },
      "execution_count": 28,
      "outputs": [
        {
          "output_type": "stream",
          "name": "stderr",
          "text": [
            "Warning message in wilcox.test.default(new_data_frame$SRR1039508, new_data_frame$SRR1039509):\n",
            "“cannot compute exact p-value with ties”\n"
          ]
        },
        {
          "output_type": "display_data",
          "data": {
            "text/plain": [
              "\n",
              "\tWilcoxon rank sum test with continuity correction\n",
              "\n",
              "data:  new_data_frame$SRR1039508 and new_data_frame$SRR1039509\n",
              "W = 70, p-value = 0.1153\n",
              "alternative hypothesis: true location shift is not equal to 0\n"
            ]
          },
          "metadata": {}
        }
      ]
    },
    {
      "cell_type": "code",
      "source": [
        "# P values across all samples\n",
        "\n",
        "# Get the list of sample columns\n",
        "sample_columns <- colnames(data)\n",
        "\n",
        "# Initialize an empty list to store p-values\n",
        "p_values <- list()\n",
        "\n",
        "# Perform pairwise Mann-Whitney U tests\n",
        "for(i in 1:(length(sample_columns) - 1)) {\n",
        "  for(j in (i + 1):length(sample_columns)) {\n",
        "    sample1 <- sample_columns[i]\n",
        "    sample2 <- sample_columns[j]\n",
        "\n",
        "    test_result <- wilcox.test(data[[sample1]], data[[sample2]])\n",
        "    p_values[[paste(sample1, sample2, sep = \"_vs_\")]] <- test_result$p.value\n",
        "  }\n",
        "}\n",
        "\n",
        "# Convert the p-values list to a data frame\n",
        "p_values_df <- as.data.frame(do.call(rbind, p_values), stringsAsFactors = FALSE)\n",
        "colnames(p_values_df) <- \"p_value\"\n",
        "p_values_df$comparison <- rownames(p_values_df)\n",
        "rownames(p_values_df) <- NULL\n",
        "# Create a bar plot of p-values\n",
        "ggplot(p_values_df, aes(x = comparison, y = p_value)) +\n",
        "  geom_bar(stat = \"identity\") +\n",
        "  theme(axis.text.x = element_text(angle = 90, hjust = 1)) +\n",
        "  labs(title = \"Mann-Whitney U Test P-values Across Sample Comparisons\",\n",
        "       x = \"Sample Comparison\",\n",
        "       y = \"P-value\")\n"
      ],
      "metadata": {
        "colab": {
          "base_uri": "https://localhost:8080/",
          "height": 437
        },
        "id": "ci8ZmuvhbwFS",
        "outputId": "10eebaa4-7472-49b6-cf1d-5f2496f524e3"
      },
      "execution_count": 34,
      "outputs": [
        {
          "output_type": "display_data",
          "data": {
            "text/plain": [
              "plot without title"
            ],
            "image/png": "[encoded data removed]"
          },
          "metadata": {
            "image/png": {
              "width": 420,
              "height": 420
            }
          }
        }
      ]
    },
    {
      "cell_type": "markdown",
      "source": [
        "# Questions"
      ],
      "metadata": {
        "id": "xq4kOU7ud_C3"
      }
    },
    {
      "cell_type": "markdown",
      "source": [
        "**1. How many genes and samples are present in the dataset? Are there any genes with zero expression in all samples?**"
      ],
      "metadata": {
        "id": "lmbizrJOeAp_"
      }
    },
    {
      "cell_type": "code",
      "source": [
        "num_genes <- nrow(data)\n",
        "num_samples <- ncol(data)\n",
        "\n",
        "# Check for genes with zero expression in all samples\n",
        "genes_zero_expression <- rowSums(data == 0) == num_samples\n",
        "\n",
        "# Count genes with zero expression in all samples\n",
        "num_genes_zero_expression <- sum(genes_zero_expression)\n",
        "\n",
        "print(paste(\"Genes: \", num_genes))\n",
        "print(paste(\"Samples: \", num_samples))\n",
        "print(paste(\"Genes with Zero Expression: \", num_genes_zero_expression))"
      ],
      "metadata": {
        "colab": {
          "base_uri": "https://localhost:8080/"
        },
        "id": "kcQpaMP6fiiJ",
        "outputId": "8c4693ff-b514-4f8e-bf1a-5e4a0fefce55"
      },
      "execution_count": 52,
      "outputs": [
        {
          "output_type": "stream",
          "name": "stdout",
          "text": [
            "[1] \"Genes:  64102\"\n",
            "[1] \"Samples:  9\"\n",
            "[1] \"Genes with Zero Expression:  30633\"\n"
          ]
        }
      ]
    },
    {
      "cell_type": "markdown",
      "source": [
        "**2. How many genes have an expression level of 0 in SRR1039508? How\n",
        "many genes have an expression level of 448 in SRR1039509 and greater\n",
        "than 0 in SRR1039508?**"
      ],
      "metadata": {
        "id": "Xpu0ugfFe1AL"
      }
    },
    {
      "cell_type": "code",
      "source": [
        "# Number of genes with an expression level of 0 in SRR1039508\n",
        "num_genes_srr1039508_zero <- sum(data$SRR1039508 == 0)\n",
        "\n",
        "# Number of genes with expression level of 448 in SRR1039509 and greater than 0 in SRR1039508\n",
        "num_genes_srr1039509_448_srr1039508_gt0 <- sum(data$SRR1039509 == 448 & data$SRR1039508 > 0)\n",
        "\n",
        "print(paste(\"Genes have an expression level of 0 in SRR1039508: \", num_genes_srr1039508_zero))\n",
        "print(paste(\"Genes have an expression level of 448 in SRR1039509 and greater than 0 in SRR1039508: \", num_genes_srr1039509_448_srr1039508_gt0))\n",
        "\n"
      ],
      "metadata": {
        "colab": {
          "base_uri": "https://localhost:8080/"
        },
        "id": "q3UhE3AxfnrZ",
        "outputId": "d91a6799-1942-4a32-da9c-2092c6b463de"
      },
      "execution_count": 53,
      "outputs": [
        {
          "output_type": "stream",
          "name": "stdout",
          "text": [
            "[1] \"Genes have an expression level of 0 in SRR1039508:  39469\"\n",
            "[1] \"Genes have an expression level of 448 in SRR1039509 and greater than 0 in SRR1039508:  10\"\n"
          ]
        }
      ]
    },
    {
      "cell_type": "markdown",
      "source": [
        "**3. Which gene has the highest mean expression? Which has the lowest\n",
        "standard deviation?**"
      ],
      "metadata": {
        "id": "Bt5O-lKKfWEA"
      }
    },
    {
      "cell_type": "code",
      "source": [
        "# Calculate mean and standard deviation for each gene across samples\n",
        "mean_expression <- rowMeans(data)\n",
        "sd_expression <- apply(data, 1, sd)\n",
        "\n",
        "# Gene with highest mean expression\n",
        "gene_highest_mean <- names(which.max(mean_expression))\n",
        "\n",
        "# Gene with lowest standard deviation\n",
        "gene_lowest_sd <- names(which.min(sd_expression))\n",
        "\n",
        "print(paste(\"Gene with Highest Mean Expression: \", gene_highest_mean))\n",
        "print(paste(\"Gene with Lowest Standard Deviation: \", gene_lowest_sd))"
      ],
      "metadata": {
        "colab": {
          "base_uri": "https://localhost:8080/"
        },
        "id": "qANx38XkeM_5",
        "outputId": "d0bebd9f-e9eb-49f1-f6a3-e5ce79ae3cd2"
      },
      "execution_count": 54,
      "outputs": [
        {
          "output_type": "stream",
          "name": "stdout",
          "text": [
            "[1] \"Gene with Highest Mean Expression:  ENSG00000115414\"\n",
            "[1] \"Gene with Lowest Standard Deviation:  ENSG00000000005\"\n"
          ]
        }
      ]
    },
    {
      "cell_type": "markdown",
      "source": [
        "**4. What does the dataset look like when arranged in ascending and\n",
        "descending order based on SRR1039508?**\n",
        "\n"
      ],
      "metadata": {
        "id": "jkhUjRQ1gAsR"
      }
    },
    {
      "cell_type": "code",
      "source": [
        "# Arrange the filtered dataset in ascending order based on SRR1039508\n",
        "arranged_data_asc <- arrange(filtered_data_2, SRR1039508)\n",
        "arranged_data_asc_head <- head(arranged_data_asc)\n",
        "\n",
        "# Arrange the filtered dataset in descending order based on SRR1039508\n",
        "arranged_data_desc <- arrange(filtered_data_2, desc(SRR1039508))\n",
        "arranged_data_desc_head <- head(arranged_data_desc)\n",
        "\n",
        "arranged_data_asc_head\n",
        "arranged_data_desc_head\n"
      ],
      "metadata": {
        "colab": {
          "base_uri": "https://localhost:8080/",
          "height": 555
        },
        "id": "ufgaZHWIeiFC",
        "outputId": "369d4bec-d70a-4226-8dbd-35b0ec44aada"
      },
      "execution_count": 47,
      "outputs": [
        {
          "output_type": "display_data",
          "data": {
            "text/html": [
              "<table class=\"dataframe\">\n",
              "<caption>A data.frame: 6 × 8</caption>\n",
              "<thead>\n",
              "\t<tr><th></th><th scope=col>SRR1039508</th><th scope=col>SRR1039509</th><th scope=col>SRR1039512</th><th scope=col>SRR1039513</th><th scope=col>SRR1039516</th><th scope=col>SRR1039517</th><th scope=col>SRR1039520</th><th scope=col>SRR1039521</th></tr>\n",
              "\t<tr><th></th><th scope=col>&lt;int&gt;</th><th scope=col>&lt;int&gt;</th><th scope=col>&lt;int&gt;</th><th scope=col>&lt;int&gt;</th><th scope=col>&lt;int&gt;</th><th scope=col>&lt;int&gt;</th><th scope=col>&lt;int&gt;</th><th scope=col>&lt;int&gt;</th></tr>\n",
              "</thead>\n",
              "<tbody>\n",
              "\t<tr><th scope=row>ENSG00000140474</th><td>355</td><td>448</td><td>274</td><td>213</td><td>336</td><td>469</td><td>294</td><td>350</td></tr>\n",
              "\t<tr><th scope=row>ENSG00000181220</th><td>427</td><td>448</td><td>505</td><td>288</td><td>530</td><td>672</td><td>343</td><td>431</td></tr>\n",
              "\t<tr><th scope=row>ENSG00000147471</th><td>445</td><td>448</td><td>587</td><td>444</td><td>580</td><td>802</td><td>542</td><td>596</td></tr>\n",
              "\t<tr><th scope=row>ENSG00000145743</th><td>470</td><td>448</td><td>623</td><td>394</td><td>532</td><td>624</td><td>512</td><td>649</td></tr>\n",
              "\t<tr><th scope=row>ENSG00000182400</th><td>497</td><td>448</td><td>672</td><td>448</td><td>538</td><td>649</td><td>533</td><td>578</td></tr>\n",
              "\t<tr><th scope=row>ENSG00000141141</th><td>537</td><td>448</td><td>602</td><td>326</td><td>727</td><td>717</td><td>445</td><td>484</td></tr>\n",
              "</tbody>\n",
              "</table>\n"
            ],
            "text/markdown": "\nA data.frame: 6 × 8\n\n| <!--/--> | SRR1039508 &lt;int&gt; | SRR1039509 &lt;int&gt; | SRR1039512 &lt;int&gt; | SRR1039513 &lt;int&gt; | SRR1039516 &lt;int&gt; | SRR1039517 &lt;int&gt; | SRR1039520 &lt;int&gt; | SRR1039521 &lt;int&gt; |\n|---|---|---|---|---|---|---|---|---|\n| ENSG00000140474 | 355 | 448 | 274 | 213 | 336 | 469 | 294 | 350 |\n| ENSG00000181220 | 427 | 448 | 505 | 288 | 530 | 672 | 343 | 431 |\n| ENSG00000147471 | 445 | 448 | 587 | 444 | 580 | 802 | 542 | 596 |\n| ENSG00000145743 | 470 | 448 | 623 | 394 | 532 | 624 | 512 | 649 |\n| ENSG00000182400 | 497 | 448 | 672 | 448 | 538 | 649 | 533 | 578 |\n| ENSG00000141141 | 537 | 448 | 602 | 326 | 727 | 717 | 445 | 484 |\n\n",
            "text/latex": "A data.frame: 6 × 8\n\\begin{tabular}{r|llllllll}\n  & SRR1039508 & SRR1039509 & SRR1039512 & SRR1039513 & SRR1039516 & SRR1039517 & SRR1039520 & SRR1039521\\\\\n  & <int> & <int> & <int> & <int> & <int> & <int> & <int> & <int>\\\\\n\\hline\n\tENSG00000140474 & 355 & 448 & 274 & 213 & 336 & 469 & 294 & 350\\\\\n\tENSG00000181220 & 427 & 448 & 505 & 288 & 530 & 672 & 343 & 431\\\\\n\tENSG00000147471 & 445 & 448 & 587 & 444 & 580 & 802 & 542 & 596\\\\\n\tENSG00000145743 & 470 & 448 & 623 & 394 & 532 & 624 & 512 & 649\\\\\n\tENSG00000182400 & 497 & 448 & 672 & 448 & 538 & 649 & 533 & 578\\\\\n\tENSG00000141141 & 537 & 448 & 602 & 326 & 727 & 717 & 445 & 484\\\\\n\\end{tabular}\n",
            "text/plain": [
              "                SRR1039508 SRR1039509 SRR1039512 SRR1039513 SRR1039516\n",
              "ENSG00000140474 355        448        274        213        336       \n",
              "ENSG00000181220 427        448        505        288        530       \n",
              "ENSG00000147471 445        448        587        444        580       \n",
              "ENSG00000145743 470        448        623        394        532       \n",
              "ENSG00000182400 497        448        672        448        538       \n",
              "ENSG00000141141 537        448        602        326        727       \n",
              "                SRR1039517 SRR1039520 SRR1039521\n",
              "ENSG00000140474 469        294        350       \n",
              "ENSG00000181220 672        343        431       \n",
              "ENSG00000147471 802        542        596       \n",
              "ENSG00000145743 624        512        649       \n",
              "ENSG00000182400 649        533        578       \n",
              "ENSG00000141141 717        445        484       "
            ]
          },
          "metadata": {}
        },
        {
          "output_type": "display_data",
          "data": {
            "text/html": [
              "<table class=\"dataframe\">\n",
              "<caption>A data.frame: 6 × 8</caption>\n",
              "<thead>\n",
              "\t<tr><th></th><th scope=col>SRR1039508</th><th scope=col>SRR1039509</th><th scope=col>SRR1039512</th><th scope=col>SRR1039513</th><th scope=col>SRR1039516</th><th scope=col>SRR1039517</th><th scope=col>SRR1039520</th><th scope=col>SRR1039521</th></tr>\n",
              "\t<tr><th></th><th scope=col>&lt;int&gt;</th><th scope=col>&lt;int&gt;</th><th scope=col>&lt;int&gt;</th><th scope=col>&lt;int&gt;</th><th scope=col>&lt;int&gt;</th><th scope=col>&lt;int&gt;</th><th scope=col>&lt;int&gt;</th><th scope=col>&lt;int&gt;</th></tr>\n",
              "</thead>\n",
              "<tbody>\n",
              "\t<tr><th scope=row>ENSG00000165097</th><td>697</td><td>448</td><td>740</td><td>408</td><td> 747</td><td> 889</td><td>644</td><td>592</td></tr>\n",
              "\t<tr><th scope=row>ENSG00000000003</th><td>679</td><td>448</td><td>873</td><td>408</td><td>1138</td><td>1047</td><td>770</td><td>572</td></tr>\n",
              "\t<tr><th scope=row>ENSG00000112759</th><td>643</td><td>448</td><td>931</td><td>505</td><td> 809</td><td> 836</td><td>722</td><td>662</td></tr>\n",
              "\t<tr><th scope=row>ENSG00000040341</th><td>635</td><td>448</td><td>800</td><td>432</td><td> 760</td><td> 859</td><td>524</td><td>593</td></tr>\n",
              "\t<tr><th scope=row>ENSG00000141141</th><td>537</td><td>448</td><td>602</td><td>326</td><td> 727</td><td> 717</td><td>445</td><td>484</td></tr>\n",
              "\t<tr><th scope=row>ENSG00000182400</th><td>497</td><td>448</td><td>672</td><td>448</td><td> 538</td><td> 649</td><td>533</td><td>578</td></tr>\n",
              "</tbody>\n",
              "</table>\n"
            ],
            "text/markdown": "\nA data.frame: 6 × 8\n\n| <!--/--> | SRR1039508 &lt;int&gt; | SRR1039509 &lt;int&gt; | SRR1039512 &lt;int&gt; | SRR1039513 &lt;int&gt; | SRR1039516 &lt;int&gt; | SRR1039517 &lt;int&gt; | SRR1039520 &lt;int&gt; | SRR1039521 &lt;int&gt; |\n|---|---|---|---|---|---|---|---|---|\n| ENSG00000165097 | 697 | 448 | 740 | 408 |  747 |  889 | 644 | 592 |\n| ENSG00000000003 | 679 | 448 | 873 | 408 | 1138 | 1047 | 770 | 572 |\n| ENSG00000112759 | 643 | 448 | 931 | 505 |  809 |  836 | 722 | 662 |\n| ENSG00000040341 | 635 | 448 | 800 | 432 |  760 |  859 | 524 | 593 |\n| ENSG00000141141 | 537 | 448 | 602 | 326 |  727 |  717 | 445 | 484 |\n| ENSG00000182400 | 497 | 448 | 672 | 448 |  538 |  649 | 533 | 578 |\n\n",
            "text/latex": "A data.frame: 6 × 8\n\\begin{tabular}{r|llllllll}\n  & SRR1039508 & SRR1039509 & SRR1039512 & SRR1039513 & SRR1039516 & SRR1039517 & SRR1039520 & SRR1039521\\\\\n  & <int> & <int> & <int> & <int> & <int> & <int> & <int> & <int>\\\\\n\\hline\n\tENSG00000165097 & 697 & 448 & 740 & 408 &  747 &  889 & 644 & 592\\\\\n\tENSG00000000003 & 679 & 448 & 873 & 408 & 1138 & 1047 & 770 & 572\\\\\n\tENSG00000112759 & 643 & 448 & 931 & 505 &  809 &  836 & 722 & 662\\\\\n\tENSG00000040341 & 635 & 448 & 800 & 432 &  760 &  859 & 524 & 593\\\\\n\tENSG00000141141 & 537 & 448 & 602 & 326 &  727 &  717 & 445 & 484\\\\\n\tENSG00000182400 & 497 & 448 & 672 & 448 &  538 &  649 & 533 & 578\\\\\n\\end{tabular}\n",
            "text/plain": [
              "                SRR1039508 SRR1039509 SRR1039512 SRR1039513 SRR1039516\n",
              "ENSG00000165097 697        448        740        408         747      \n",
              "ENSG00000000003 679        448        873        408        1138      \n",
              "ENSG00000112759 643        448        931        505         809      \n",
              "ENSG00000040341 635        448        800        432         760      \n",
              "ENSG00000141141 537        448        602        326         727      \n",
              "ENSG00000182400 497        448        672        448         538      \n",
              "                SRR1039517 SRR1039520 SRR1039521\n",
              "ENSG00000165097  889       644        592       \n",
              "ENSG00000000003 1047       770        572       \n",
              "ENSG00000112759  836       722        662       \n",
              "ENSG00000040341  859       524        593       \n",
              "ENSG00000141141  717       445        484       \n",
              "ENSG00000182400  649       533        578       "
            ]
          },
          "metadata": {}
        }
      ]
    },
    {
      "cell_type": "markdown",
      "source": [
        "**5. What can you infer from the scatter plots about the relationship between SRR1039508 and SRR1039509, and the distribution of average gene\n",
        "expression?**\n",
        "\n",
        "Scatter Plot of SRR1039508 vs SRR1039509:\n",
        "   \n",
        "   - **Positive Correlation**: There is a clear positive correlation between the two samples. As the expression level in SRR1039508 increases, the expression level in SRR1039509 also increases.\n",
        "   - **Cluster of Points Near the Origin**: A significant number of points are clustered near the origin, indicating that many genes have low expression levels in both samples.\n",
        "   - **Outliers**: There are a few points that are far from the main cluster, suggesting that some genes have high expression levels in both samples, which could indicate key genes of interest or potential outliers.\n",
        "\n",
        "Scatter Plot of Average vs Average:\n",
        "\n",
        "   - **Perfect Correlation**: The points lie perfectly on the diagonal line, indicating a perfect correlation.\n",
        "   - **Uniform Distribution**: The distribution of points along the diagonal suggests that the average expression values span a wide range, from low to high values."
      ],
      "metadata": {
        "id": "5b7ZBJM7gMiY"
      }
    },
    {
      "cell_type": "markdown",
      "source": [
        "**6. Based on the Mann-Whitney U test results, is there a significant\n",
        "difference in expression levels between SRR1039508 and SRR1039509?**\n",
        "\n",
        "Given that the p-value (0.1153) is greater than the significance level of 0.05, we fail to reject the null hypothesis. This means that there is not enough evidence to conclude that there is a significant difference in expression levels between SRR1039508 and SRR1039509."
      ],
      "metadata": {
        "id": "yfJcT2ynhuwO"
      }
    }
  ]
}